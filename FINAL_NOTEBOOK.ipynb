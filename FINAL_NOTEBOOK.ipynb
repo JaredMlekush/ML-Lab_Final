{
  "cells": [
    {
      "cell_type": "markdown",
      "source": "# Jared Mlekush - Project",
      "metadata": {
        "tags": [],
        "cell_id": "00000-ff02690c-975b-4fac-aa9d-f9b1995292ff",
        "deepnote_cell_type": "markdown"
      }
    },
    {
      "cell_type": "code",
      "metadata": {
        "tags": [],
        "cell_id": "00000-22b3750a-1072-47e2-b31d-f0151864a1a2",
        "deepnote_to_be_reexecuted": false,
        "source_hash": "6001d09a",
        "execution_millis": 1,
        "execution_start": 1615535459026,
        "deepnote_cell_type": "code"
      },
      "source": "import pandas as pd\nimport numpy as np\nimport matplotlib.pyplot as plt\nfrom sklearn.model_selection        import train_test_split, RandomizedSearchCV, cross_val_score, cross_val_predict\nfrom sklearn.impute                 import SimpleImputer\nfrom sklearn.preprocessing          import StandardScaler, OneHotEncoder\nfrom sklearn.compose                import ColumnTransformer\nfrom sklearn.pipeline               import Pipeline\nfrom sklearn.linear_model           import LogisticRegression, SGDClassifier, PassiveAggressiveClassifier, RidgeClassifier\nfrom sklearn.neighbors              import KNeighborsClassifier, NearestCentroid\nfrom sklearn.ensemble               import RandomForestClassifier, ExtraTreesClassifier, IsolationForest\nfrom sklearn.tree                   import DecisionTreeClassifier\nfrom sklearn.metrics                import f1_score\nfrom sklearn.base                   import BaseEstimator\nfrom sklearn.decomposition          import PCA\nfrom sklearn.cluster                import KMeans\nfrom sklearn.cluster                import SpectralClustering\nfrom sklearn                        import metrics\nfrom scipy.spatial.distance         import cdist\nfrom sklearn.metrics                import accuracy_score\n\nimport warnings\nwarnings.filterwarnings('ignore')\n%matplotlib inline",
      "execution_count": 157,
      "outputs": []
    },
    {
      "cell_type": "code",
      "metadata": {
        "tags": [],
        "cell_id": "00001-9cfb2d07-6432-4722-a2ed-e3e8722fa67c",
        "deepnote_to_be_reexecuted": false,
        "source_hash": "4c455e9a",
        "execution_millis": 13,
        "execution_start": 1615535459537,
        "deepnote_cell_type": "code"
      },
      "source": "# Read in data and drop duplicates\npokemon_df = pd.read_csv('pokemon.csv')\npokemon_df.drop_duplicates()\n\n# Make Supervised Learning problem by taking a column from the dataframe and making it our target variable\ny = pokemon_df['Generation']\nX = pokemon_df.drop('Generation', axis=1)",
      "execution_count": 158,
      "outputs": []
    },
    {
      "cell_type": "code",
      "metadata": {
        "tags": [],
        "cell_id": "00003-cdd941a7-ca5d-4959-b59c-d613a07fb5c9",
        "deepnote_to_be_reexecuted": false,
        "source_hash": "f82a2b89",
        "execution_millis": 1,
        "execution_start": 1615538859289,
        "deepnote_cell_type": "code"
      },
      "source": "# Split up the data - create a train, validation and test split\nX_train, X_test, y_train, y_test = train_test_split(X, y, test_size=0.25)\nX_train_2, X_validation, y_train_2, y_validation = train_test_split(X_train, y_train, test_size=0.25)",
      "execution_count": 163,
      "outputs": []
    },
    {
      "cell_type": "code",
      "metadata": {
        "tags": [],
        "cell_id": "00005-f4595550-a25c-45b3-bf30-33e16f2efa13",
        "deepnote_to_be_reexecuted": false,
        "source_hash": "e04c195d",
        "execution_millis": 2,
        "execution_start": 1615535460696,
        "deepnote_cell_type": "code"
      },
      "source": "# Define specific columns to be fed into the pipelines. Different pipelines to deal with different types of variables- leaving out columns that don't make sense to include\nnum_columns = ['Number','Total', 'HP', 'Attack', 'Defense', 'Sp_Atk', 'Sp_Def', 'Speed', 'Height_m', 'Catch_Rate']\ncat_columns = ['Name', 'Type_1', 'Type_2', 'Color', 'Egg_Group_1', 'Egg_Group_2', 'Body_Style']",
      "execution_count": 160,
      "outputs": []
    },
    {
      "cell_type": "code",
      "metadata": {
        "tags": [],
        "cell_id": "00004-5d297fa7-5e65-49d8-bb21-730579037311",
        "deepnote_to_be_reexecuted": false,
        "source_hash": "6db66fbf",
        "execution_millis": 2,
        "execution_start": 1615535461825,
        "deepnote_cell_type": "code"
      },
      "source": "# To deal with categorical variables - utilizes One Hot Encoding \ncat_pipe = Pipeline([ ('imputer', SimpleImputer(strategy='constant', fill_value='missing')),\n                      ('ohe', OneHotEncoder(handle_unknown='ignore'))])\n\n# To deal with numerical variables - utilize Standard Scaler\nnum_pipe = Pipeline([('imputer', SimpleImputer(strategy='median')),\n                      ('scaler', StandardScaler())])\n\n# Put together in column transformer and take care of both data types at the same time\npreprocessing = ColumnTransformer([('categorical', cat_pipe,  cat_columns),\n                                   ('numerical',  num_pipe, num_columns)])\n",
      "execution_count": 161,
      "outputs": []
    },
    {
      "cell_type": "code",
      "metadata": {
        "tags": [],
        "cell_id": "00007-e1a8969d-2b24-4e1f-a39b-ea94d9168d06",
        "deepnote_to_be_reexecuted": false,
        "source_hash": "237f7471",
        "execution_millis": 966,
        "execution_start": 1615535463921,
        "deepnote_cell_type": "code"
      },
      "source": "# Now in the format we want - fit on several different algorithms, and assess baseline models\nalgorithms = algos = [RandomForestClassifier(),\n             ExtraTreesClassifier(),\n             IsolationForest(),\n             LogisticRegression(),\n             PassiveAggressiveClassifier(),\n             RidgeClassifier(),\n             SGDClassifier()]\n\nresults = dict()\n\nfor algo in algorithms:\n    pipe = Pipeline([('preprocessing', preprocessing), \n                     ('clf', algo)])\n\n    pipe.fit(X_train_2, y_train_2)\n    y_pred = pipe.predict(X_validation)\n    f1_test  = f1_score(y_validation, y_pred, average='weighted')\n    accuracy = accuracy_score(y_validation, y_pred)\n    print(f\"{algo.__class__.__name__:<17} - f1_score: {f1_test:,.2f}\")\n    print(f\"{algo.__class__.__name__:<17} - accuracy: {accuracy:,.2f}\\n\")",
      "execution_count": 162,
      "outputs": [
        {
          "name": "stdout",
          "text": "RandomForestClassifier - f1_score: 0.71\nRandomForestClassifier - accuracy: 0.73\n\nExtraTreesClassifier - f1_score: 0.62\nExtraTreesClassifier - accuracy: 0.64\n\nIsolationForest   - f1_score: 0.04\nIsolationForest   - accuracy: 0.16\n\nLogisticRegression - f1_score: 0.69\nLogisticRegression - accuracy: 0.70\n\nPassiveAggressiveClassifier - f1_score: 0.58\nPassiveAggressiveClassifier - accuracy: 0.59\n\nRidgeClassifier   - f1_score: 0.46\nRidgeClassifier   - accuracy: 0.50\n\nSGDClassifier     - f1_score: 0.56\nSGDClassifier     - accuracy: 0.57\n\n",
          "output_type": "stream"
        }
      ]
    },
    {
      "cell_type": "code",
      "metadata": {
        "tags": [],
        "cell_id": "00008-66ca04a0-3383-4b87-8883-c7c915c4efa7",
        "deepnote_to_be_reexecuted": false,
        "source_hash": "16a342a6",
        "execution_millis": 1,
        "execution_start": 1615528936203,
        "deepnote_cell_type": "code"
      },
      "source": "# Create a pipeline with a \"placeholder\". Will use pipeline to feed in particular algorithms and their hyperparametes in \"search_space\"\nclass DummyEstimator(BaseEstimator):\n    def fit(self): pass\n    def score(self): pass\n\npipe = Pipeline([('preprocessing', preprocessing), \n                 ('clf', DummyEstimator())])",
      "execution_count": 49,
      "outputs": []
    },
    {
      "cell_type": "code",
      "metadata": {
        "tags": [],
        "cell_id": "00009-e3a2e453-6221-422a-b4d2-fe06e4d9f55c",
        "deepnote_to_be_reexecuted": false,
        "source_hash": "bd147f1d",
        "execution_millis": 1,
        "execution_start": 1615528936674,
        "deepnote_cell_type": "code"
      },
      "source": "# Algorithms and their respective hyperparameters to be searched through\nsearch_space = [{'clf': [LogisticRegression()], \n                 'clf__penalty': ['l1', 'l2'],\n                 'clf__C': np.logspace(0, 4, 10),\n                 'clf__multi_class' : ['auto', 'multinomial', 'ovr'],\n                 'clf__solver' : ['newton-cg', 'lbfgs'],\n                 'clf__class_weight' : ['balanced', None]},\n                \n                {'clf': [ExtraTreesClassifier()],\n                'clf__bootstrap': [False,True],\n                'clf__class_weight': [None, 'balanced'],\n                'clf__criterion': ['gini', 'entropy'],\n                'clf__max_depth': [50, 100, 150, 200, 500],\n                'clf__max_features': ['auto','sqrt', 'log2'],\n                'clf__min_samples_leaf': [1,2,3],\n                'clf__min_weight_fraction_leaf': [0.0, 0.1],\n                'clf__n_estimators': [10,100,500]},\n\n                {'clf': [PassiveAggressiveClassifier()],\n                'clf__max_iter': [100, 500, 1000, 1500],\n                'clf__early_stopping': [False,True],\n                'clf__shuffle': [False,True],\n                'clf__warm_start': [False,True]}\n                ]",
      "execution_count": 50,
      "outputs": []
    },
    {
      "cell_type": "code",
      "metadata": {
        "tags": [],
        "cell_id": "00010-80f8beaa-7677-4957-adac-7d62b7c7cf51",
        "deepnote_to_be_reexecuted": false,
        "source_hash": "de9e5576",
        "execution_millis": 3,
        "execution_start": 1615528937427,
        "deepnote_cell_type": "code"
      },
      "source": "# RandomizedSearchCV: fixed number of parameter settings is sampled from the specified distributions, number of samples tried is dictated by n_iter\nclf_algos_rand = RandomizedSearchCV(estimator=pipe, \n                                    param_distributions=search_space, \n                                    n_iter=100,\n                                    cv=10, \n                                    n_jobs=-1,\n                                    verbose=1)",
      "execution_count": 51,
      "outputs": []
    },
    {
      "cell_type": "code",
      "metadata": {
        "tags": [],
        "cell_id": "00011-2fd3f371-7bf6-4a29-ba20-efc4f7b1dffa",
        "deepnote_to_be_reexecuted": false,
        "source_hash": "90e84ee9",
        "execution_millis": 206069,
        "execution_start": 1615528938914,
        "deepnote_cell_type": "code"
      },
      "source": "# Fit search\nbest_model = clf_algos_rand.fit(X_train_2, y_train_2);\n\n# View best model\nbest_model.best_estimator_.get_params()['clf']\n",
      "execution_count": 52,
      "outputs": [
        {
          "name": "stdout",
          "text": "Fitting 10 folds for each of 100 candidates, totalling 1000 fits\n",
          "output_type": "stream"
        },
        {
          "output_type": "execute_result",
          "execution_count": 52,
          "data": {
            "text/plain": "LogisticRegression(C=464.15888336127773, multi_class='multinomial',\n                   solver='newton-cg')"
          },
          "metadata": {}
        }
      ]
    },
    {
      "cell_type": "code",
      "metadata": {
        "tags": [],
        "cell_id": "00012-d9da494e-0ff8-422b-b004-ea07cea8d4e6",
        "deepnote_to_be_reexecuted": false,
        "source_hash": "9d9e3ca",
        "execution_millis": 1,
        "execution_start": 1615534978281,
        "deepnote_cell_type": "code"
      },
      "source": "# After Iterating through the search space and fitting a total of 1000 times (in my case specifically), best model is extracted and used (with hyper-parameters tuned)\npipe = Pipeline([('preprocessing', preprocessing),\n                ('lr', LogisticRegression(C=464.15888336127773, class_weight='balanced', multi_class='multinomial', solver='newton-cg'))])",
      "execution_count": 111,
      "outputs": []
    },
    {
      "cell_type": "code",
      "metadata": {
        "tags": [],
        "cell_id": "00013-b5b8ea66-f18f-4f07-8800-bbd3358d85b6",
        "deepnote_to_be_reexecuted": false,
        "source_hash": "d7b8b96a",
        "execution_millis": 7619,
        "execution_start": 1615534992902,
        "deepnote_cell_type": "code"
      },
      "source": "# Harmonic mean - since there is a the data is slightly unbalanced (though not bad)\ncv_acc_score = cross_val_score(pipe, X_train, y_train, cv=25,scoring='f1_weighted')\nprint(\"Mean 20-Fold F1: {}\".format(np.mean(cv_acc_score)))\n# Prediction of generation pokemon is from is of trivail importance. Using accuracy is an appropriate measure.\ncv_acc_score = cross_val_score(pipe, X_train, y_train, cv=25,scoring='accuracy')\nprint(\"Mean 20-Fold accuracy: {}\".format(np.mean(cv_acc_score)))",
      "execution_count": 113,
      "outputs": [
        {
          "name": "stdout",
          "text": "Mean 20-Fold F1: 0.7902681858785755\nMean 20-Fold accuracy: 0.7979220779220779\n",
          "output_type": "stream"
        }
      ]
    },
    {
      "cell_type": "code",
      "metadata": {
        "tags": [],
        "cell_id": "00014-703b594e-73be-4288-8c91-0c31817700bf",
        "deepnote_to_be_reexecuted": false,
        "source_hash": "e5111101",
        "execution_millis": 2,
        "execution_start": 1615532404687,
        "deepnote_cell_type": "code"
      },
      "source": "# Apply clustering\npipe = Pipeline([('preprocessing', preprocessing),\n                ('k-mean', KMeans(n_clusters=12)),\n                ('clm',  LogisticRegression(C=464.15888336127773, class_weight='balanced', multi_class='multinomial', solver='newton-cg'))])",
      "execution_count": 101,
      "outputs": []
    },
    {
      "cell_type": "code",
      "metadata": {
        "tags": [],
        "cell_id": "00015-bbb117b6-06be-433b-98c9-3b17c4bc627b",
        "deepnote_to_be_reexecuted": false,
        "source_hash": "6b1c18c8",
        "execution_millis": 24641,
        "execution_start": 1615532452377,
        "deepnote_cell_type": "code"
      },
      "source": "# Test out f1_score and accuracy on the newly clusterd data\ncv_f1_score = cross_val_score(pipe, X_train, y_train, cv=25,scoring='f1_weighted')\nprint(\"Mean 20-Fold f1_score: {}\".format(np.mean(cv_f1_score)))\ncv_acc_score = cross_val_score(pipe, X_train, y_train, cv=25,scoring='accuracy')\nprint(\"Mean 20-Fold accuracy: {}\".format(np.mean(cv_acc_score)))",
      "execution_count": 103,
      "outputs": [
        {
          "name": "stdout",
          "text": "Mean 20-Fold f1_score: 0.8657512290499304\nMean 20-Fold accuracy: 0.8457142857142859\n",
          "output_type": "stream"
        }
      ]
    },
    {
      "cell_type": "code",
      "source": "# Final model\nfinal_model = LogisticRegression(C=464.15888336127773,         # C is inverse of regularization strength. Lower number = stronger regularization\n                  class_weight='balanced',                     # class_weight= 'balanced' uses the values of y to automatically adjust weights inversely proportional to class frequencies in the input data\n                  multi_class='multinomial',                   # multi_class= 'multinomial' lets us use logistic regression for a multiclass problem not just binary class\n                  solver='newton-cg')                          # solver='newton-cg' uses that algorithm/ minimizer",
      "metadata": {
        "tags": [],
        "cell_id": "00015-d2d75249-52a7-47a7-a04b-640ba20c27f1",
        "deepnote_to_be_reexecuted": false,
        "source_hash": "21c56568",
        "execution_start": 1615533800453,
        "execution_millis": 0,
        "deepnote_cell_type": "code"
      },
      "outputs": [],
      "execution_count": 104
    },
    {
      "cell_type": "code",
      "source": "# Final pipeline\npipe = Pipeline([('preprocessing', preprocessing),\n                ('k-mean', KMeans(n_clusters=15)),\n                ('clm',  final_model)])",
      "metadata": {
        "tags": [],
        "cell_id": "00017-f5cde3d4-f3ff-4e5a-a39d-a301389953c4",
        "deepnote_to_be_reexecuted": false,
        "source_hash": "25dc0b67",
        "execution_millis": 2,
        "execution_start": 1615535133433,
        "deepnote_cell_type": "code"
      },
      "outputs": [],
      "execution_count": 118
    },
    {
      "cell_type": "code",
      "source": "# Final metrics\ncv_f1_score = cross_val_score(pipe, X_test, y_test, cv=25,scoring='f1_weighted')\nprint(\"Mean 20-Fold f1_score: {}\".format(np.mean(cv_f1_score)))\ncv_acc_score = cross_val_score(pipe, X_test, y_test, cv=25,scoring='accuracy')\nprint(\"Mean 20-Fold accuracy: {}\".format(np.mean(cv_acc_score)))",
      "metadata": {
        "tags": [],
        "cell_id": "00018-d021cf2c-a321-40af-a269-b98a9df14ea9",
        "deepnote_to_be_reexecuted": false,
        "source_hash": "f9723c35",
        "execution_millis": 21967,
        "execution_start": 1615535134113,
        "deepnote_cell_type": "code"
      },
      "outputs": [
        {
          "name": "stdout",
          "text": "Mean 20-Fold f1_score: 0.6820714285714286\nMean 20-Fold accuracy: 0.7235714285714286\n",
          "output_type": "stream"
        }
      ],
      "execution_count": 119
    },
    {
      "cell_type": "code",
      "source": "",
      "metadata": {
        "tags": [],
        "cell_id": "00019-c95f38ee-4238-4212-8fd0-258314683f53",
        "deepnote_cell_type": "code"
      },
      "outputs": [],
      "execution_count": null
    },
    {
      "cell_type": "markdown",
      "source": "<a style='text-decoration:none;line-height:16px;display:flex;color:#5B5B62;padding:10px;justify-content:end;' href='https://deepnote.com?utm_source=created-in-deepnote-cell&projectId=ccb00087-ba61-4db1-ba97-3a0ee74eb21a' target=\"_blank\">\n<img style='display:inline;max-height:16px;margin:0px;margin-right:7.5px;' src='data:image/svg+xml;base64,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' > </img>\nCreated in <span style='font-weight:600;margin-left:4px;'>Deepnote</span></a>",
      "metadata": {
        "tags": [],
        "created_in_deepnote_cell": true,
        "deepnote_cell_type": "markdown"
      }
    }
  ],
  "nbformat": 4,
  "nbformat_minor": 2,
  "metadata": {
    "orig_nbformat": 2,
    "deepnote_notebook_id": "ec32ee53-06f6-4a41-9781-0c974a9b17db",
    "deepnote": {},
    "deepnote_execution_queue": []
  }
}
