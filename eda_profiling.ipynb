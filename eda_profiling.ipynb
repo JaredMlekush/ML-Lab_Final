{
  "cells": [
    {
      "cell_type": "code",
      "metadata": {
        "tags": [],
        "cell_id": "00001-b1325706-98e2-415c-ac95-4a2762b19ad2",
        "deepnote_to_be_reexecuted": false,
        "source_hash": "2b447eda",
        "execution_millis": 24245,
        "execution_start": 1615245362583,
        "deepnote_cell_type": "code"
      },
      "source": "%pip install pandas_profiling",
      "execution_count": null,
      "outputs": [
        {
          "name": "stdout",
          "text": "Collecting pandas_profiling\n  Downloading pandas_profiling-2.11.0-py2.py3-none-any.whl (243 kB)\n\u001b[K     |████████████████████████████████| 243 kB 17.6 MB/s \n\u001b[?25hCollecting htmlmin>=0.1.12\n  Downloading htmlmin-0.1.12.tar.gz (19 kB)\nRequirement already satisfied: tqdm>=4.48.2 in /shared-libs/python3.7/py/lib/python3.7/site-packages (from pandas_profiling) (4.58.0)\nCollecting missingno>=0.4.2\n  Downloading missingno-0.4.2-py3-none-any.whl (9.7 kB)\nRequirement already satisfied: matplotlib>=3.2.0 in /shared-libs/python3.7/py/lib/python3.7/site-packages (from pandas_profiling) (3.3.4)\nRequirement already satisfied: requests>=2.24.0 in /shared-libs/python3.7/py/lib/python3.7/site-packages (from pandas_profiling) (2.25.1)\nRequirement already satisfied: pandas!=1.0.0,!=1.0.1,!=1.0.2,!=1.1.0,>=0.25.3 in /shared-libs/python3.7/py/lib/python3.7/site-packages (from pandas_profiling) (1.2.3)\nCollecting phik>=0.10.0\n  Downloading phik-0.11.2.tar.gz (1.1 MB)\n\u001b[K     |████████████████████████████████| 1.1 MB 75.3 MB/s \n\u001b[?25hRequirement already satisfied: seaborn>=0.10.1 in /shared-libs/python3.7/py/lib/python3.7/site-packages (from pandas_profiling) (0.11.1)\nRequirement already satisfied: jinja2>=2.11.1 in /shared-libs/python3.7/py-core/lib/python3.7/site-packages (from pandas_profiling) (2.11.3)\nRequirement already satisfied: joblib in /shared-libs/python3.7/py/lib/python3.7/site-packages (from pandas_profiling) (1.0.1)\nRequirement already satisfied: scipy>=1.4.1 in /shared-libs/python3.7/py/lib/python3.7/site-packages (from pandas_profiling) (1.6.1)\nCollecting visions[type_image_path]==0.6.0\n  Downloading visions-0.6.0-py3-none-any.whl (75 kB)\n\u001b[K     |████████████████████████████████| 75 kB 7.4 MB/s \n\u001b[?25hRequirement already satisfied: numpy>=1.16.0 in /shared-libs/python3.7/py/lib/python3.7/site-packages (from pandas_profiling) (1.19.5)\nCollecting ipywidgets>=7.5.1\n  Downloading ipywidgets-7.6.3-py2.py3-none-any.whl (121 kB)\n\u001b[K     |████████████████████████████████| 121 kB 14.2 MB/s \n\u001b[?25hCollecting tangled-up-in-unicode>=0.0.6\n  Downloading tangled_up_in_unicode-0.0.6-py3-none-any.whl (3.1 MB)\n\u001b[K     |████████████████████████████████| 3.1 MB 56.3 MB/s \n\u001b[?25hRequirement already satisfied: attrs>=19.3.0 in /shared-libs/python3.7/py-core/lib/python3.7/site-packages (from pandas_profiling) (20.3.0)\nCollecting confuse>=1.0.0\n  Downloading confuse-1.4.0-py2.py3-none-any.whl (21 kB)\nRequirement already satisfied: python-dateutil>=2.1 in /shared-libs/python3.7/py-core/lib/python3.7/site-packages (from matplotlib>=3.2.0->pandas_profiling) (2.8.1)\nRequirement already satisfied: pyparsing!=2.0.4,!=2.1.2,!=2.1.6,>=2.0.3 in /shared-libs/python3.7/py-core/lib/python3.7/site-packages (from matplotlib>=3.2.0->pandas_profiling) (2.4.7)\nRequirement already satisfied: cycler>=0.10 in /shared-libs/python3.7/py/lib/python3.7/site-packages (from matplotlib>=3.2.0->pandas_profiling) (0.10.0)\nRequirement already satisfied: pillow>=6.2.0 in /shared-libs/python3.7/py/lib/python3.7/site-packages (from matplotlib>=3.2.0->pandas_profiling) (8.1.1)\nRequirement already satisfied: kiwisolver>=1.0.1 in /shared-libs/python3.7/py/lib/python3.7/site-packages (from matplotlib>=3.2.0->pandas_profiling) (1.3.1)\nRequirement already satisfied: urllib3<1.27,>=1.21.1 in /shared-libs/python3.7/py/lib/python3.7/site-packages (from requests>=2.24.0->pandas_profiling) (1.26.3)\nRequirement already satisfied: chardet<5,>=3.0.2 in /shared-libs/python3.7/py/lib/python3.7/site-packages (from requests>=2.24.0->pandas_profiling) (3.0.4)\nRequirement already satisfied: certifi>=2017.4.17 in /shared-libs/python3.7/py/lib/python3.7/site-packages (from requests>=2.24.0->pandas_profiling) (2020.12.5)\nRequirement already satisfied: idna<3,>=2.5 in /shared-libs/python3.7/py/lib/python3.7/site-packages (from requests>=2.24.0->pandas_profiling) (2.10)\nRequirement already satisfied: pytz>=2017.3 in /shared-libs/python3.7/py/lib/python3.7/site-packages (from pandas!=1.0.0,!=1.0.1,!=1.0.2,!=1.1.0,>=0.25.3->pandas_profiling) (2021.1)\nRequirement already satisfied: MarkupSafe>=0.23 in /shared-libs/python3.7/py-core/lib/python3.7/site-packages (from jinja2>=2.11.1->pandas_profiling) (1.1.1)\nCollecting networkx>=2.4\n  Downloading networkx-2.5-py3-none-any.whl (1.6 MB)\n\u001b[K     |████████████████████████████████| 1.6 MB 34.6 MB/s \n\u001b[?25hCollecting imagehash; extra == \"type_image_path\"\n  Downloading ImageHash-4.2.0-py2.py3-none-any.whl (295 kB)\n\u001b[K     |████████████████████████████████| 295 kB 76.9 MB/s \n\u001b[?25hRequirement already satisfied: ipython>=4.0.0; python_version >= \"3.3\" in /shared-libs/python3.7/py-core/lib/python3.7/site-packages (from ipywidgets>=7.5.1->pandas_profiling) (7.21.0)\nRequirement already satisfied: nbformat>=4.2.0 in /shared-libs/python3.7/py-core/lib/python3.7/site-packages (from ipywidgets>=7.5.1->pandas_profiling) (5.1.2)\nCollecting jupyterlab-widgets>=1.0.0; python_version >= \"3.6\"\n  Downloading jupyterlab_widgets-1.0.0-py3-none-any.whl (243 kB)\n\u001b[K     |████████████████████████████████| 243 kB 52.7 MB/s \n\u001b[?25hRequirement already satisfied: traitlets>=4.3.1 in /shared-libs/python3.7/py-core/lib/python3.7/site-packages (from ipywidgets>=7.5.1->pandas_profiling) (5.0.5)\nRequirement already satisfied: ipykernel>=4.5.1 in /shared-libs/python3.7/py-core/lib/python3.7/site-packages (from ipywidgets>=7.5.1->pandas_profiling) (5.5.0)\nCollecting widgetsnbextension~=3.5.0\n  Downloading widgetsnbextension-3.5.1-py2.py3-none-any.whl (2.2 MB)\n\u001b[K     |████████████████████████████████| 2.2 MB 75.4 MB/s \n\u001b[?25hRequirement already satisfied: pyyaml in /shared-libs/python3.7/py/lib/python3.7/site-packages (from confuse>=1.0.0->pandas_profiling) (5.4.1)\nRequirement already satisfied: six>=1.5 in /shared-libs/python3.7/py-core/lib/python3.7/site-packages (from python-dateutil>=2.1->matplotlib>=3.2.0->pandas_profiling) (1.15.0)\nRequirement already satisfied: decorator>=4.3.0 in /shared-libs/python3.7/py-core/lib/python3.7/site-packages (from networkx>=2.4->visions[type_image_path]==0.6.0->pandas_profiling) (4.4.2)\nCollecting PyWavelets\n  Downloading PyWavelets-1.1.1-cp37-cp37m-manylinux1_x86_64.whl (4.4 MB)\n\u001b[K     |████████████████████████████████| 4.4 MB 68.4 MB/s \n\u001b[?25hRequirement already satisfied: pickleshare in /shared-libs/python3.7/py-core/lib/python3.7/site-packages (from ipython>=4.0.0; python_version >= \"3.3\"->ipywidgets>=7.5.1->pandas_profiling) (0.7.5)\nRequirement already satisfied: jedi>=0.16 in /shared-libs/python3.7/py-core/lib/python3.7/site-packages (from ipython>=4.0.0; python_version >= \"3.3\"->ipywidgets>=7.5.1->pandas_profiling) (0.17.2)\nRequirement already satisfied: setuptools>=18.5 in /root/venv/lib/python3.7/site-packages (from ipython>=4.0.0; python_version >= \"3.3\"->ipywidgets>=7.5.1->pandas_profiling) (47.1.0)\nRequirement already satisfied: pexpect>4.3; sys_platform != \"win32\" in /shared-libs/python3.7/py-core/lib/python3.7/site-packages (from ipython>=4.0.0; python_version >= \"3.3\"->ipywidgets>=7.5.1->pandas_profiling) (4.8.0)\nRequirement already satisfied: backcall in /shared-libs/python3.7/py-core/lib/python3.7/site-packages (from ipython>=4.0.0; python_version >= \"3.3\"->ipywidgets>=7.5.1->pandas_profiling) (0.2.0)\nRequirement already satisfied: pygments in /shared-libs/python3.7/py-core/lib/python3.7/site-packages (from ipython>=4.0.0; python_version >= \"3.3\"->ipywidgets>=7.5.1->pandas_profiling) (2.8.0)\nRequirement already satisfied: prompt-toolkit!=3.0.0,!=3.0.1,<3.1.0,>=2.0.0 in /shared-libs/python3.7/py-core/lib/python3.7/site-packages (from ipython>=4.0.0; python_version >= \"3.3\"->ipywidgets>=7.5.1->pandas_profiling) (3.0.16)\nRequirement already satisfied: jsonschema!=2.5.0,>=2.4 in /shared-libs/python3.7/py-core/lib/python3.7/site-packages (from nbformat>=4.2.0->ipywidgets>=7.5.1->pandas_profiling) (3.2.0)\nRequirement already satisfied: jupyter-core in /shared-libs/python3.7/py-core/lib/python3.7/site-packages (from nbformat>=4.2.0->ipywidgets>=7.5.1->pandas_profiling) (4.7.1)\nRequirement already satisfied: ipython-genutils in /shared-libs/python3.7/py-core/lib/python3.7/site-packages (from nbformat>=4.2.0->ipywidgets>=7.5.1->pandas_profiling) (0.2.0)\nRequirement already satisfied: tornado>=4.2 in /shared-libs/python3.7/py-core/lib/python3.7/site-packages (from ipykernel>=4.5.1->ipywidgets>=7.5.1->pandas_profiling) (6.1)\nRequirement already satisfied: jupyter-client in /shared-libs/python3.7/py-core/lib/python3.7/site-packages (from ipykernel>=4.5.1->ipywidgets>=7.5.1->pandas_profiling) (6.1.11)\nRequirement already satisfied: notebook>=4.4.1 in /shared-libs/python3.7/py-core/lib/python3.7/site-packages (from widgetsnbextension~=3.5.0->ipywidgets>=7.5.1->pandas_profiling) (7.0.0.dev0)\nRequirement already satisfied: parso<0.8.0,>=0.7.0 in /shared-libs/python3.7/py-core/lib/python3.7/site-packages (from jedi>=0.16->ipython>=4.0.0; python_version >= \"3.3\"->ipywidgets>=7.5.1->pandas_profiling) (0.7.1)\nRequirement already satisfied: ptyprocess>=0.5 in /shared-libs/python3.7/py-core/lib/python3.7/site-packages (from pexpect>4.3; sys_platform != \"win32\"->ipython>=4.0.0; python_version >= \"3.3\"->ipywidgets>=7.5.1->pandas_profiling) (0.7.0)\nRequirement already satisfied: wcwidth in /shared-libs/python3.7/py-core/lib/python3.7/site-packages (from prompt-toolkit!=3.0.0,!=3.0.1,<3.1.0,>=2.0.0->ipython>=4.0.0; python_version >= \"3.3\"->ipywidgets>=7.5.1->pandas_profiling) (0.2.5)\nRequirement already satisfied: pyrsistent>=0.14.0 in /shared-libs/python3.7/py-core/lib/python3.7/site-packages (from jsonschema!=2.5.0,>=2.4->nbformat>=4.2.0->ipywidgets>=7.5.1->pandas_profiling) (0.17.3)\nRequirement already satisfied: importlib-metadata; python_version < \"3.8\" in /shared-libs/python3.7/py-core/lib/python3.7/site-packages (from jsonschema!=2.5.0,>=2.4->nbformat>=4.2.0->ipywidgets>=7.5.1->pandas_profiling) (3.7.0)\nRequirement already satisfied: pyzmq>=13 in /shared-libs/python3.7/py-core/lib/python3.7/site-packages (from jupyter-client->ipykernel>=4.5.1->ipywidgets>=7.5.1->pandas_profiling) (22.0.3)\nRequirement already satisfied: argon2-cffi in /shared-libs/python3.7/py-core/lib/python3.7/site-packages (from notebook>=4.4.1->widgetsnbextension~=3.5.0->ipywidgets>=7.5.1->pandas_profiling) (20.1.0)\nRequirement already satisfied: nbconvert in /shared-libs/python3.7/py-core/lib/python3.7/site-packages (from notebook>=4.4.1->widgetsnbextension~=3.5.0->ipywidgets>=7.5.1->pandas_profiling) (6.0.7)\nRequirement already satisfied: Send2Trash>=1.5.0 in /shared-libs/python3.7/py-core/lib/python3.7/site-packages (from notebook>=4.4.1->widgetsnbextension~=3.5.0->ipywidgets>=7.5.1->pandas_profiling) (1.5.0)\nRequirement already satisfied: prometheus-client in /shared-libs/python3.7/py-core/lib/python3.7/site-packages (from notebook>=4.4.1->widgetsnbextension~=3.5.0->ipywidgets>=7.5.1->pandas_profiling) (0.9.0)\nRequirement already satisfied: terminado>=0.8.3 in /shared-libs/python3.7/py-core/lib/python3.7/site-packages (from notebook>=4.4.1->widgetsnbextension~=3.5.0->ipywidgets>=7.5.1->pandas_profiling) (0.9.2)\nRequirement already satisfied: zipp>=0.5 in /shared-libs/python3.7/py-core/lib/python3.7/site-packages (from importlib-metadata; python_version < \"3.8\"->jsonschema!=2.5.0,>=2.4->nbformat>=4.2.0->ipywidgets>=7.5.1->pandas_profiling) (3.4.0)\nRequirement already satisfied: typing-extensions>=3.6.4; python_version < \"3.8\" in /shared-libs/python3.7/py-core/lib/python3.7/site-packages (from importlib-metadata; python_version < \"3.8\"->jsonschema!=2.5.0,>=2.4->nbformat>=4.2.0->ipywidgets>=7.5.1->pandas_profiling) (3.7.4.3)\nRequirement already satisfied: cffi>=1.0.0 in /shared-libs/python3.7/py-core/lib/python3.7/site-packages (from argon2-cffi->notebook>=4.4.1->widgetsnbextension~=3.5.0->ipywidgets>=7.5.1->pandas_profiling) (1.14.5)\nRequirement already satisfied: entrypoints>=0.2.2 in /shared-libs/python3.7/py-core/lib/python3.7/site-packages (from nbconvert->notebook>=4.4.1->widgetsnbextension~=3.5.0->ipywidgets>=7.5.1->pandas_profiling) (0.3)\nRequirement already satisfied: jupyterlab-pygments in /shared-libs/python3.7/py-core/lib/python3.7/site-packages (from nbconvert->notebook>=4.4.1->widgetsnbextension~=3.5.0->ipywidgets>=7.5.1->pandas_profiling) (0.1.2)\nRequirement already satisfied: testpath in /shared-libs/python3.7/py-core/lib/python3.7/site-packages (from nbconvert->notebook>=4.4.1->widgetsnbextension~=3.5.0->ipywidgets>=7.5.1->pandas_profiling) (0.4.4)\nRequirement already satisfied: pandocfilters>=1.4.1 in /shared-libs/python3.7/py-core/lib/python3.7/site-packages (from nbconvert->notebook>=4.4.1->widgetsnbextension~=3.5.0->ipywidgets>=7.5.1->pandas_profiling) (1.4.3)\nRequirement already satisfied: nbclient<0.6.0,>=0.5.0 in /shared-libs/python3.7/py-core/lib/python3.7/site-packages (from nbconvert->notebook>=4.4.1->widgetsnbextension~=3.5.0->ipywidgets>=7.5.1->pandas_profiling) (0.5.3)\nRequirement already satisfied: defusedxml in /shared-libs/python3.7/py-core/lib/python3.7/site-packages (from nbconvert->notebook>=4.4.1->widgetsnbextension~=3.5.0->ipywidgets>=7.5.1->pandas_profiling) (0.7.0)\nRequirement already satisfied: mistune<2,>=0.8.1 in /shared-libs/python3.7/py-core/lib/python3.7/site-packages (from nbconvert->notebook>=4.4.1->widgetsnbextension~=3.5.0->ipywidgets>=7.5.1->pandas_profiling) (0.8.4)\nRequirement already satisfied: bleach in /shared-libs/python3.7/py-core/lib/python3.7/site-packages (from nbconvert->notebook>=4.4.1->widgetsnbextension~=3.5.0->ipywidgets>=7.5.1->pandas_profiling) (3.3.0)\nRequirement already satisfied: pycparser in /shared-libs/python3.7/py-core/lib/python3.7/site-packages (from cffi>=1.0.0->argon2-cffi->notebook>=4.4.1->widgetsnbextension~=3.5.0->ipywidgets>=7.5.1->pandas_profiling) (2.20)\nRequirement already satisfied: nest-asyncio in /shared-libs/python3.7/py-core/lib/python3.7/site-packages (from nbclient<0.6.0,>=0.5.0->nbconvert->notebook>=4.4.1->widgetsnbextension~=3.5.0->ipywidgets>=7.5.1->pandas_profiling) (1.5.1)\nRequirement already satisfied: async-generator in /shared-libs/python3.7/py-core/lib/python3.7/site-packages (from nbclient<0.6.0,>=0.5.0->nbconvert->notebook>=4.4.1->widgetsnbextension~=3.5.0->ipywidgets>=7.5.1->pandas_profiling) (1.10)\nRequirement already satisfied: packaging in /shared-libs/python3.7/py-core/lib/python3.7/site-packages (from bleach->nbconvert->notebook>=4.4.1->widgetsnbextension~=3.5.0->ipywidgets>=7.5.1->pandas_profiling) (20.9)\nRequirement already satisfied: webencodings in /shared-libs/python3.7/py-core/lib/python3.7/site-packages (from bleach->nbconvert->notebook>=4.4.1->widgetsnbextension~=3.5.0->ipywidgets>=7.5.1->pandas_profiling) (0.5.1)\nBuilding wheels for collected packages: htmlmin, phik\n  Building wheel for htmlmin (setup.py) ... \u001b[?25ldone\n\u001b[?25h  Created wheel for htmlmin: filename=htmlmin-0.1.12-py3-none-any.whl size=27085 sha256=2f600879aede11ca46e32d69305f3ef916d98e7d209a28d881948a99c207c1d9\n  Stored in directory: /root/.cache/pip/wheels/70/e1/52/5b14d250ba868768823940c3229e9950d201a26d0bd3ee8655\n  Building wheel for phik (setup.py) ... \u001b[?25ldone\n\u001b[?25h  Created wheel for phik: filename=phik-0.11.2-py3-none-any.whl size=1107412 sha256=aaa238ec94971498e8ea644a857dedee1b5a258cb4d68d977943f8ba75022455\n  Stored in directory: /root/.cache/pip/wheels/40/98/a3/b654f24edcdcdb87d1f70d65a506fcfdf15289db129c594bcd\nSuccessfully built htmlmin phik\nInstalling collected packages: htmlmin, missingno, phik, tangled-up-in-unicode, networkx, PyWavelets, imagehash, visions, jupyterlab-widgets, widgetsnbextension, ipywidgets, confuse, pandas-profiling\nSuccessfully installed PyWavelets-1.1.1 confuse-1.4.0 htmlmin-0.1.12 imagehash-4.2.0 ipywidgets-7.6.3 jupyterlab-widgets-1.0.0 missingno-0.4.2 networkx-2.5 pandas-profiling-2.11.0 phik-0.11.2 tangled-up-in-unicode-0.0.6 visions-0.6.0 widgetsnbextension-3.5.1\n\u001b[33mWARNING: You are using pip version 20.1.1; however, version 21.0.1 is available.\nYou should consider upgrading via the '/usr/local/bin/python -m pip install --upgrade pip' command.\u001b[0m\nNote: you may need to restart the kernel to use updated packages.\n",
          "output_type": "stream"
        }
      ]
    },
    {
      "cell_type": "code",
      "metadata": {
        "tags": [],
        "cell_id": "00001-1d35fc8e-32d3-4377-bf97-0ea7f9114e33",
        "deepnote_to_be_reexecuted": false,
        "source_hash": "9fbd0c99",
        "execution_start": 1615245416857,
        "execution_millis": 3348,
        "deepnote_cell_type": "code"
      },
      "source": "import numpy as np\nimport pandas as pd\nfrom pandas_profiling import ProfileReport",
      "execution_count": null,
      "outputs": []
    },
    {
      "cell_type": "code",
      "metadata": {
        "cell_id": "00001-2c8c0615-96a5-4c7f-a2a4-57ee566b9799",
        "deepnote_to_be_reexecuted": false,
        "source_hash": "729c70bc",
        "execution_millis": 0,
        "execution_start": 1615245459398,
        "deepnote_cell_type": "code"
      },
      "source": "df_x = pd.read_csv('pokemon.csv')",
      "execution_count": null,
      "outputs": []
    },
    {
      "cell_type": "code",
      "metadata": {
        "cell_id": "00002-f62c2b32-3f88-46ae-8517-e8e574ba1aad",
        "deepnote_to_be_reexecuted": false,
        "source_hash": "5cc3decc",
        "execution_start": 1615245462119,
        "execution_millis": 98,
        "deepnote_cell_type": "code"
      },
      "source": "df_x.head()",
      "execution_count": null,
      "outputs": [
        {
          "output_type": "execute_result",
          "execution_count": 7,
          "data": {
            "application/vnd.deepnote.dataframe.v2+json": {
              "row_count": 5,
              "column_count": 23,
              "columns": [
                {
                  "name": "Number",
                  "dtype": "int64",
                  "stats": {
                    "unique_count": 5,
                    "nan_count": 0,
                    "min": 1,
                    "max": 5,
                    "histogram": [
                      {
                        "bin_start": 1,
                        "bin_end": 1.4,
                        "count": 1
                      },
                      {
                        "bin_start": 1.4,
                        "bin_end": 1.8,
                        "count": 0
                      },
                      {
                        "bin_start": 1.8,
                        "bin_end": 2.2,
                        "count": 1
                      },
                      {
                        "bin_start": 2.2,
                        "bin_end": 2.6,
                        "count": 0
                      },
                      {
                        "bin_start": 2.6,
                        "bin_end": 3,
                        "count": 0
                      },
                      {
                        "bin_start": 3,
                        "bin_end": 3.4000000000000004,
                        "count": 1
                      },
                      {
                        "bin_start": 3.4000000000000004,
                        "bin_end": 3.8000000000000003,
                        "count": 0
                      },
                      {
                        "bin_start": 3.8000000000000003,
                        "bin_end": 4.2,
                        "count": 1
                      },
                      {
                        "bin_start": 4.2,
                        "bin_end": 4.6,
                        "count": 0
                      },
                      {
                        "bin_start": 4.6,
                        "bin_end": 5,
                        "count": 1
                      }
                    ]
                  }
                },
                {
                  "name": "Name",
                  "dtype": "object",
                  "stats": {
                    "unique_count": 5,
                    "nan_count": 0,
                    "categories": [
                      {
                        "name": "Bulbasaur",
                        "count": 1
                      },
                      {
                        "name": "Ivysaur",
                        "count": 1
                      },
                      {
                        "name": "3 others",
                        "count": 3
                      }
                    ]
                  }
                },
                {
                  "name": "Type_1",
                  "dtype": "object",
                  "stats": {
                    "unique_count": 2,
                    "nan_count": 0,
                    "categories": [
                      {
                        "name": "Grass",
                        "count": 3
                      },
                      {
                        "name": "Fire",
                        "count": 2
                      }
                    ]
                  }
                },
                {
                  "name": "Type_2",
                  "dtype": "object",
                  "stats": {
                    "unique_count": 1,
                    "nan_count": 2,
                    "categories": [
                      {
                        "name": "Poison",
                        "count": 3
                      },
                      {
                        "name": "Missing",
                        "count": 2
                      }
                    ]
                  }
                },
                {
                  "name": "Total",
                  "dtype": "int64",
                  "stats": {
                    "unique_count": 4,
                    "nan_count": 0,
                    "min": 309,
                    "max": 525,
                    "histogram": [
                      {
                        "bin_start": 309,
                        "bin_end": 330.6,
                        "count": 2
                      },
                      {
                        "bin_start": 330.6,
                        "bin_end": 352.2,
                        "count": 0
                      },
                      {
                        "bin_start": 352.2,
                        "bin_end": 373.8,
                        "count": 0
                      },
                      {
                        "bin_start": 373.8,
                        "bin_end": 395.4,
                        "count": 0
                      },
                      {
                        "bin_start": 395.4,
                        "bin_end": 417,
                        "count": 2
                      },
                      {
                        "bin_start": 417,
                        "bin_end": 438.6,
                        "count": 0
                      },
                      {
                        "bin_start": 438.6,
                        "bin_end": 460.20000000000005,
                        "count": 0
                      },
                      {
                        "bin_start": 460.20000000000005,
                        "bin_end": 481.8,
                        "count": 0
                      },
                      {
                        "bin_start": 481.8,
                        "bin_end": 503.4,
                        "count": 0
                      },
                      {
                        "bin_start": 503.4,
                        "bin_end": 525,
                        "count": 1
                      }
                    ]
                  }
                },
                {
                  "name": "HP",
                  "dtype": "int64",
                  "stats": {
                    "unique_count": 5,
                    "nan_count": 0,
                    "min": 39,
                    "max": 80,
                    "histogram": [
                      {
                        "bin_start": 39,
                        "bin_end": 43.1,
                        "count": 1
                      },
                      {
                        "bin_start": 43.1,
                        "bin_end": 47.2,
                        "count": 1
                      },
                      {
                        "bin_start": 47.2,
                        "bin_end": 51.3,
                        "count": 0
                      },
                      {
                        "bin_start": 51.3,
                        "bin_end": 55.4,
                        "count": 0
                      },
                      {
                        "bin_start": 55.4,
                        "bin_end": 59.5,
                        "count": 1
                      },
                      {
                        "bin_start": 59.5,
                        "bin_end": 63.599999999999994,
                        "count": 1
                      },
                      {
                        "bin_start": 63.599999999999994,
                        "bin_end": 67.69999999999999,
                        "count": 0
                      },
                      {
                        "bin_start": 67.69999999999999,
                        "bin_end": 71.8,
                        "count": 0
                      },
                      {
                        "bin_start": 71.8,
                        "bin_end": 75.9,
                        "count": 0
                      },
                      {
                        "bin_start": 75.9,
                        "bin_end": 80,
                        "count": 1
                      }
                    ]
                  }
                },
                {
                  "name": "Attack",
                  "dtype": "int64",
                  "stats": {
                    "unique_count": 5,
                    "nan_count": 0,
                    "min": 49,
                    "max": 82,
                    "histogram": [
                      {
                        "bin_start": 49,
                        "bin_end": 52.3,
                        "count": 2
                      },
                      {
                        "bin_start": 52.3,
                        "bin_end": 55.6,
                        "count": 0
                      },
                      {
                        "bin_start": 55.6,
                        "bin_end": 58.9,
                        "count": 0
                      },
                      {
                        "bin_start": 58.9,
                        "bin_end": 62.2,
                        "count": 1
                      },
                      {
                        "bin_start": 62.2,
                        "bin_end": 65.5,
                        "count": 1
                      },
                      {
                        "bin_start": 65.5,
                        "bin_end": 68.8,
                        "count": 0
                      },
                      {
                        "bin_start": 68.8,
                        "bin_end": 72.1,
                        "count": 0
                      },
                      {
                        "bin_start": 72.1,
                        "bin_end": 75.4,
                        "count": 0
                      },
                      {
                        "bin_start": 75.4,
                        "bin_end": 78.7,
                        "count": 0
                      },
                      {
                        "bin_start": 78.7,
                        "bin_end": 82,
                        "count": 1
                      }
                    ]
                  }
                },
                {
                  "name": "Defense",
                  "dtype": "int64",
                  "stats": {
                    "unique_count": 5,
                    "nan_count": 0,
                    "min": 43,
                    "max": 83,
                    "histogram": [
                      {
                        "bin_start": 43,
                        "bin_end": 47,
                        "count": 1
                      },
                      {
                        "bin_start": 47,
                        "bin_end": 51,
                        "count": 1
                      },
                      {
                        "bin_start": 51,
                        "bin_end": 55,
                        "count": 0
                      },
                      {
                        "bin_start": 55,
                        "bin_end": 59,
                        "count": 1
                      },
                      {
                        "bin_start": 59,
                        "bin_end": 63,
                        "count": 0
                      },
                      {
                        "bin_start": 63,
                        "bin_end": 67,
                        "count": 1
                      },
                      {
                        "bin_start": 67,
                        "bin_end": 71,
                        "count": 0
                      },
                      {
                        "bin_start": 71,
                        "bin_end": 75,
                        "count": 0
                      },
                      {
                        "bin_start": 75,
                        "bin_end": 79,
                        "count": 0
                      },
                      {
                        "bin_start": 79,
                        "bin_end": 83,
                        "count": 1
                      }
                    ]
                  }
                },
                {
                  "name": "Sp_Atk",
                  "dtype": "int64",
                  "stats": {
                    "unique_count": 4,
                    "nan_count": 0,
                    "min": 60,
                    "max": 100,
                    "histogram": [
                      {
                        "bin_start": 60,
                        "bin_end": 64,
                        "count": 1
                      },
                      {
                        "bin_start": 64,
                        "bin_end": 68,
                        "count": 1
                      },
                      {
                        "bin_start": 68,
                        "bin_end": 72,
                        "count": 0
                      },
                      {
                        "bin_start": 72,
                        "bin_end": 76,
                        "count": 0
                      },
                      {
                        "bin_start": 76,
                        "bin_end": 80,
                        "count": 0
                      },
                      {
                        "bin_start": 80,
                        "bin_end": 84,
                        "count": 2
                      },
                      {
                        "bin_start": 84,
                        "bin_end": 88,
                        "count": 0
                      },
                      {
                        "bin_start": 88,
                        "bin_end": 92,
                        "count": 0
                      },
                      {
                        "bin_start": 92,
                        "bin_end": 96,
                        "count": 0
                      },
                      {
                        "bin_start": 96,
                        "bin_end": 100,
                        "count": 1
                      }
                    ]
                  }
                },
                {
                  "name": "Sp_Def",
                  "dtype": "int64",
                  "stats": {
                    "unique_count": 4,
                    "nan_count": 0,
                    "min": 50,
                    "max": 100,
                    "histogram": [
                      {
                        "bin_start": 50,
                        "bin_end": 55,
                        "count": 1
                      },
                      {
                        "bin_start": 55,
                        "bin_end": 60,
                        "count": 0
                      },
                      {
                        "bin_start": 60,
                        "bin_end": 65,
                        "count": 0
                      },
                      {
                        "bin_start": 65,
                        "bin_end": 70,
                        "count": 2
                      },
                      {
                        "bin_start": 70,
                        "bin_end": 75,
                        "count": 0
                      },
                      {
                        "bin_start": 75,
                        "bin_end": 80,
                        "count": 0
                      },
                      {
                        "bin_start": 80,
                        "bin_end": 85,
                        "count": 1
                      },
                      {
                        "bin_start": 85,
                        "bin_end": 90,
                        "count": 0
                      },
                      {
                        "bin_start": 90,
                        "bin_end": 95,
                        "count": 0
                      },
                      {
                        "bin_start": 95,
                        "bin_end": 100,
                        "count": 1
                      }
                    ]
                  }
                },
                {
                  "name": "Speed",
                  "dtype": "int64",
                  "stats": {
                    "unique_count": 4,
                    "nan_count": 0,
                    "min": 45,
                    "max": 80,
                    "histogram": [
                      {
                        "bin_start": 45,
                        "bin_end": 48.5,
                        "count": 1
                      },
                      {
                        "bin_start": 48.5,
                        "bin_end": 52,
                        "count": 0
                      },
                      {
                        "bin_start": 52,
                        "bin_end": 55.5,
                        "count": 0
                      },
                      {
                        "bin_start": 55.5,
                        "bin_end": 59,
                        "count": 0
                      },
                      {
                        "bin_start": 59,
                        "bin_end": 62.5,
                        "count": 1
                      },
                      {
                        "bin_start": 62.5,
                        "bin_end": 66,
                        "count": 1
                      },
                      {
                        "bin_start": 66,
                        "bin_end": 69.5,
                        "count": 0
                      },
                      {
                        "bin_start": 69.5,
                        "bin_end": 73,
                        "count": 0
                      },
                      {
                        "bin_start": 73,
                        "bin_end": 76.5,
                        "count": 0
                      },
                      {
                        "bin_start": 76.5,
                        "bin_end": 80,
                        "count": 2
                      }
                    ]
                  }
                },
                {
                  "name": "Generation",
                  "dtype": "int64",
                  "stats": {
                    "unique_count": 1,
                    "nan_count": 0,
                    "min": 1,
                    "max": 1,
                    "histogram": [
                      {
                        "bin_start": 0.5,
                        "bin_end": 0.6,
                        "count": 0
                      },
                      {
                        "bin_start": 0.6,
                        "bin_end": 0.7,
                        "count": 0
                      },
                      {
                        "bin_start": 0.7,
                        "bin_end": 0.8,
                        "count": 0
                      },
                      {
                        "bin_start": 0.8,
                        "bin_end": 0.9,
                        "count": 0
                      },
                      {
                        "bin_start": 0.9,
                        "bin_end": 1,
                        "count": 0
                      },
                      {
                        "bin_start": 1,
                        "bin_end": 1.1,
                        "count": 5
                      },
                      {
                        "bin_start": 1.1,
                        "bin_end": 1.2000000000000002,
                        "count": 0
                      },
                      {
                        "bin_start": 1.2000000000000002,
                        "bin_end": 1.3,
                        "count": 0
                      },
                      {
                        "bin_start": 1.3,
                        "bin_end": 1.4,
                        "count": 0
                      },
                      {
                        "bin_start": 1.4,
                        "bin_end": 1.5,
                        "count": 0
                      }
                    ]
                  }
                },
                {
                  "name": "isLegendary",
                  "dtype": "bool",
                  "stats": {
                    "unique_count": 1,
                    "nan_count": 0,
                    "categories": [
                      {
                        "name": "False",
                        "count": 5
                      }
                    ]
                  }
                },
                {
                  "name": "Color",
                  "dtype": "object",
                  "stats": {
                    "unique_count": 2,
                    "nan_count": 0,
                    "categories": [
                      {
                        "name": "Green",
                        "count": 3
                      },
                      {
                        "name": "Red",
                        "count": 2
                      }
                    ]
                  }
                },
                {
                  "name": "hasGender",
                  "dtype": "bool",
                  "stats": {
                    "unique_count": 1,
                    "nan_count": 0,
                    "categories": [
                      {
                        "name": "True",
                        "count": 5
                      }
                    ]
                  }
                },
                {
                  "name": "Pr_Male",
                  "dtype": "float64",
                  "stats": {
                    "unique_count": 1,
                    "nan_count": 0,
                    "min": 0.875,
                    "max": 0.875,
                    "histogram": [
                      {
                        "bin_start": 0.375,
                        "bin_end": 0.475,
                        "count": 0
                      },
                      {
                        "bin_start": 0.475,
                        "bin_end": 0.575,
                        "count": 0
                      },
                      {
                        "bin_start": 0.575,
                        "bin_end": 0.675,
                        "count": 0
                      },
                      {
                        "bin_start": 0.675,
                        "bin_end": 0.775,
                        "count": 0
                      },
                      {
                        "bin_start": 0.775,
                        "bin_end": 0.875,
                        "count": 0
                      },
                      {
                        "bin_start": 0.875,
                        "bin_end": 0.9750000000000001,
                        "count": 5
                      },
                      {
                        "bin_start": 0.9750000000000001,
                        "bin_end": 1.0750000000000002,
                        "count": 0
                      },
                      {
                        "bin_start": 1.0750000000000002,
                        "bin_end": 1.175,
                        "count": 0
                      },
                      {
                        "bin_start": 1.175,
                        "bin_end": 1.275,
                        "count": 0
                      },
                      {
                        "bin_start": 1.275,
                        "bin_end": 1.375,
                        "count": 0
                      }
                    ]
                  }
                },
                {
                  "name": "Egg_Group_1",
                  "dtype": "object",
                  "stats": {
                    "unique_count": 1,
                    "nan_count": 0,
                    "categories": [
                      {
                        "name": "Monster",
                        "count": 5
                      }
                    ]
                  }
                },
                {
                  "name": "Egg_Group_2",
                  "dtype": "object",
                  "stats": {
                    "unique_count": 2,
                    "nan_count": 0,
                    "categories": [
                      {
                        "name": "Grass",
                        "count": 3
                      },
                      {
                        "name": "Dragon",
                        "count": 2
                      }
                    ]
                  }
                },
                {
                  "name": "hasMegaEvolution",
                  "dtype": "bool",
                  "stats": {
                    "unique_count": 2,
                    "nan_count": 0,
                    "categories": [
                      {
                        "name": "False",
                        "count": 4
                      },
                      {
                        "name": "True",
                        "count": 1
                      }
                    ]
                  }
                },
                {
                  "name": "Height_m",
                  "dtype": "float64",
                  "stats": {
                    "unique_count": 5,
                    "nan_count": 0,
                    "min": 0.61,
                    "max": 2.01,
                    "histogram": [
                      {
                        "bin_start": 0.61,
                        "bin_end": 0.75,
                        "count": 2
                      },
                      {
                        "bin_start": 0.75,
                        "bin_end": 0.8899999999999999,
                        "count": 0
                      },
                      {
                        "bin_start": 0.8899999999999999,
                        "bin_end": 1.0299999999999998,
                        "count": 1
                      },
                      {
                        "bin_start": 1.0299999999999998,
                        "bin_end": 1.17,
                        "count": 1
                      },
                      {
                        "bin_start": 1.17,
                        "bin_end": 1.31,
                        "count": 0
                      },
                      {
                        "bin_start": 1.31,
                        "bin_end": 1.4499999999999997,
                        "count": 0
                      },
                      {
                        "bin_start": 1.4499999999999997,
                        "bin_end": 1.5899999999999999,
                        "count": 0
                      },
                      {
                        "bin_start": 1.5899999999999999,
                        "bin_end": 1.73,
                        "count": 0
                      },
                      {
                        "bin_start": 1.73,
                        "bin_end": 1.8699999999999997,
                        "count": 0
                      },
                      {
                        "bin_start": 1.8699999999999997,
                        "bin_end": 2.01,
                        "count": 1
                      }
                    ]
                  }
                },
                {
                  "name": "Weight_kg",
                  "dtype": "float64",
                  "stats": {
                    "unique_count": 5,
                    "nan_count": 0,
                    "min": 6.9,
                    "max": 100,
                    "histogram": [
                      {
                        "bin_start": 6.9,
                        "bin_end": 16.21,
                        "count": 3
                      },
                      {
                        "bin_start": 16.21,
                        "bin_end": 25.519999999999996,
                        "count": 1
                      },
                      {
                        "bin_start": 25.519999999999996,
                        "bin_end": 34.83,
                        "count": 0
                      },
                      {
                        "bin_start": 34.83,
                        "bin_end": 44.13999999999999,
                        "count": 0
                      },
                      {
                        "bin_start": 44.13999999999999,
                        "bin_end": 53.449999999999996,
                        "count": 0
                      },
                      {
                        "bin_start": 53.449999999999996,
                        "bin_end": 62.75999999999999,
                        "count": 0
                      },
                      {
                        "bin_start": 62.75999999999999,
                        "bin_end": 72.07,
                        "count": 0
                      },
                      {
                        "bin_start": 72.07,
                        "bin_end": 81.38,
                        "count": 0
                      },
                      {
                        "bin_start": 81.38,
                        "bin_end": 90.69,
                        "count": 0
                      },
                      {
                        "bin_start": 90.69,
                        "bin_end": 100,
                        "count": 1
                      }
                    ]
                  }
                },
                {
                  "name": "Catch_Rate",
                  "dtype": "int64",
                  "stats": {
                    "unique_count": 1,
                    "nan_count": 0,
                    "min": 45,
                    "max": 45,
                    "histogram": [
                      {
                        "bin_start": 44.5,
                        "bin_end": 44.6,
                        "count": 0
                      },
                      {
                        "bin_start": 44.6,
                        "bin_end": 44.7,
                        "count": 0
                      },
                      {
                        "bin_start": 44.7,
                        "bin_end": 44.8,
                        "count": 0
                      },
                      {
                        "bin_start": 44.8,
                        "bin_end": 44.9,
                        "count": 0
                      },
                      {
                        "bin_start": 44.9,
                        "bin_end": 45,
                        "count": 0
                      },
                      {
                        "bin_start": 45,
                        "bin_end": 45.1,
                        "count": 5
                      },
                      {
                        "bin_start": 45.1,
                        "bin_end": 45.2,
                        "count": 0
                      },
                      {
                        "bin_start": 45.2,
                        "bin_end": 45.3,
                        "count": 0
                      },
                      {
                        "bin_start": 45.3,
                        "bin_end": 45.4,
                        "count": 0
                      },
                      {
                        "bin_start": 45.4,
                        "bin_end": 45.5,
                        "count": 0
                      }
                    ]
                  }
                },
                {
                  "name": "Body_Style",
                  "dtype": "object",
                  "stats": {
                    "unique_count": 2,
                    "nan_count": 0,
                    "categories": [
                      {
                        "name": "quadruped",
                        "count": 3
                      },
                      {
                        "name": "bipedal_tailed",
                        "count": 2
                      }
                    ]
                  }
                },
                {
                  "name": "_deepnote_index_column",
                  "dtype": "int64"
                }
              ],
              "rows_top": [
                {
                  "Number": 1,
                  "Name": "Bulbasaur",
                  "Type_1": "Grass",
                  "Type_2": "Poison",
                  "Total": 318,
                  "HP": 45,
                  "Attack": 49,
                  "Defense": 49,
                  "Sp_Atk": 65,
                  "Sp_Def": 65,
                  "Speed": 45,
                  "Generation": 1,
                  "isLegendary": false,
                  "Color": "Green",
                  "hasGender": true,
                  "Pr_Male": 0.875,
                  "Egg_Group_1": "Monster",
                  "Egg_Group_2": "Grass",
                  "hasMegaEvolution": false,
                  "Height_m": 0.71,
                  "Weight_kg": 6.9,
                  "Catch_Rate": 45,
                  "Body_Style": "quadruped",
                  "_deepnote_index_column": 0
                },
                {
                  "Number": 2,
                  "Name": "Ivysaur",
                  "Type_1": "Grass",
                  "Type_2": "Poison",
                  "Total": 405,
                  "HP": 60,
                  "Attack": 62,
                  "Defense": 63,
                  "Sp_Atk": 80,
                  "Sp_Def": 80,
                  "Speed": 60,
                  "Generation": 1,
                  "isLegendary": false,
                  "Color": "Green",
                  "hasGender": true,
                  "Pr_Male": 0.875,
                  "Egg_Group_1": "Monster",
                  "Egg_Group_2": "Grass",
                  "hasMegaEvolution": false,
                  "Height_m": 0.99,
                  "Weight_kg": 13,
                  "Catch_Rate": 45,
                  "Body_Style": "quadruped",
                  "_deepnote_index_column": 1
                },
                {
                  "Number": 3,
                  "Name": "Venusaur",
                  "Type_1": "Grass",
                  "Type_2": "Poison",
                  "Total": 525,
                  "HP": 80,
                  "Attack": 82,
                  "Defense": 83,
                  "Sp_Atk": 100,
                  "Sp_Def": 100,
                  "Speed": 80,
                  "Generation": 1,
                  "isLegendary": false,
                  "Color": "Green",
                  "hasGender": true,
                  "Pr_Male": 0.875,
                  "Egg_Group_1": "Monster",
                  "Egg_Group_2": "Grass",
                  "hasMegaEvolution": true,
                  "Height_m": 2.01,
                  "Weight_kg": 100,
                  "Catch_Rate": 45,
                  "Body_Style": "quadruped",
                  "_deepnote_index_column": 2
                },
                {
                  "Number": 4,
                  "Name": "Charmander",
                  "Type_1": "Fire",
                  "Type_2": "nan",
                  "Total": 309,
                  "HP": 39,
                  "Attack": 52,
                  "Defense": 43,
                  "Sp_Atk": 60,
                  "Sp_Def": 50,
                  "Speed": 65,
                  "Generation": 1,
                  "isLegendary": false,
                  "Color": "Red",
                  "hasGender": true,
                  "Pr_Male": 0.875,
                  "Egg_Group_1": "Monster",
                  "Egg_Group_2": "Dragon",
                  "hasMegaEvolution": false,
                  "Height_m": 0.61,
                  "Weight_kg": 8.5,
                  "Catch_Rate": 45,
                  "Body_Style": "bipedal_tailed",
                  "_deepnote_index_column": 3
                },
                {
                  "Number": 5,
                  "Name": "Charmeleon",
                  "Type_1": "Fire",
                  "Type_2": "nan",
                  "Total": 405,
                  "HP": 58,
                  "Attack": 64,
                  "Defense": 58,
                  "Sp_Atk": 80,
                  "Sp_Def": 65,
                  "Speed": 80,
                  "Generation": 1,
                  "isLegendary": false,
                  "Color": "Red",
                  "hasGender": true,
                  "Pr_Male": 0.875,
                  "Egg_Group_1": "Monster",
                  "Egg_Group_2": "Dragon",
                  "hasMegaEvolution": false,
                  "Height_m": 1.09,
                  "Weight_kg": 19,
                  "Catch_Rate": 45,
                  "Body_Style": "bipedal_tailed",
                  "_deepnote_index_column": 4
                }
              ],
              "rows_bottom": null
            },
            "text/plain": "   Number        Name Type_1  Type_2  Total  HP  Attack  Defense  Sp_Atk  \\\n0       1   Bulbasaur  Grass  Poison    318  45      49       49      65   \n1       2     Ivysaur  Grass  Poison    405  60      62       63      80   \n2       3    Venusaur  Grass  Poison    525  80      82       83     100   \n3       4  Charmander   Fire     NaN    309  39      52       43      60   \n4       5  Charmeleon   Fire     NaN    405  58      64       58      80   \n\n   Sp_Def  ...  Color  hasGender  Pr_Male Egg_Group_1  Egg_Group_2  \\\n0      65  ...  Green       True    0.875     Monster        Grass   \n1      80  ...  Green       True    0.875     Monster        Grass   \n2     100  ...  Green       True    0.875     Monster        Grass   \n3      50  ...    Red       True    0.875     Monster       Dragon   \n4      65  ...    Red       True    0.875     Monster       Dragon   \n\n   hasMegaEvolution Height_m Weight_kg  Catch_Rate      Body_Style  \n0             False     0.71       6.9          45       quadruped  \n1             False     0.99      13.0          45       quadruped  \n2              True     2.01     100.0          45       quadruped  \n3             False     0.61       8.5          45  bipedal_tailed  \n4             False     1.09      19.0          45  bipedal_tailed  \n\n[5 rows x 23 columns]",
            "text/html": "<div>\n<style scoped>\n    .dataframe tbody tr th:only-of-type {\n        vertical-align: middle;\n    }\n\n    .dataframe tbody tr th {\n        vertical-align: top;\n    }\n\n    .dataframe thead th {\n        text-align: right;\n    }\n</style>\n<table border=\"1\" class=\"dataframe\">\n  <thead>\n    <tr style=\"text-align: right;\">\n      <th></th>\n      <th>Number</th>\n      <th>Name</th>\n      <th>Type_1</th>\n      <th>Type_2</th>\n      <th>Total</th>\n      <th>HP</th>\n      <th>Attack</th>\n      <th>Defense</th>\n      <th>Sp_Atk</th>\n      <th>Sp_Def</th>\n      <th>...</th>\n      <th>Color</th>\n      <th>hasGender</th>\n      <th>Pr_Male</th>\n      <th>Egg_Group_1</th>\n      <th>Egg_Group_2</th>\n      <th>hasMegaEvolution</th>\n      <th>Height_m</th>\n      <th>Weight_kg</th>\n      <th>Catch_Rate</th>\n      <th>Body_Style</th>\n    </tr>\n  </thead>\n  <tbody>\n    <tr>\n      <th>0</th>\n      <td>1</td>\n      <td>Bulbasaur</td>\n      <td>Grass</td>\n      <td>Poison</td>\n      <td>318</td>\n      <td>45</td>\n      <td>49</td>\n      <td>49</td>\n      <td>65</td>\n      <td>65</td>\n      <td>...</td>\n      <td>Green</td>\n      <td>True</td>\n      <td>0.875</td>\n      <td>Monster</td>\n      <td>Grass</td>\n      <td>False</td>\n      <td>0.71</td>\n      <td>6.9</td>\n      <td>45</td>\n      <td>quadruped</td>\n    </tr>\n    <tr>\n      <th>1</th>\n      <td>2</td>\n      <td>Ivysaur</td>\n      <td>Grass</td>\n      <td>Poison</td>\n      <td>405</td>\n      <td>60</td>\n      <td>62</td>\n      <td>63</td>\n      <td>80</td>\n      <td>80</td>\n      <td>...</td>\n      <td>Green</td>\n      <td>True</td>\n      <td>0.875</td>\n      <td>Monster</td>\n      <td>Grass</td>\n      <td>False</td>\n      <td>0.99</td>\n      <td>13.0</td>\n      <td>45</td>\n      <td>quadruped</td>\n    </tr>\n    <tr>\n      <th>2</th>\n      <td>3</td>\n      <td>Venusaur</td>\n      <td>Grass</td>\n      <td>Poison</td>\n      <td>525</td>\n      <td>80</td>\n      <td>82</td>\n      <td>83</td>\n      <td>100</td>\n      <td>100</td>\n      <td>...</td>\n      <td>Green</td>\n      <td>True</td>\n      <td>0.875</td>\n      <td>Monster</td>\n      <td>Grass</td>\n      <td>True</td>\n      <td>2.01</td>\n      <td>100.0</td>\n      <td>45</td>\n      <td>quadruped</td>\n    </tr>\n    <tr>\n      <th>3</th>\n      <td>4</td>\n      <td>Charmander</td>\n      <td>Fire</td>\n      <td>NaN</td>\n      <td>309</td>\n      <td>39</td>\n      <td>52</td>\n      <td>43</td>\n      <td>60</td>\n      <td>50</td>\n      <td>...</td>\n      <td>Red</td>\n      <td>True</td>\n      <td>0.875</td>\n      <td>Monster</td>\n      <td>Dragon</td>\n      <td>False</td>\n      <td>0.61</td>\n      <td>8.5</td>\n      <td>45</td>\n      <td>bipedal_tailed</td>\n    </tr>\n    <tr>\n      <th>4</th>\n      <td>5</td>\n      <td>Charmeleon</td>\n      <td>Fire</td>\n      <td>NaN</td>\n      <td>405</td>\n      <td>58</td>\n      <td>64</td>\n      <td>58</td>\n      <td>80</td>\n      <td>65</td>\n      <td>...</td>\n      <td>Red</td>\n      <td>True</td>\n      <td>0.875</td>\n      <td>Monster</td>\n      <td>Dragon</td>\n      <td>False</td>\n      <td>1.09</td>\n      <td>19.0</td>\n      <td>45</td>\n      <td>bipedal_tailed</td>\n    </tr>\n  </tbody>\n</table>\n<p>5 rows × 23 columns</p>\n</div>"
          },
          "metadata": {}
        }
      ]
    },
    {
      "cell_type": "code",
      "metadata": {
        "cell_id": "00003-52a4c57f-fa01-45ae-b2eb-c3f67022c174",
        "deepnote_to_be_reexecuted": false,
        "source_hash": "306e8ca3",
        "execution_start": 1615245465348,
        "execution_millis": 91,
        "deepnote_cell_type": "code"
      },
      "source": "profile = ProfileReport(df_x, title='Zoning table')",
      "execution_count": null,
      "outputs": []
    },
    {
      "cell_type": "code",
      "metadata": {
        "cell_id": "00004-4219438c-75c6-424c-ab43-cb8be5ec820b",
        "deepnote_to_be_reexecuted": false,
        "source_hash": "24f0c609",
        "execution_start": 1615245482220,
        "execution_millis": 73023,
        "deepnote_cell_type": "code"
      },
      "source": "profile.to_file(\"pokemon_features.html\")",
      "execution_count": null,
      "outputs": [
        {
          "data": {
            "text/plain": "Summarize dataset:   0%|          | 0/36 [00:00<?, ?it/s]",
            "application/vnd.jupyter.widget-view+json": {
              "version_major": 2,
              "version_minor": 0,
              "model_id": "6804119ce4894096b252213d509f7f56"
            }
          },
          "metadata": {},
          "output_type": "display_data"
        },
        {
          "data": {
            "text/plain": "Generate report structure:   0%|          | 0/1 [00:00<?, ?it/s]",
            "application/vnd.jupyter.widget-view+json": {
              "version_major": 2,
              "version_minor": 0,
              "model_id": "346eed7d23d545d28d95e7aec65b1c8c"
            }
          },
          "metadata": {},
          "output_type": "display_data"
        },
        {
          "data": {
            "text/plain": "Render HTML:   0%|          | 0/1 [00:00<?, ?it/s]",
            "application/vnd.jupyter.widget-view+json": {
              "version_major": 2,
              "version_minor": 0,
              "model_id": "d3e1d0b03e20445ea1007f38f2ab7cbd"
            }
          },
          "metadata": {},
          "output_type": "display_data"
        },
        {
          "data": {
            "text/plain": "Export report to file:   0%|          | 0/1 [00:00<?, ?it/s]",
            "application/vnd.jupyter.widget-view+json": {
              "version_major": 2,
              "version_minor": 0,
              "model_id": "55813c1b0b9b4ce7a996f8eba543993d"
            }
          },
          "metadata": {},
          "output_type": "display_data"
        }
      ]
    },
    {
      "cell_type": "code",
      "metadata": {
        "cell_id": "00005-d0512bbd-7e08-4633-b59e-93c239c5295a",
        "deepnote_cell_type": "code"
      },
      "source": "",
      "execution_count": null,
      "outputs": []
    },
    {
      "cell_type": "markdown",
      "source": "<a style='text-decoration:none;line-height:16px;display:flex;color:#5B5B62;padding:10px;justify-content:end;' href='https://deepnote.com?utm_source=created-in-deepnote-cell&projectId=ccb00087-ba61-4db1-ba97-3a0ee74eb21a' target=\"_blank\">\n<img style='display:inline;max-height:16px;margin:0px;margin-right:7.5px;' src='data:image/svg+xml;base64,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' > </img>\nCreated in <span style='font-weight:600;margin-left:4px;'>Deepnote</span></a>",
      "metadata": {
        "tags": [],
        "created_in_deepnote_cell": true,
        "deepnote_cell_type": "markdown"
      }
    }
  ],
  "nbformat": 4,
  "nbformat_minor": 5,
  "metadata": {
    "kernelspec": {
      "display_name": "Python 3",
      "language": "python",
      "name": "python3"
    },
    "language_info": {
      "codemirror_mode": {
        "name": "ipython",
        "version": 3
      },
      "file_extension": ".py",
      "mimetype": "text/x-python",
      "name": "python",
      "nbconvert_exporter": "python",
      "pygments_lexer": "ipython3",
      "version": "3.8.2"
    },
    "deepnote_notebook_id": "f0304546-c9a3-48c7-86bf-aa1a67eaece8",
    "deepnote": {},
    "deepnote_execution_queue": []
  }
}