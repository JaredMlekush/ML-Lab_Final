{
  "cells": [
    {
      "cell_type": "markdown",
      "source": "# **Machine Learning Lab - Final Project (Behind the Scenes)**\n\n",
      "metadata": {
        "id": "L_yw-paGYgCA",
        "cell_id": "00000-0fc3fa26-cdda-4de4-bc42-38b5a499a5fa",
        "deepnote_cell_type": "markdown"
      }
    },
    {
      "cell_type": "markdown",
      "source": "*Pokemon Dataset* -  -> found here: https://www.kaggle.com/alopez247/pokemon?select=pokemon_alopez247.csv\n\n*Description* - 721 rows x 23 columns",
      "metadata": {
        "tags": [],
        "cell_id": "00001-1b1db321-991f-4bec-9661-0958584e5f2c",
        "deepnote_cell_type": "markdown"
      }
    },
    {
      "cell_type": "markdown",
      "source": "# Question: \n***Can we predict what generation a pokemon is from, given the rest of it's attributes?***",
      "metadata": {
        "id": "3R6g_QCoIA0B",
        "cell_id": "00001-8d144023-e18e-41c9-ad20-7c41856e0bb3",
        "deepnote_cell_type": "markdown"
      }
    },
    {
      "cell_type": "markdown",
      "source": "## ***Flow***:\n\n> 1. Import Data & Libraries\n> 2. Exploratory Data Analysis\n> 3. Train/Test Split\n> 4. Prepare for ML\n> 5. Pick Models\n> 6. Model Selection\n> 7. Model Tuning\n> 8. Pick Best Model",
      "metadata": {
        "id": "QWFG5E5AE7Tt",
        "cell_id": "00002-8802f66d-74bf-47ca-a926-f0fea81820d9",
        "deepnote_cell_type": "markdown"
      }
    },
    {
      "cell_type": "markdown",
      "source": "## ***Import Data and Libraries***",
      "metadata": {
        "id": "lmtUKPOcZ_eV",
        "cell_id": "00003-c4d99db2-00e8-4e6b-9da6-bb7ab4184b27",
        "deepnote_cell_type": "markdown"
      }
    },
    {
      "cell_type": "code",
      "metadata": {
        "tags": [],
        "cell_id": "00004-bc08523b-7209-4c92-8f56-7e15493bbee2",
        "deepnote_to_be_reexecuted": false,
        "source_hash": "dca65800",
        "execution_millis": 1,
        "execution_start": 1615537688347,
        "deepnote_cell_type": "code"
      },
      "source": "reset -fs",
      "execution_count": 3,
      "outputs": []
    },
    {
      "cell_type": "code",
      "metadata": {
        "id": "a73-LKKCYcnu",
        "cell_id": "00004-e6103dce-bff9-4b5a-b5c0-43509162fe19",
        "deepnote_to_be_reexecuted": false,
        "source_hash": "6001d09a",
        "execution_millis": 0,
        "execution_start": 1615538269457,
        "deepnote_cell_type": "code"
      },
      "source": "import pandas as pd\nimport numpy as np\nimport matplotlib.pyplot as plt\nfrom sklearn.model_selection        import train_test_split, RandomizedSearchCV, cross_val_score, cross_val_predict\nfrom sklearn.impute                 import SimpleImputer\nfrom sklearn.preprocessing          import StandardScaler, OneHotEncoder\nfrom sklearn.compose                import ColumnTransformer\nfrom sklearn.pipeline               import Pipeline\nfrom sklearn.linear_model           import LogisticRegression, SGDClassifier, PassiveAggressiveClassifier, RidgeClassifier\nfrom sklearn.neighbors              import KNeighborsClassifier, NearestCentroid\nfrom sklearn.ensemble               import RandomForestClassifier, ExtraTreesClassifier, IsolationForest\nfrom sklearn.tree                   import DecisionTreeClassifier\nfrom sklearn.metrics                import f1_score\nfrom sklearn.base                   import BaseEstimator\nfrom sklearn.decomposition          import PCA\nfrom sklearn.cluster                import KMeans\nfrom sklearn.cluster                import SpectralClustering\nfrom sklearn                        import metrics\nfrom scipy.spatial.distance         import cdist\nfrom sklearn.metrics                import accuracy_score\n\nimport warnings\nwarnings.filterwarnings('ignore')\n%matplotlib inline",
      "execution_count": 15,
      "outputs": []
    },
    {
      "cell_type": "code",
      "metadata": {
        "id": "bRnxG0NWeak3",
        "cell_id": "00005-c9606b1f-cb42-496a-9ca1-653bcef8dbae",
        "deepnote_to_be_reexecuted": false,
        "source_hash": "82b493f0",
        "execution_millis": 12,
        "execution_start": 1615537691777,
        "deepnote_cell_type": "code"
      },
      "source": "pokemon_df = pd.read_csv('pokemon.csv')\npokemon_df.drop_duplicates()\n\ny = pokemon_df['Generation']\nX = pokemon_df.drop('Generation', axis=1)",
      "execution_count": 5,
      "outputs": []
    },
    {
      "cell_type": "markdown",
      "source": "## ***Exloratory Data Analysis***",
      "metadata": {
        "id": "f-daXBS1fCtH",
        "cell_id": "00006-932fcf26-ef48-4095-a7b2-d871f963c276",
        "deepnote_cell_type": "markdown"
      }
    },
    {
      "cell_type": "markdown",
      "source": "### **Drop Duplicates**",
      "metadata": {
        "id": "Nq2hkfRjei7B",
        "cell_id": "00007-994818cb-11b3-4d76-9186-6703534f3292",
        "deepnote_cell_type": "markdown"
      }
    },
    {
      "cell_type": "code",
      "metadata": {
        "colab": {
          "base_uri": "https://localhost:8080/",
          "height": 435
        },
        "id": "ewWF9ZA3ZUQw",
        "outputId": "e3e7e814-7c14-4f89-d1dc-7f8772faf992",
        "cell_id": "00008-69cfe510-fd0e-4c8e-8e4b-dc7aafeac0c7",
        "deepnote_to_be_reexecuted": false,
        "source_hash": "40410e0b",
        "execution_millis": 130,
        "execution_start": 1615431291758,
        "deepnote_cell_type": "code"
      },
      "source": "pokemon_df.drop_duplicates()",
      "execution_count": null,
      "outputs": [
        {
          "output_type": "execute_result",
          "execution_count": 250,
          "data": {
            "application/vnd.deepnote.dataframe.v2+json": {
              "row_count": 721,
              "column_count": 23,
              "columns": [
                {
                  "name": "Number",
                  "dtype": "int64",
                  "stats": {
                    "unique_count": 721,
                    "nan_count": 0,
                    "min": 1,
                    "max": 721,
                    "histogram": [
                      {
                        "bin_start": 1,
                        "bin_end": 73,
                        "count": 72
                      },
                      {
                        "bin_start": 73,
                        "bin_end": 145,
                        "count": 72
                      },
                      {
                        "bin_start": 145,
                        "bin_end": 217,
                        "count": 72
                      },
                      {
                        "bin_start": 217,
                        "bin_end": 289,
                        "count": 72
                      },
                      {
                        "bin_start": 289,
                        "bin_end": 361,
                        "count": 72
                      },
                      {
                        "bin_start": 361,
                        "bin_end": 433,
                        "count": 72
                      },
                      {
                        "bin_start": 433,
                        "bin_end": 505,
                        "count": 72
                      },
                      {
                        "bin_start": 505,
                        "bin_end": 577,
                        "count": 72
                      },
                      {
                        "bin_start": 577,
                        "bin_end": 649,
                        "count": 72
                      },
                      {
                        "bin_start": 649,
                        "bin_end": 721,
                        "count": 73
                      }
                    ]
                  }
                },
                {
                  "name": "Name",
                  "dtype": "object",
                  "stats": {
                    "unique_count": 721,
                    "nan_count": 0,
                    "categories": [
                      {
                        "name": "Bulbasaur",
                        "count": 1
                      },
                      {
                        "name": "Ivysaur",
                        "count": 1
                      },
                      {
                        "name": "719 others",
                        "count": 719
                      }
                    ]
                  }
                },
                {
                  "name": "Type_1",
                  "dtype": "object",
                  "stats": {
                    "unique_count": 18,
                    "nan_count": 0,
                    "categories": [
                      {
                        "name": "Water",
                        "count": 105
                      },
                      {
                        "name": "Normal",
                        "count": 93
                      },
                      {
                        "name": "16 others",
                        "count": 523
                      }
                    ]
                  }
                },
                {
                  "name": "Type_2",
                  "dtype": "object",
                  "stats": {
                    "unique_count": 18,
                    "nan_count": 371,
                    "categories": [
                      {
                        "name": "Flying",
                        "count": 87
                      },
                      {
                        "name": "17 others",
                        "count": 263
                      },
                      {
                        "name": "Missing",
                        "count": 371
                      }
                    ]
                  }
                },
                {
                  "name": "Total",
                  "dtype": "int64",
                  "stats": {
                    "unique_count": 183,
                    "nan_count": 0,
                    "min": 180,
                    "max": 720,
                    "histogram": [
                      {
                        "bin_start": 180,
                        "bin_end": 234,
                        "count": 26
                      },
                      {
                        "bin_start": 234,
                        "bin_end": 288,
                        "count": 53
                      },
                      {
                        "bin_start": 288,
                        "bin_end": 342,
                        "count": 151
                      },
                      {
                        "bin_start": 342,
                        "bin_end": 396,
                        "count": 69
                      },
                      {
                        "bin_start": 396,
                        "bin_end": 450,
                        "count": 93
                      },
                      {
                        "bin_start": 450,
                        "bin_end": 504,
                        "count": 172
                      },
                      {
                        "bin_start": 504,
                        "bin_end": 558,
                        "count": 95
                      },
                      {
                        "bin_start": 558,
                        "bin_end": 612,
                        "count": 45
                      },
                      {
                        "bin_start": 612,
                        "bin_end": 666,
                        "count": 1
                      },
                      {
                        "bin_start": 666,
                        "bin_end": 720,
                        "count": 16
                      }
                    ]
                  }
                },
                {
                  "name": "HP",
                  "dtype": "int64",
                  "stats": {
                    "unique_count": 94,
                    "nan_count": 0,
                    "min": 1,
                    "max": 255,
                    "histogram": [
                      {
                        "bin_start": 1,
                        "bin_end": 26.4,
                        "count": 10
                      },
                      {
                        "bin_start": 26.4,
                        "bin_end": 51.8,
                        "count": 190
                      },
                      {
                        "bin_start": 51.8,
                        "bin_end": 77.19999999999999,
                        "count": 308
                      },
                      {
                        "bin_start": 77.19999999999999,
                        "bin_end": 102.6,
                        "count": 157
                      },
                      {
                        "bin_start": 102.6,
                        "bin_end": 128,
                        "count": 41
                      },
                      {
                        "bin_start": 128,
                        "bin_end": 153.39999999999998,
                        "count": 9
                      },
                      {
                        "bin_start": 153.39999999999998,
                        "bin_end": 178.79999999999998,
                        "count": 3
                      },
                      {
                        "bin_start": 178.79999999999998,
                        "bin_end": 204.2,
                        "count": 1
                      },
                      {
                        "bin_start": 204.2,
                        "bin_end": 229.6,
                        "count": 0
                      },
                      {
                        "bin_start": 229.6,
                        "bin_end": 255,
                        "count": 2
                      }
                    ]
                  }
                },
                {
                  "name": "Attack",
                  "dtype": "int64",
                  "stats": {
                    "unique_count": 100,
                    "nan_count": 0,
                    "min": 5,
                    "max": 165,
                    "histogram": [
                      {
                        "bin_start": 5,
                        "bin_end": 21,
                        "count": 14
                      },
                      {
                        "bin_start": 21,
                        "bin_end": 37,
                        "count": 46
                      },
                      {
                        "bin_start": 37,
                        "bin_end": 53,
                        "count": 116
                      },
                      {
                        "bin_start": 53,
                        "bin_end": 69,
                        "count": 139
                      },
                      {
                        "bin_start": 69,
                        "bin_end": 85,
                        "count": 142
                      },
                      {
                        "bin_start": 85,
                        "bin_end": 101,
                        "count": 140
                      },
                      {
                        "bin_start": 101,
                        "bin_end": 117,
                        "count": 51
                      },
                      {
                        "bin_start": 117,
                        "bin_end": 133,
                        "count": 54
                      },
                      {
                        "bin_start": 133,
                        "bin_end": 149,
                        "count": 12
                      },
                      {
                        "bin_start": 149,
                        "bin_end": 165,
                        "count": 7
                      }
                    ]
                  }
                },
                {
                  "name": "Defense",
                  "dtype": "int64",
                  "stats": {
                    "unique_count": 97,
                    "nan_count": 0,
                    "min": 5,
                    "max": 230,
                    "histogram": [
                      {
                        "bin_start": 5,
                        "bin_end": 27.5,
                        "count": 13
                      },
                      {
                        "bin_start": 27.5,
                        "bin_end": 50,
                        "count": 148
                      },
                      {
                        "bin_start": 50,
                        "bin_end": 72.5,
                        "count": 272
                      },
                      {
                        "bin_start": 72.5,
                        "bin_end": 95,
                        "count": 148
                      },
                      {
                        "bin_start": 95,
                        "bin_end": 117.5,
                        "count": 87
                      },
                      {
                        "bin_start": 117.5,
                        "bin_end": 140,
                        "count": 33
                      },
                      {
                        "bin_start": 140,
                        "bin_end": 162.5,
                        "count": 13
                      },
                      {
                        "bin_start": 162.5,
                        "bin_end": 185,
                        "count": 4
                      },
                      {
                        "bin_start": 185,
                        "bin_end": 207.5,
                        "count": 2
                      },
                      {
                        "bin_start": 207.5,
                        "bin_end": 230,
                        "count": 1
                      }
                    ]
                  }
                },
                {
                  "name": "Sp_Atk",
                  "dtype": "int64",
                  "stats": {
                    "unique_count": 94,
                    "nan_count": 0,
                    "min": 10,
                    "max": 154,
                    "histogram": [
                      {
                        "bin_start": 10,
                        "bin_end": 24.4,
                        "count": 17
                      },
                      {
                        "bin_start": 24.4,
                        "bin_end": 38.8,
                        "count": 77
                      },
                      {
                        "bin_start": 38.8,
                        "bin_end": 53.2,
                        "count": 145
                      },
                      {
                        "bin_start": 53.2,
                        "bin_end": 67.6,
                        "count": 157
                      },
                      {
                        "bin_start": 67.6,
                        "bin_end": 82,
                        "count": 104
                      },
                      {
                        "bin_start": 82,
                        "bin_end": 96.4,
                        "count": 89
                      },
                      {
                        "bin_start": 96.4,
                        "bin_end": 110.8,
                        "count": 71
                      },
                      {
                        "bin_start": 110.8,
                        "bin_end": 125.2,
                        "count": 36
                      },
                      {
                        "bin_start": 125.2,
                        "bin_end": 139.6,
                        "count": 16
                      },
                      {
                        "bin_start": 139.6,
                        "bin_end": 154,
                        "count": 9
                      }
                    ]
                  }
                },
                {
                  "name": "Sp_Def",
                  "dtype": "int64",
                  "stats": {
                    "unique_count": 90,
                    "nan_count": 0,
                    "min": 20,
                    "max": 230,
                    "histogram": [
                      {
                        "bin_start": 20,
                        "bin_end": 41,
                        "count": 96
                      },
                      {
                        "bin_start": 41,
                        "bin_end": 62,
                        "count": 225
                      },
                      {
                        "bin_start": 62,
                        "bin_end": 83,
                        "count": 206
                      },
                      {
                        "bin_start": 83,
                        "bin_end": 104,
                        "count": 122
                      },
                      {
                        "bin_start": 104,
                        "bin_end": 125,
                        "count": 44
                      },
                      {
                        "bin_start": 125,
                        "bin_end": 146,
                        "count": 17
                      },
                      {
                        "bin_start": 146,
                        "bin_end": 167,
                        "count": 9
                      },
                      {
                        "bin_start": 167,
                        "bin_end": 188,
                        "count": 0
                      },
                      {
                        "bin_start": 188,
                        "bin_end": 209,
                        "count": 1
                      },
                      {
                        "bin_start": 209,
                        "bin_end": 230,
                        "count": 1
                      }
                    ]
                  }
                },
                {
                  "name": "Speed",
                  "dtype": "int64",
                  "stats": {
                    "unique_count": 101,
                    "nan_count": 0,
                    "min": 5,
                    "max": 160,
                    "histogram": [
                      {
                        "bin_start": 5,
                        "bin_end": 20.5,
                        "count": 27
                      },
                      {
                        "bin_start": 20.5,
                        "bin_end": 36,
                        "count": 86
                      },
                      {
                        "bin_start": 36,
                        "bin_end": 51.5,
                        "count": 140
                      },
                      {
                        "bin_start": 51.5,
                        "bin_end": 67,
                        "count": 144
                      },
                      {
                        "bin_start": 67,
                        "bin_end": 82.5,
                        "count": 117
                      },
                      {
                        "bin_start": 82.5,
                        "bin_end": 98,
                        "count": 101
                      },
                      {
                        "bin_start": 98,
                        "bin_end": 113.5,
                        "count": 76
                      },
                      {
                        "bin_start": 113.5,
                        "bin_end": 129,
                        "count": 22
                      },
                      {
                        "bin_start": 129,
                        "bin_end": 144.5,
                        "count": 5
                      },
                      {
                        "bin_start": 144.5,
                        "bin_end": 160,
                        "count": 3
                      }
                    ]
                  }
                },
                {
                  "name": "Generation",
                  "dtype": "int64",
                  "stats": {
                    "unique_count": 6,
                    "nan_count": 0,
                    "min": 1,
                    "max": 6,
                    "histogram": [
                      {
                        "bin_start": 1,
                        "bin_end": 1.5,
                        "count": 151
                      },
                      {
                        "bin_start": 1.5,
                        "bin_end": 2,
                        "count": 0
                      },
                      {
                        "bin_start": 2,
                        "bin_end": 2.5,
                        "count": 100
                      },
                      {
                        "bin_start": 2.5,
                        "bin_end": 3,
                        "count": 0
                      },
                      {
                        "bin_start": 3,
                        "bin_end": 3.5,
                        "count": 135
                      },
                      {
                        "bin_start": 3.5,
                        "bin_end": 4,
                        "count": 0
                      },
                      {
                        "bin_start": 4,
                        "bin_end": 4.5,
                        "count": 107
                      },
                      {
                        "bin_start": 4.5,
                        "bin_end": 5,
                        "count": 0
                      },
                      {
                        "bin_start": 5,
                        "bin_end": 5.5,
                        "count": 156
                      },
                      {
                        "bin_start": 5.5,
                        "bin_end": 6,
                        "count": 72
                      }
                    ]
                  }
                },
                {
                  "name": "isLegendary",
                  "dtype": "bool",
                  "stats": {
                    "unique_count": 2,
                    "nan_count": 0,
                    "categories": [
                      {
                        "name": "False",
                        "count": 675
                      },
                      {
                        "name": "True",
                        "count": 46
                      }
                    ]
                  }
                },
                {
                  "name": "Color",
                  "dtype": "object",
                  "stats": {
                    "unique_count": 10,
                    "nan_count": 0,
                    "categories": [
                      {
                        "name": "Blue",
                        "count": 134
                      },
                      {
                        "name": "Brown",
                        "count": 110
                      },
                      {
                        "name": "8 others",
                        "count": 477
                      }
                    ]
                  }
                },
                {
                  "name": "hasGender",
                  "dtype": "bool",
                  "stats": {
                    "unique_count": 2,
                    "nan_count": 0,
                    "categories": [
                      {
                        "name": "True",
                        "count": 644
                      },
                      {
                        "name": "False",
                        "count": 77
                      }
                    ]
                  }
                },
                {
                  "name": "Pr_Male",
                  "dtype": "float64",
                  "stats": {
                    "unique_count": 7,
                    "nan_count": 77,
                    "min": 0,
                    "max": 1,
                    "histogram": [
                      {
                        "bin_start": 0,
                        "bin_end": 0.1,
                        "count": 23
                      },
                      {
                        "bin_start": 0.1,
                        "bin_end": 0.2,
                        "count": 2
                      },
                      {
                        "bin_start": 0.2,
                        "bin_end": 0.30000000000000004,
                        "count": 22
                      },
                      {
                        "bin_start": 0.30000000000000004,
                        "bin_end": 0.4,
                        "count": 0
                      },
                      {
                        "bin_start": 0.4,
                        "bin_end": 0.5,
                        "count": 0
                      },
                      {
                        "bin_start": 0.5,
                        "bin_end": 0.6000000000000001,
                        "count": 458
                      },
                      {
                        "bin_start": 0.6000000000000001,
                        "bin_end": 0.7000000000000001,
                        "count": 0
                      },
                      {
                        "bin_start": 0.7000000000000001,
                        "bin_end": 0.8,
                        "count": 19
                      },
                      {
                        "bin_start": 0.8,
                        "bin_end": 0.9,
                        "count": 101
                      },
                      {
                        "bin_start": 0.9,
                        "bin_end": 1,
                        "count": 19
                      }
                    ]
                  }
                },
                {
                  "name": "Egg_Group_1",
                  "dtype": "object",
                  "stats": {
                    "unique_count": 15,
                    "nan_count": 0,
                    "categories": [
                      {
                        "name": "Field",
                        "count": 169
                      },
                      {
                        "name": "Monster",
                        "count": 74
                      },
                      {
                        "name": "13 others",
                        "count": 478
                      }
                    ]
                  }
                },
                {
                  "name": "Egg_Group_2",
                  "dtype": "object",
                  "stats": {
                    "unique_count": 13,
                    "nan_count": 530,
                    "categories": [
                      {
                        "name": "Dragon",
                        "count": 35
                      },
                      {
                        "name": "12 others",
                        "count": 156
                      },
                      {
                        "name": "Missing",
                        "count": 530
                      }
                    ]
                  }
                },
                {
                  "name": "hasMegaEvolution",
                  "dtype": "bool",
                  "stats": {
                    "unique_count": 2,
                    "nan_count": 0,
                    "categories": [
                      {
                        "name": "False",
                        "count": 675
                      },
                      {
                        "name": "True",
                        "count": 46
                      }
                    ]
                  }
                },
                {
                  "name": "Height_m",
                  "dtype": "float64",
                  "stats": {
                    "unique_count": 50,
                    "nan_count": 0,
                    "min": 0.1,
                    "max": 14.5,
                    "histogram": [
                      {
                        "bin_start": 0.1,
                        "bin_end": 1.54,
                        "count": 582
                      },
                      {
                        "bin_start": 1.54,
                        "bin_end": 2.98,
                        "count": 116
                      },
                      {
                        "bin_start": 2.98,
                        "bin_end": 4.42,
                        "count": 11
                      },
                      {
                        "bin_start": 4.42,
                        "bin_end": 5.859999999999999,
                        "count": 5
                      },
                      {
                        "bin_start": 5.859999999999999,
                        "bin_end": 7.299999999999999,
                        "count": 4
                      },
                      {
                        "bin_start": 7.299999999999999,
                        "bin_end": 8.74,
                        "count": 0
                      },
                      {
                        "bin_start": 8.74,
                        "bin_end": 10.18,
                        "count": 2
                      },
                      {
                        "bin_start": 10.18,
                        "bin_end": 11.62,
                        "count": 0
                      },
                      {
                        "bin_start": 11.62,
                        "bin_end": 13.059999999999999,
                        "count": 0
                      },
                      {
                        "bin_start": 13.059999999999999,
                        "bin_end": 14.5,
                        "count": 1
                      }
                    ]
                  }
                },
                {
                  "name": "Weight_kg",
                  "dtype": "float64",
                  "stats": {
                    "unique_count": 398,
                    "nan_count": 0,
                    "min": 0.1,
                    "max": 950,
                    "histogram": [
                      {
                        "bin_start": 0.1,
                        "bin_end": 95.08999999999999,
                        "count": 609
                      },
                      {
                        "bin_start": 95.08999999999999,
                        "bin_end": 190.07999999999998,
                        "count": 59
                      },
                      {
                        "bin_start": 190.07999999999998,
                        "bin_end": 285.07,
                        "count": 29
                      },
                      {
                        "bin_start": 285.07,
                        "bin_end": 380.06,
                        "count": 14
                      },
                      {
                        "bin_start": 380.06,
                        "bin_end": 475.05,
                        "count": 5
                      },
                      {
                        "bin_start": 475.05,
                        "bin_end": 570.04,
                        "count": 2
                      },
                      {
                        "bin_start": 570.04,
                        "bin_end": 665.03,
                        "count": 1
                      },
                      {
                        "bin_start": 665.03,
                        "bin_end": 760.02,
                        "count": 1
                      },
                      {
                        "bin_start": 760.02,
                        "bin_end": 855.01,
                        "count": 0
                      },
                      {
                        "bin_start": 855.01,
                        "bin_end": 950,
                        "count": 1
                      }
                    ]
                  }
                },
                {
                  "name": "Catch_Rate",
                  "dtype": "int64",
                  "stats": {
                    "unique_count": 33,
                    "nan_count": 0,
                    "min": 3,
                    "max": 255,
                    "histogram": [
                      {
                        "bin_start": 3,
                        "bin_end": 28.2,
                        "count": 61
                      },
                      {
                        "bin_start": 28.2,
                        "bin_end": 53.4,
                        "count": 250
                      },
                      {
                        "bin_start": 53.4,
                        "bin_end": 78.6,
                        "count": 108
                      },
                      {
                        "bin_start": 78.6,
                        "bin_end": 103.8,
                        "count": 42
                      },
                      {
                        "bin_start": 103.8,
                        "bin_end": 129,
                        "count": 58
                      },
                      {
                        "bin_start": 129,
                        "bin_end": 154.2,
                        "count": 14
                      },
                      {
                        "bin_start": 154.2,
                        "bin_end": 179.4,
                        "count": 4
                      },
                      {
                        "bin_start": 179.4,
                        "bin_end": 204.6,
                        "count": 97
                      },
                      {
                        "bin_start": 204.6,
                        "bin_end": 229.79999999999998,
                        "count": 17
                      },
                      {
                        "bin_start": 229.79999999999998,
                        "bin_end": 255,
                        "count": 70
                      }
                    ]
                  }
                },
                {
                  "name": "Body_Style",
                  "dtype": "object",
                  "stats": {
                    "unique_count": 14,
                    "nan_count": 0,
                    "categories": [
                      {
                        "name": "bipedal_tailed",
                        "count": 158
                      },
                      {
                        "name": "quadruped",
                        "count": 135
                      },
                      {
                        "name": "12 others",
                        "count": 428
                      }
                    ]
                  }
                },
                {
                  "name": "_deepnote_index_column",
                  "dtype": "int64"
                }
              ],
              "rows_top": [
                {
                  "Number": 1,
                  "Name": "Bulbasaur",
                  "Type_1": "Grass",
                  "Type_2": "Poison",
                  "Total": 318,
                  "HP": 45,
                  "Attack": 49,
                  "Defense": 49,
                  "Sp_Atk": 65,
                  "Sp_Def": 65,
                  "Speed": 45,
                  "Generation": 1,
                  "isLegendary": false,
                  "Color": "Green",
                  "hasGender": true,
                  "Pr_Male": 0.875,
                  "Egg_Group_1": "Monster",
                  "Egg_Group_2": "Grass",
                  "hasMegaEvolution": false,
                  "Height_m": 0.71,
                  "Weight_kg": 6.9,
                  "Catch_Rate": 45,
                  "Body_Style": "quadruped",
                  "_deepnote_index_column": 0
                },
                {
                  "Number": 2,
                  "Name": "Ivysaur",
                  "Type_1": "Grass",
                  "Type_2": "Poison",
                  "Total": 405,
                  "HP": 60,
                  "Attack": 62,
                  "Defense": 63,
                  "Sp_Atk": 80,
                  "Sp_Def": 80,
                  "Speed": 60,
                  "Generation": 1,
                  "isLegendary": false,
                  "Color": "Green",
                  "hasGender": true,
                  "Pr_Male": 0.875,
                  "Egg_Group_1": "Monster",
                  "Egg_Group_2": "Grass",
                  "hasMegaEvolution": false,
                  "Height_m": 0.99,
                  "Weight_kg": 13,
                  "Catch_Rate": 45,
                  "Body_Style": "quadruped",
                  "_deepnote_index_column": 1
                },
                {
                  "Number": 3,
                  "Name": "Venusaur",
                  "Type_1": "Grass",
                  "Type_2": "Poison",
                  "Total": 525,
                  "HP": 80,
                  "Attack": 82,
                  "Defense": 83,
                  "Sp_Atk": 100,
                  "Sp_Def": 100,
                  "Speed": 80,
                  "Generation": 1,
                  "isLegendary": false,
                  "Color": "Green",
                  "hasGender": true,
                  "Pr_Male": 0.875,
                  "Egg_Group_1": "Monster",
                  "Egg_Group_2": "Grass",
                  "hasMegaEvolution": true,
                  "Height_m": 2.01,
                  "Weight_kg": 100,
                  "Catch_Rate": 45,
                  "Body_Style": "quadruped",
                  "_deepnote_index_column": 2
                },
                {
                  "Number": 4,
                  "Name": "Charmander",
                  "Type_1": "Fire",
                  "Type_2": "nan",
                  "Total": 309,
                  "HP": 39,
                  "Attack": 52,
                  "Defense": 43,
                  "Sp_Atk": 60,
                  "Sp_Def": 50,
                  "Speed": 65,
                  "Generation": 1,
                  "isLegendary": false,
                  "Color": "Red",
                  "hasGender": true,
                  "Pr_Male": 0.875,
                  "Egg_Group_1": "Monster",
                  "Egg_Group_2": "Dragon",
                  "hasMegaEvolution": false,
                  "Height_m": 0.61,
                  "Weight_kg": 8.5,
                  "Catch_Rate": 45,
                  "Body_Style": "bipedal_tailed",
                  "_deepnote_index_column": 3
                },
                {
                  "Number": 5,
                  "Name": "Charmeleon",
                  "Type_1": "Fire",
                  "Type_2": "nan",
                  "Total": 405,
                  "HP": 58,
                  "Attack": 64,
                  "Defense": 58,
                  "Sp_Atk": 80,
                  "Sp_Def": 65,
                  "Speed": 80,
                  "Generation": 1,
                  "isLegendary": false,
                  "Color": "Red",
                  "hasGender": true,
                  "Pr_Male": 0.875,
                  "Egg_Group_1": "Monster",
                  "Egg_Group_2": "Dragon",
                  "hasMegaEvolution": false,
                  "Height_m": 1.09,
                  "Weight_kg": 19,
                  "Catch_Rate": 45,
                  "Body_Style": "bipedal_tailed",
                  "_deepnote_index_column": 4
                },
                {
                  "Number": 6,
                  "Name": "Charizard",
                  "Type_1": "Fire",
                  "Type_2": "Flying",
                  "Total": 534,
                  "HP": 78,
                  "Attack": 84,
                  "Defense": 78,
                  "Sp_Atk": 109,
                  "Sp_Def": 85,
                  "Speed": 100,
                  "Generation": 1,
                  "isLegendary": false,
                  "Color": "Red",
                  "hasGender": true,
                  "Pr_Male": 0.875,
                  "Egg_Group_1": "Monster",
                  "Egg_Group_2": "Dragon",
                  "hasMegaEvolution": true,
                  "Height_m": 1.7,
                  "Weight_kg": 90.5,
                  "Catch_Rate": 45,
                  "Body_Style": "bipedal_tailed",
                  "_deepnote_index_column": 5
                },
                {
                  "Number": 7,
                  "Name": "Squirtle",
                  "Type_1": "Water",
                  "Type_2": "nan",
                  "Total": 314,
                  "HP": 44,
                  "Attack": 48,
                  "Defense": 65,
                  "Sp_Atk": 50,
                  "Sp_Def": 64,
                  "Speed": 43,
                  "Generation": 1,
                  "isLegendary": false,
                  "Color": "Blue",
                  "hasGender": true,
                  "Pr_Male": 0.875,
                  "Egg_Group_1": "Monster",
                  "Egg_Group_2": "Water_1",
                  "hasMegaEvolution": false,
                  "Height_m": 0.51,
                  "Weight_kg": 9,
                  "Catch_Rate": 45,
                  "Body_Style": "bipedal_tailed",
                  "_deepnote_index_column": 6
                },
                {
                  "Number": 8,
                  "Name": "Wartortle",
                  "Type_1": "Water",
                  "Type_2": "nan",
                  "Total": 405,
                  "HP": 59,
                  "Attack": 63,
                  "Defense": 80,
                  "Sp_Atk": 65,
                  "Sp_Def": 80,
                  "Speed": 58,
                  "Generation": 1,
                  "isLegendary": false,
                  "Color": "Blue",
                  "hasGender": true,
                  "Pr_Male": 0.875,
                  "Egg_Group_1": "Monster",
                  "Egg_Group_2": "Water_1",
                  "hasMegaEvolution": false,
                  "Height_m": 0.99,
                  "Weight_kg": 22.5,
                  "Catch_Rate": 45,
                  "Body_Style": "bipedal_tailed",
                  "_deepnote_index_column": 7
                },
                {
                  "Number": 9,
                  "Name": "Blastoise",
                  "Type_1": "Water",
                  "Type_2": "nan",
                  "Total": 530,
                  "HP": 79,
                  "Attack": 83,
                  "Defense": 100,
                  "Sp_Atk": 85,
                  "Sp_Def": 105,
                  "Speed": 78,
                  "Generation": 1,
                  "isLegendary": false,
                  "Color": "Blue",
                  "hasGender": true,
                  "Pr_Male": 0.875,
                  "Egg_Group_1": "Monster",
                  "Egg_Group_2": "Water_1",
                  "hasMegaEvolution": true,
                  "Height_m": 1.6,
                  "Weight_kg": 85.5,
                  "Catch_Rate": 45,
                  "Body_Style": "bipedal_tailed",
                  "_deepnote_index_column": 8
                },
                {
                  "Number": 10,
                  "Name": "Caterpie",
                  "Type_1": "Bug",
                  "Type_2": "nan",
                  "Total": 195,
                  "HP": 45,
                  "Attack": 30,
                  "Defense": 35,
                  "Sp_Atk": 20,
                  "Sp_Def": 20,
                  "Speed": 45,
                  "Generation": 1,
                  "isLegendary": false,
                  "Color": "Green",
                  "hasGender": true,
                  "Pr_Male": 0.5,
                  "Egg_Group_1": "Bug",
                  "Egg_Group_2": "nan",
                  "hasMegaEvolution": false,
                  "Height_m": 0.3,
                  "Weight_kg": 2.9,
                  "Catch_Rate": 255,
                  "Body_Style": "insectoid",
                  "_deepnote_index_column": 9
                },
                {
                  "Number": 11,
                  "Name": "Metapod",
                  "Type_1": "Bug",
                  "Type_2": "nan",
                  "Total": 205,
                  "HP": 50,
                  "Attack": 20,
                  "Defense": 55,
                  "Sp_Atk": 25,
                  "Sp_Def": 25,
                  "Speed": 30,
                  "Generation": 1,
                  "isLegendary": false,
                  "Color": "Green",
                  "hasGender": true,
                  "Pr_Male": 0.5,
                  "Egg_Group_1": "Bug",
                  "Egg_Group_2": "nan",
                  "hasMegaEvolution": false,
                  "Height_m": 0.71,
                  "Weight_kg": 9.9,
                  "Catch_Rate": 120,
                  "Body_Style": "serpentine_body",
                  "_deepnote_index_column": 10
                },
                {
                  "Number": 12,
                  "Name": "Butterfree",
                  "Type_1": "Bug",
                  "Type_2": "Flying",
                  "Total": 395,
                  "HP": 60,
                  "Attack": 45,
                  "Defense": 50,
                  "Sp_Atk": 90,
                  "Sp_Def": 80,
                  "Speed": 70,
                  "Generation": 1,
                  "isLegendary": false,
                  "Color": "White",
                  "hasGender": true,
                  "Pr_Male": 0.5,
                  "Egg_Group_1": "Bug",
                  "Egg_Group_2": "nan",
                  "hasMegaEvolution": false,
                  "Height_m": 1.09,
                  "Weight_kg": 32,
                  "Catch_Rate": 45,
                  "Body_Style": "four_wings",
                  "_deepnote_index_column": 11
                },
                {
                  "Number": 13,
                  "Name": "Weedle",
                  "Type_1": "Bug",
                  "Type_2": "Poison",
                  "Total": 195,
                  "HP": 40,
                  "Attack": 35,
                  "Defense": 30,
                  "Sp_Atk": 20,
                  "Sp_Def": 20,
                  "Speed": 50,
                  "Generation": 1,
                  "isLegendary": false,
                  "Color": "Brown",
                  "hasGender": true,
                  "Pr_Male": 0.5,
                  "Egg_Group_1": "Bug",
                  "Egg_Group_2": "nan",
                  "hasMegaEvolution": false,
                  "Height_m": 0.3,
                  "Weight_kg": 3.2,
                  "Catch_Rate": 255,
                  "Body_Style": "serpentine_body",
                  "_deepnote_index_column": 12
                },
                {
                  "Number": 14,
                  "Name": "Kakuna",
                  "Type_1": "Bug",
                  "Type_2": "Poison",
                  "Total": 205,
                  "HP": 45,
                  "Attack": 25,
                  "Defense": 50,
                  "Sp_Atk": 25,
                  "Sp_Def": 25,
                  "Speed": 35,
                  "Generation": 1,
                  "isLegendary": false,
                  "Color": "Yellow",
                  "hasGender": true,
                  "Pr_Male": 0.5,
                  "Egg_Group_1": "Bug",
                  "Egg_Group_2": "nan",
                  "hasMegaEvolution": false,
                  "Height_m": 0.61,
                  "Weight_kg": 10,
                  "Catch_Rate": 120,
                  "Body_Style": "serpentine_body",
                  "_deepnote_index_column": 13
                },
                {
                  "Number": 15,
                  "Name": "Beedrill",
                  "Type_1": "Bug",
                  "Type_2": "Poison",
                  "Total": 395,
                  "HP": 65,
                  "Attack": 90,
                  "Defense": 40,
                  "Sp_Atk": 45,
                  "Sp_Def": 80,
                  "Speed": 75,
                  "Generation": 1,
                  "isLegendary": false,
                  "Color": "Yellow",
                  "hasGender": true,
                  "Pr_Male": 0.5,
                  "Egg_Group_1": "Bug",
                  "Egg_Group_2": "nan",
                  "hasMegaEvolution": true,
                  "Height_m": 0.99,
                  "Weight_kg": 29.5,
                  "Catch_Rate": 45,
                  "Body_Style": "four_wings",
                  "_deepnote_index_column": 14
                },
                {
                  "Number": 16,
                  "Name": "Pidgey",
                  "Type_1": "Normal",
                  "Type_2": "Flying",
                  "Total": 251,
                  "HP": 40,
                  "Attack": 45,
                  "Defense": 40,
                  "Sp_Atk": 35,
                  "Sp_Def": 35,
                  "Speed": 56,
                  "Generation": 1,
                  "isLegendary": false,
                  "Color": "Brown",
                  "hasGender": true,
                  "Pr_Male": 0.5,
                  "Egg_Group_1": "Flying",
                  "Egg_Group_2": "nan",
                  "hasMegaEvolution": false,
                  "Height_m": 0.3,
                  "Weight_kg": 1.8,
                  "Catch_Rate": 255,
                  "Body_Style": "two_wings",
                  "_deepnote_index_column": 15
                },
                {
                  "Number": 17,
                  "Name": "Pidgeotto",
                  "Type_1": "Normal",
                  "Type_2": "Flying",
                  "Total": 349,
                  "HP": 63,
                  "Attack": 60,
                  "Defense": 55,
                  "Sp_Atk": 50,
                  "Sp_Def": 50,
                  "Speed": 71,
                  "Generation": 1,
                  "isLegendary": false,
                  "Color": "Brown",
                  "hasGender": true,
                  "Pr_Male": 0.5,
                  "Egg_Group_1": "Flying",
                  "Egg_Group_2": "nan",
                  "hasMegaEvolution": false,
                  "Height_m": 1.09,
                  "Weight_kg": 30,
                  "Catch_Rate": 120,
                  "Body_Style": "two_wings",
                  "_deepnote_index_column": 16
                },
                {
                  "Number": 18,
                  "Name": "Pidgeot",
                  "Type_1": "Normal",
                  "Type_2": "Flying",
                  "Total": 479,
                  "HP": 83,
                  "Attack": 80,
                  "Defense": 75,
                  "Sp_Atk": 70,
                  "Sp_Def": 70,
                  "Speed": 101,
                  "Generation": 1,
                  "isLegendary": false,
                  "Color": "Brown",
                  "hasGender": true,
                  "Pr_Male": 0.5,
                  "Egg_Group_1": "Flying",
                  "Egg_Group_2": "nan",
                  "hasMegaEvolution": true,
                  "Height_m": 1.5,
                  "Weight_kg": 39.5,
                  "Catch_Rate": 45,
                  "Body_Style": "two_wings",
                  "_deepnote_index_column": 17
                },
                {
                  "Number": 19,
                  "Name": "Rattata",
                  "Type_1": "Normal",
                  "Type_2": "nan",
                  "Total": 253,
                  "HP": 30,
                  "Attack": 56,
                  "Defense": 35,
                  "Sp_Atk": 25,
                  "Sp_Def": 35,
                  "Speed": 72,
                  "Generation": 1,
                  "isLegendary": false,
                  "Color": "Purple",
                  "hasGender": true,
                  "Pr_Male": 0.5,
                  "Egg_Group_1": "Field",
                  "Egg_Group_2": "nan",
                  "hasMegaEvolution": false,
                  "Height_m": 0.3,
                  "Weight_kg": 3.5,
                  "Catch_Rate": 255,
                  "Body_Style": "quadruped",
                  "_deepnote_index_column": 18
                },
                {
                  "Number": 20,
                  "Name": "Raticate",
                  "Type_1": "Normal",
                  "Type_2": "nan",
                  "Total": 413,
                  "HP": 55,
                  "Attack": 81,
                  "Defense": 60,
                  "Sp_Atk": 50,
                  "Sp_Def": 70,
                  "Speed": 97,
                  "Generation": 1,
                  "isLegendary": false,
                  "Color": "Brown",
                  "hasGender": true,
                  "Pr_Male": 0.5,
                  "Egg_Group_1": "Field",
                  "Egg_Group_2": "nan",
                  "hasMegaEvolution": false,
                  "Height_m": 0.71,
                  "Weight_kg": 18.5,
                  "Catch_Rate": 127,
                  "Body_Style": "quadruped",
                  "_deepnote_index_column": 19
                },
                {
                  "Number": 21,
                  "Name": "Spearow",
                  "Type_1": "Normal",
                  "Type_2": "Flying",
                  "Total": 262,
                  "HP": 40,
                  "Attack": 60,
                  "Defense": 30,
                  "Sp_Atk": 31,
                  "Sp_Def": 31,
                  "Speed": 70,
                  "Generation": 1,
                  "isLegendary": false,
                  "Color": "Brown",
                  "hasGender": true,
                  "Pr_Male": 0.5,
                  "Egg_Group_1": "Flying",
                  "Egg_Group_2": "nan",
                  "hasMegaEvolution": false,
                  "Height_m": 0.3,
                  "Weight_kg": 2,
                  "Catch_Rate": 255,
                  "Body_Style": "two_wings",
                  "_deepnote_index_column": 20
                }
              ],
              "rows_bottom": [
                {
                  "Number": 700,
                  "Name": "Sylveon",
                  "Type_1": "Fairy",
                  "Type_2": "nan",
                  "Total": 525,
                  "HP": 95,
                  "Attack": 65,
                  "Defense": 65,
                  "Sp_Atk": 110,
                  "Sp_Def": 130,
                  "Speed": 60,
                  "Generation": 6,
                  "isLegendary": false,
                  "Color": "Pink",
                  "hasGender": true,
                  "Pr_Male": "0.875",
                  "Egg_Group_1": "Field",
                  "Egg_Group_2": "nan",
                  "hasMegaEvolution": false,
                  "Height_m": 0.99,
                  "Weight_kg": 23.5,
                  "Catch_Rate": 45,
                  "Body_Style": "quadruped",
                  "_deepnote_index_column": 699
                },
                {
                  "Number": 701,
                  "Name": "Hawlucha",
                  "Type_1": "Fighting",
                  "Type_2": "Flying",
                  "Total": 500,
                  "HP": 78,
                  "Attack": 92,
                  "Defense": 75,
                  "Sp_Atk": 74,
                  "Sp_Def": 63,
                  "Speed": 118,
                  "Generation": 6,
                  "isLegendary": false,
                  "Color": "Green",
                  "hasGender": true,
                  "Pr_Male": "0.5",
                  "Egg_Group_1": "Human-Like",
                  "Egg_Group_2": "nan",
                  "hasMegaEvolution": false,
                  "Height_m": 0.79,
                  "Weight_kg": 21.5,
                  "Catch_Rate": 100,
                  "Body_Style": "bipedal_tailless",
                  "_deepnote_index_column": 700
                },
                {
                  "Number": 702,
                  "Name": "Dedenne",
                  "Type_1": "Electric",
                  "Type_2": "Fairy",
                  "Total": 431,
                  "HP": 67,
                  "Attack": 58,
                  "Defense": 57,
                  "Sp_Atk": 81,
                  "Sp_Def": 67,
                  "Speed": 101,
                  "Generation": 6,
                  "isLegendary": false,
                  "Color": "Yellow",
                  "hasGender": true,
                  "Pr_Male": "0.5",
                  "Egg_Group_1": "Field",
                  "Egg_Group_2": "Fairy",
                  "hasMegaEvolution": false,
                  "Height_m": 0.2,
                  "Weight_kg": 2.2,
                  "Catch_Rate": 180,
                  "Body_Style": "bipedal_tailed",
                  "_deepnote_index_column": 701
                },
                {
                  "Number": 703,
                  "Name": "Carbink",
                  "Type_1": "Rock",
                  "Type_2": "Fairy",
                  "Total": 500,
                  "HP": 50,
                  "Attack": 50,
                  "Defense": 150,
                  "Sp_Atk": 50,
                  "Sp_Def": 150,
                  "Speed": 50,
                  "Generation": 6,
                  "isLegendary": false,
                  "Color": "Grey",
                  "hasGender": false,
                  "Pr_Male": "nan",
                  "Egg_Group_1": "Fairy",
                  "Egg_Group_2": "Mineral",
                  "hasMegaEvolution": false,
                  "Height_m": 0.3,
                  "Weight_kg": 5.7,
                  "Catch_Rate": 60,
                  "Body_Style": "head_only",
                  "_deepnote_index_column": 702
                },
                {
                  "Number": 704,
                  "Name": "Goomy",
                  "Type_1": "Dragon",
                  "Type_2": "nan",
                  "Total": 300,
                  "HP": 45,
                  "Attack": 50,
                  "Defense": 35,
                  "Sp_Atk": 55,
                  "Sp_Def": 75,
                  "Speed": 40,
                  "Generation": 6,
                  "isLegendary": false,
                  "Color": "Purple",
                  "hasGender": true,
                  "Pr_Male": "0.5",
                  "Egg_Group_1": "Dragon",
                  "Egg_Group_2": "nan",
                  "hasMegaEvolution": false,
                  "Height_m": 0.3,
                  "Weight_kg": 2.8,
                  "Catch_Rate": 45,
                  "Body_Style": "serpentine_body",
                  "_deepnote_index_column": 703
                },
                {
                  "Number": 705,
                  "Name": "Sliggoo",
                  "Type_1": "Dragon",
                  "Type_2": "nan",
                  "Total": 452,
                  "HP": 68,
                  "Attack": 75,
                  "Defense": 53,
                  "Sp_Atk": 83,
                  "Sp_Def": 113,
                  "Speed": 60,
                  "Generation": 6,
                  "isLegendary": false,
                  "Color": "Purple",
                  "hasGender": true,
                  "Pr_Male": "0.5",
                  "Egg_Group_1": "Dragon",
                  "Egg_Group_2": "nan",
                  "hasMegaEvolution": false,
                  "Height_m": 0.79,
                  "Weight_kg": 17.5,
                  "Catch_Rate": 45,
                  "Body_Style": "serpentine_body",
                  "_deepnote_index_column": 704
                },
                {
                  "Number": 706,
                  "Name": "Goodra",
                  "Type_1": "Dragon",
                  "Type_2": "nan",
                  "Total": 600,
                  "HP": 90,
                  "Attack": 100,
                  "Defense": 70,
                  "Sp_Atk": 110,
                  "Sp_Def": 150,
                  "Speed": 80,
                  "Generation": 6,
                  "isLegendary": false,
                  "Color": "Purple",
                  "hasGender": true,
                  "Pr_Male": "0.5",
                  "Egg_Group_1": "Dragon",
                  "Egg_Group_2": "nan",
                  "hasMegaEvolution": false,
                  "Height_m": 2.01,
                  "Weight_kg": 150.5,
                  "Catch_Rate": 45,
                  "Body_Style": "bipedal_tailed",
                  "_deepnote_index_column": 705
                },
                {
                  "Number": 707,
                  "Name": "Klefki",
                  "Type_1": "Steel",
                  "Type_2": "Fairy",
                  "Total": 470,
                  "HP": 57,
                  "Attack": 80,
                  "Defense": 91,
                  "Sp_Atk": 80,
                  "Sp_Def": 87,
                  "Speed": 75,
                  "Generation": 6,
                  "isLegendary": false,
                  "Color": "Grey",
                  "hasGender": true,
                  "Pr_Male": "0.5",
                  "Egg_Group_1": "Mineral",
                  "Egg_Group_2": "nan",
                  "hasMegaEvolution": false,
                  "Height_m": 0.2,
                  "Weight_kg": 3,
                  "Catch_Rate": 75,
                  "Body_Style": "head_only",
                  "_deepnote_index_column": 706
                },
                {
                  "Number": 708,
                  "Name": "Phantump",
                  "Type_1": "Ghost",
                  "Type_2": "Grass",
                  "Total": 309,
                  "HP": 43,
                  "Attack": 70,
                  "Defense": 48,
                  "Sp_Atk": 50,
                  "Sp_Def": 60,
                  "Speed": 38,
                  "Generation": 6,
                  "isLegendary": false,
                  "Color": "Brown",
                  "hasGender": true,
                  "Pr_Male": "0.5",
                  "Egg_Group_1": "Grass",
                  "Egg_Group_2": "Amorphous",
                  "hasMegaEvolution": false,
                  "Height_m": 0.41,
                  "Weight_kg": 7,
                  "Catch_Rate": 120,
                  "Body_Style": "head_arms",
                  "_deepnote_index_column": 707
                },
                {
                  "Number": 709,
                  "Name": "Trevenant",
                  "Type_1": "Ghost",
                  "Type_2": "Grass",
                  "Total": 474,
                  "HP": 85,
                  "Attack": 110,
                  "Defense": 76,
                  "Sp_Atk": 65,
                  "Sp_Def": 82,
                  "Speed": 56,
                  "Generation": 6,
                  "isLegendary": false,
                  "Color": "Brown",
                  "hasGender": true,
                  "Pr_Male": "0.5",
                  "Egg_Group_1": "Grass",
                  "Egg_Group_2": "Amorphous",
                  "hasMegaEvolution": false,
                  "Height_m": 1.5,
                  "Weight_kg": 71,
                  "Catch_Rate": 60,
                  "Body_Style": "several_limbs",
                  "_deepnote_index_column": 708
                },
                {
                  "Number": 710,
                  "Name": "Pumpkaboo",
                  "Type_1": "Ghost",
                  "Type_2": "Grass",
                  "Total": 335,
                  "HP": 49,
                  "Attack": 66,
                  "Defense": 70,
                  "Sp_Atk": 44,
                  "Sp_Def": 55,
                  "Speed": 51,
                  "Generation": 6,
                  "isLegendary": false,
                  "Color": "Brown",
                  "hasGender": true,
                  "Pr_Male": "0.5",
                  "Egg_Group_1": "Amorphous",
                  "Egg_Group_2": "nan",
                  "hasMegaEvolution": false,
                  "Height_m": 0.41,
                  "Weight_kg": 5,
                  "Catch_Rate": 120,
                  "Body_Style": "head_only",
                  "_deepnote_index_column": 709
                },
                {
                  "Number": 711,
                  "Name": "Gourgeist",
                  "Type_1": "Ghost",
                  "Type_2": "Grass",
                  "Total": 494,
                  "HP": 65,
                  "Attack": 90,
                  "Defense": 122,
                  "Sp_Atk": 58,
                  "Sp_Def": 75,
                  "Speed": 84,
                  "Generation": 6,
                  "isLegendary": false,
                  "Color": "Brown",
                  "hasGender": true,
                  "Pr_Male": "0.5",
                  "Egg_Group_1": "Amorphous",
                  "Egg_Group_2": "nan",
                  "hasMegaEvolution": false,
                  "Height_m": 1.7,
                  "Weight_kg": 39,
                  "Catch_Rate": 60,
                  "Body_Style": "head_base",
                  "_deepnote_index_column": 710
                },
                {
                  "Number": 712,
                  "Name": "Bergmite",
                  "Type_1": "Ice",
                  "Type_2": "nan",
                  "Total": 304,
                  "HP": 55,
                  "Attack": 69,
                  "Defense": 85,
                  "Sp_Atk": 32,
                  "Sp_Def": 35,
                  "Speed": 28,
                  "Generation": 6,
                  "isLegendary": false,
                  "Color": "Blue",
                  "hasGender": true,
                  "Pr_Male": "0.5",
                  "Egg_Group_1": "Monster",
                  "Egg_Group_2": "nan",
                  "hasMegaEvolution": false,
                  "Height_m": 0.99,
                  "Weight_kg": 99.5,
                  "Catch_Rate": 190,
                  "Body_Style": "quadruped",
                  "_deepnote_index_column": 711
                },
                {
                  "Number": 713,
                  "Name": "Avalugg",
                  "Type_1": "Ice",
                  "Type_2": "nan",
                  "Total": 514,
                  "HP": 95,
                  "Attack": 117,
                  "Defense": 184,
                  "Sp_Atk": 44,
                  "Sp_Def": 46,
                  "Speed": 28,
                  "Generation": 6,
                  "isLegendary": false,
                  "Color": "Blue",
                  "hasGender": true,
                  "Pr_Male": "0.5",
                  "Egg_Group_1": "Monster",
                  "Egg_Group_2": "nan",
                  "hasMegaEvolution": false,
                  "Height_m": 2.01,
                  "Weight_kg": 505,
                  "Catch_Rate": 55,
                  "Body_Style": "quadruped",
                  "_deepnote_index_column": 712
                },
                {
                  "Number": 714,
                  "Name": "Noibat",
                  "Type_1": "Flying",
                  "Type_2": "Dragon",
                  "Total": 245,
                  "HP": 40,
                  "Attack": 30,
                  "Defense": 35,
                  "Sp_Atk": 45,
                  "Sp_Def": 40,
                  "Speed": 55,
                  "Generation": 6,
                  "isLegendary": false,
                  "Color": "Purple",
                  "hasGender": true,
                  "Pr_Male": "0.5",
                  "Egg_Group_1": "Flying",
                  "Egg_Group_2": "nan",
                  "hasMegaEvolution": false,
                  "Height_m": 0.51,
                  "Weight_kg": 8,
                  "Catch_Rate": 190,
                  "Body_Style": "two_wings",
                  "_deepnote_index_column": 713
                },
                {
                  "Number": 715,
                  "Name": "Noivern",
                  "Type_1": "Flying",
                  "Type_2": "Dragon",
                  "Total": 535,
                  "HP": 85,
                  "Attack": 70,
                  "Defense": 80,
                  "Sp_Atk": 97,
                  "Sp_Def": 80,
                  "Speed": 123,
                  "Generation": 6,
                  "isLegendary": false,
                  "Color": "Purple",
                  "hasGender": true,
                  "Pr_Male": "0.5",
                  "Egg_Group_1": "Flying",
                  "Egg_Group_2": "nan",
                  "hasMegaEvolution": false,
                  "Height_m": 1.5,
                  "Weight_kg": 85,
                  "Catch_Rate": 45,
                  "Body_Style": "two_wings",
                  "_deepnote_index_column": 714
                },
                {
                  "Number": 716,
                  "Name": "Xerneas",
                  "Type_1": "Fairy",
                  "Type_2": "nan",
                  "Total": 680,
                  "HP": 126,
                  "Attack": 131,
                  "Defense": 95,
                  "Sp_Atk": 131,
                  "Sp_Def": 98,
                  "Speed": 99,
                  "Generation": 6,
                  "isLegendary": true,
                  "Color": "Blue",
                  "hasGender": false,
                  "Pr_Male": "nan",
                  "Egg_Group_1": "Undiscovered",
                  "Egg_Group_2": "nan",
                  "hasMegaEvolution": false,
                  "Height_m": 3,
                  "Weight_kg": 215,
                  "Catch_Rate": 45,
                  "Body_Style": "quadruped",
                  "_deepnote_index_column": 715
                },
                {
                  "Number": 717,
                  "Name": "Yveltal",
                  "Type_1": "Dark",
                  "Type_2": "Flying",
                  "Total": 680,
                  "HP": 126,
                  "Attack": 131,
                  "Defense": 95,
                  "Sp_Atk": 131,
                  "Sp_Def": 98,
                  "Speed": 99,
                  "Generation": 6,
                  "isLegendary": true,
                  "Color": "Red",
                  "hasGender": false,
                  "Pr_Male": "nan",
                  "Egg_Group_1": "Undiscovered",
                  "Egg_Group_2": "nan",
                  "hasMegaEvolution": false,
                  "Height_m": 5.79,
                  "Weight_kg": 203,
                  "Catch_Rate": 45,
                  "Body_Style": "two_wings",
                  "_deepnote_index_column": 716
                },
                {
                  "Number": 718,
                  "Name": "Zygarde",
                  "Type_1": "Dragon",
                  "Type_2": "Ground",
                  "Total": 600,
                  "HP": 108,
                  "Attack": 100,
                  "Defense": 121,
                  "Sp_Atk": 81,
                  "Sp_Def": 95,
                  "Speed": 95,
                  "Generation": 6,
                  "isLegendary": true,
                  "Color": "Green",
                  "hasGender": false,
                  "Pr_Male": "nan",
                  "Egg_Group_1": "Undiscovered",
                  "Egg_Group_2": "nan",
                  "hasMegaEvolution": false,
                  "Height_m": 5,
                  "Weight_kg": 305,
                  "Catch_Rate": 3,
                  "Body_Style": "serpentine_body",
                  "_deepnote_index_column": 717
                },
                {
                  "Number": 719,
                  "Name": "Diancie",
                  "Type_1": "Rock",
                  "Type_2": "Fairy",
                  "Total": 600,
                  "HP": 50,
                  "Attack": 100,
                  "Defense": 150,
                  "Sp_Atk": 100,
                  "Sp_Def": 150,
                  "Speed": 50,
                  "Generation": 6,
                  "isLegendary": true,
                  "Color": "Pink",
                  "hasGender": false,
                  "Pr_Male": "nan",
                  "Egg_Group_1": "Undiscovered",
                  "Egg_Group_2": "nan",
                  "hasMegaEvolution": true,
                  "Height_m": 0.71,
                  "Weight_kg": 8.8,
                  "Catch_Rate": 3,
                  "Body_Style": "head_arms",
                  "_deepnote_index_column": 718
                },
                {
                  "Number": 720,
                  "Name": "Hoopa",
                  "Type_1": "Psychic",
                  "Type_2": "Ghost",
                  "Total": 600,
                  "HP": 80,
                  "Attack": 110,
                  "Defense": 60,
                  "Sp_Atk": 150,
                  "Sp_Def": 130,
                  "Speed": 70,
                  "Generation": 6,
                  "isLegendary": true,
                  "Color": "Purple",
                  "hasGender": false,
                  "Pr_Male": "nan",
                  "Egg_Group_1": "Undiscovered",
                  "Egg_Group_2": "nan",
                  "hasMegaEvolution": false,
                  "Height_m": 0.51,
                  "Weight_kg": 9,
                  "Catch_Rate": 3,
                  "Body_Style": "head_only",
                  "_deepnote_index_column": 719
                },
                {
                  "Number": 721,
                  "Name": "Volcanion",
                  "Type_1": "Fire",
                  "Type_2": "Water",
                  "Total": 600,
                  "HP": 80,
                  "Attack": 110,
                  "Defense": 120,
                  "Sp_Atk": 130,
                  "Sp_Def": 90,
                  "Speed": 70,
                  "Generation": 6,
                  "isLegendary": true,
                  "Color": "Brown",
                  "hasGender": false,
                  "Pr_Male": "nan",
                  "Egg_Group_1": "Undiscovered",
                  "Egg_Group_2": "nan",
                  "hasMegaEvolution": false,
                  "Height_m": 1.7,
                  "Weight_kg": 195,
                  "Catch_Rate": 3,
                  "Body_Style": "quadruped",
                  "_deepnote_index_column": 720
                }
              ]
            },
            "text/plain": "     Number        Name   Type_1  Type_2  Total   HP  Attack  Defense  Sp_Atk  \\\n0         1   Bulbasaur    Grass  Poison    318   45      49       49      65   \n1         2     Ivysaur    Grass  Poison    405   60      62       63      80   \n2         3    Venusaur    Grass  Poison    525   80      82       83     100   \n3         4  Charmander     Fire     NaN    309   39      52       43      60   \n4         5  Charmeleon     Fire     NaN    405   58      64       58      80   \n..      ...         ...      ...     ...    ...  ...     ...      ...     ...   \n716     717     Yveltal     Dark  Flying    680  126     131       95     131   \n717     718     Zygarde   Dragon  Ground    600  108     100      121      81   \n718     719     Diancie     Rock   Fairy    600   50     100      150     100   \n719     720       Hoopa  Psychic   Ghost    600   80     110       60     150   \n720     721   Volcanion     Fire   Water    600   80     110      120     130   \n\n     Sp_Def  ...   Color  hasGender  Pr_Male   Egg_Group_1  Egg_Group_2  \\\n0        65  ...   Green       True    0.875       Monster        Grass   \n1        80  ...   Green       True    0.875       Monster        Grass   \n2       100  ...   Green       True    0.875       Monster        Grass   \n3        50  ...     Red       True    0.875       Monster       Dragon   \n4        65  ...     Red       True    0.875       Monster       Dragon   \n..      ...  ...     ...        ...      ...           ...          ...   \n716      98  ...     Red      False      NaN  Undiscovered          NaN   \n717      95  ...   Green      False      NaN  Undiscovered          NaN   \n718     150  ...    Pink      False      NaN  Undiscovered          NaN   \n719     130  ...  Purple      False      NaN  Undiscovered          NaN   \n720      90  ...   Brown      False      NaN  Undiscovered          NaN   \n\n     hasMegaEvolution Height_m Weight_kg  Catch_Rate       Body_Style  \n0               False     0.71       6.9          45        quadruped  \n1               False     0.99      13.0          45        quadruped  \n2                True     2.01     100.0          45        quadruped  \n3               False     0.61       8.5          45   bipedal_tailed  \n4               False     1.09      19.0          45   bipedal_tailed  \n..                ...      ...       ...         ...              ...  \n716             False     5.79     203.0          45        two_wings  \n717             False     5.00     305.0           3  serpentine_body  \n718              True     0.71       8.8           3        head_arms  \n719             False     0.51       9.0           3        head_only  \n720             False     1.70     195.0           3        quadruped  \n\n[721 rows x 23 columns]",
            "text/html": "<div>\n<style scoped>\n    .dataframe tbody tr th:only-of-type {\n        vertical-align: middle;\n    }\n\n    .dataframe tbody tr th {\n        vertical-align: top;\n    }\n\n    .dataframe thead th {\n        text-align: right;\n    }\n</style>\n<table border=\"1\" class=\"dataframe\">\n  <thead>\n    <tr style=\"text-align: right;\">\n      <th></th>\n      <th>Number</th>\n      <th>Name</th>\n      <th>Type_1</th>\n      <th>Type_2</th>\n      <th>Total</th>\n      <th>HP</th>\n      <th>Attack</th>\n      <th>Defense</th>\n      <th>Sp_Atk</th>\n      <th>Sp_Def</th>\n      <th>...</th>\n      <th>Color</th>\n      <th>hasGender</th>\n      <th>Pr_Male</th>\n      <th>Egg_Group_1</th>\n      <th>Egg_Group_2</th>\n      <th>hasMegaEvolution</th>\n      <th>Height_m</th>\n      <th>Weight_kg</th>\n      <th>Catch_Rate</th>\n      <th>Body_Style</th>\n    </tr>\n  </thead>\n  <tbody>\n    <tr>\n      <th>0</th>\n      <td>1</td>\n      <td>Bulbasaur</td>\n      <td>Grass</td>\n      <td>Poison</td>\n      <td>318</td>\n      <td>45</td>\n      <td>49</td>\n      <td>49</td>\n      <td>65</td>\n      <td>65</td>\n      <td>...</td>\n      <td>Green</td>\n      <td>True</td>\n      <td>0.875</td>\n      <td>Monster</td>\n      <td>Grass</td>\n      <td>False</td>\n      <td>0.71</td>\n      <td>6.9</td>\n      <td>45</td>\n      <td>quadruped</td>\n    </tr>\n    <tr>\n      <th>1</th>\n      <td>2</td>\n      <td>Ivysaur</td>\n      <td>Grass</td>\n      <td>Poison</td>\n      <td>405</td>\n      <td>60</td>\n      <td>62</td>\n      <td>63</td>\n      <td>80</td>\n      <td>80</td>\n      <td>...</td>\n      <td>Green</td>\n      <td>True</td>\n      <td>0.875</td>\n      <td>Monster</td>\n      <td>Grass</td>\n      <td>False</td>\n      <td>0.99</td>\n      <td>13.0</td>\n      <td>45</td>\n      <td>quadruped</td>\n    </tr>\n    <tr>\n      <th>2</th>\n      <td>3</td>\n      <td>Venusaur</td>\n      <td>Grass</td>\n      <td>Poison</td>\n      <td>525</td>\n      <td>80</td>\n      <td>82</td>\n      <td>83</td>\n      <td>100</td>\n      <td>100</td>\n      <td>...</td>\n      <td>Green</td>\n      <td>True</td>\n      <td>0.875</td>\n      <td>Monster</td>\n      <td>Grass</td>\n      <td>True</td>\n      <td>2.01</td>\n      <td>100.0</td>\n      <td>45</td>\n      <td>quadruped</td>\n    </tr>\n    <tr>\n      <th>3</th>\n      <td>4</td>\n      <td>Charmander</td>\n      <td>Fire</td>\n      <td>NaN</td>\n      <td>309</td>\n      <td>39</td>\n      <td>52</td>\n      <td>43</td>\n      <td>60</td>\n      <td>50</td>\n      <td>...</td>\n      <td>Red</td>\n      <td>True</td>\n      <td>0.875</td>\n      <td>Monster</td>\n      <td>Dragon</td>\n      <td>False</td>\n      <td>0.61</td>\n      <td>8.5</td>\n      <td>45</td>\n      <td>bipedal_tailed</td>\n    </tr>\n    <tr>\n      <th>4</th>\n      <td>5</td>\n      <td>Charmeleon</td>\n      <td>Fire</td>\n      <td>NaN</td>\n      <td>405</td>\n      <td>58</td>\n      <td>64</td>\n      <td>58</td>\n      <td>80</td>\n      <td>65</td>\n      <td>...</td>\n      <td>Red</td>\n      <td>True</td>\n      <td>0.875</td>\n      <td>Monster</td>\n      <td>Dragon</td>\n      <td>False</td>\n      <td>1.09</td>\n      <td>19.0</td>\n      <td>45</td>\n      <td>bipedal_tailed</td>\n    </tr>\n    <tr>\n      <th>...</th>\n      <td>...</td>\n      <td>...</td>\n      <td>...</td>\n      <td>...</td>\n      <td>...</td>\n      <td>...</td>\n      <td>...</td>\n      <td>...</td>\n      <td>...</td>\n      <td>...</td>\n      <td>...</td>\n      <td>...</td>\n      <td>...</td>\n      <td>...</td>\n      <td>...</td>\n      <td>...</td>\n      <td>...</td>\n      <td>...</td>\n      <td>...</td>\n      <td>...</td>\n      <td>...</td>\n    </tr>\n    <tr>\n      <th>716</th>\n      <td>717</td>\n      <td>Yveltal</td>\n      <td>Dark</td>\n      <td>Flying</td>\n      <td>680</td>\n      <td>126</td>\n      <td>131</td>\n      <td>95</td>\n      <td>131</td>\n      <td>98</td>\n      <td>...</td>\n      <td>Red</td>\n      <td>False</td>\n      <td>NaN</td>\n      <td>Undiscovered</td>\n      <td>NaN</td>\n      <td>False</td>\n      <td>5.79</td>\n      <td>203.0</td>\n      <td>45</td>\n      <td>two_wings</td>\n    </tr>\n    <tr>\n      <th>717</th>\n      <td>718</td>\n      <td>Zygarde</td>\n      <td>Dragon</td>\n      <td>Ground</td>\n      <td>600</td>\n      <td>108</td>\n      <td>100</td>\n      <td>121</td>\n      <td>81</td>\n      <td>95</td>\n      <td>...</td>\n      <td>Green</td>\n      <td>False</td>\n      <td>NaN</td>\n      <td>Undiscovered</td>\n      <td>NaN</td>\n      <td>False</td>\n      <td>5.00</td>\n      <td>305.0</td>\n      <td>3</td>\n      <td>serpentine_body</td>\n    </tr>\n    <tr>\n      <th>718</th>\n      <td>719</td>\n      <td>Diancie</td>\n      <td>Rock</td>\n      <td>Fairy</td>\n      <td>600</td>\n      <td>50</td>\n      <td>100</td>\n      <td>150</td>\n      <td>100</td>\n      <td>150</td>\n      <td>...</td>\n      <td>Pink</td>\n      <td>False</td>\n      <td>NaN</td>\n      <td>Undiscovered</td>\n      <td>NaN</td>\n      <td>True</td>\n      <td>0.71</td>\n      <td>8.8</td>\n      <td>3</td>\n      <td>head_arms</td>\n    </tr>\n    <tr>\n      <th>719</th>\n      <td>720</td>\n      <td>Hoopa</td>\n      <td>Psychic</td>\n      <td>Ghost</td>\n      <td>600</td>\n      <td>80</td>\n      <td>110</td>\n      <td>60</td>\n      <td>150</td>\n      <td>130</td>\n      <td>...</td>\n      <td>Purple</td>\n      <td>False</td>\n      <td>NaN</td>\n      <td>Undiscovered</td>\n      <td>NaN</td>\n      <td>False</td>\n      <td>0.51</td>\n      <td>9.0</td>\n      <td>3</td>\n      <td>head_only</td>\n    </tr>\n    <tr>\n      <th>720</th>\n      <td>721</td>\n      <td>Volcanion</td>\n      <td>Fire</td>\n      <td>Water</td>\n      <td>600</td>\n      <td>80</td>\n      <td>110</td>\n      <td>120</td>\n      <td>130</td>\n      <td>90</td>\n      <td>...</td>\n      <td>Brown</td>\n      <td>False</td>\n      <td>NaN</td>\n      <td>Undiscovered</td>\n      <td>NaN</td>\n      <td>False</td>\n      <td>1.70</td>\n      <td>195.0</td>\n      <td>3</td>\n      <td>quadruped</td>\n    </tr>\n  </tbody>\n</table>\n<p>721 rows × 23 columns</p>\n</div>"
          },
          "metadata": {}
        }
      ]
    },
    {
      "cell_type": "markdown",
      "source": "### **Initial Clean**",
      "metadata": {
        "id": "5rPtlc5cfbKY",
        "cell_id": "00009-ca66ad4f-5a44-4639-9ac7-a5995b758fa0",
        "deepnote_cell_type": "markdown"
      }
    },
    {
      "cell_type": "code",
      "metadata": {
        "id": "2Ra49ZREfieU",
        "cell_id": "00010-5189b78b-e231-4f4d-81e2-f6ed0e84c13d",
        "deepnote_to_be_reexecuted": false,
        "source_hash": "eb50648d",
        "execution_millis": 7,
        "execution_start": 1615431293730,
        "deepnote_cell_type": "code"
      },
      "source": "# Get Rid of columns that will not aid classification\nX = X.drop(['hasMegaEvolution', 'hasGender', 'Pr_Male','isLegendary'], axis= 1)\n",
      "execution_count": null,
      "outputs": []
    },
    {
      "cell_type": "markdown",
      "source": "### **Separate Data Types**",
      "metadata": {
        "id": "8O822dU5gj5y",
        "cell_id": "00011-f7ea25ab-0613-4ed1-abb7-30cef6e2306d",
        "deepnote_cell_type": "markdown"
      }
    },
    {
      "cell_type": "code",
      "metadata": {
        "colab": {
          "base_uri": "https://localhost:8080/",
          "height": 415
        },
        "id": "bT2hDMsxZcj-",
        "outputId": "87ce10a3-5078-4b79-9d5b-390dc3ce694d",
        "cell_id": "00012-4475d5a9-ff06-4b04-a594-b87c74c4b28b",
        "deepnote_to_be_reexecuted": false,
        "source_hash": "ac1620ae",
        "execution_millis": 60,
        "execution_start": 1615431293758,
        "deepnote_cell_type": "code"
      },
      "source": "numerical_df = X.select_dtypes(['int', 'float'])\nnumerical_df",
      "execution_count": null,
      "outputs": [
        {
          "output_type": "execute_result",
          "execution_count": 252,
          "data": {
            "application/vnd.deepnote.dataframe.v2+json": {
              "row_count": 721,
              "column_count": 11,
              "columns": [
                {
                  "name": "Number",
                  "dtype": "int64",
                  "stats": {
                    "unique_count": 721,
                    "nan_count": 0,
                    "min": 1,
                    "max": 721,
                    "histogram": [
                      {
                        "bin_start": 1,
                        "bin_end": 73,
                        "count": 72
                      },
                      {
                        "bin_start": 73,
                        "bin_end": 145,
                        "count": 72
                      },
                      {
                        "bin_start": 145,
                        "bin_end": 217,
                        "count": 72
                      },
                      {
                        "bin_start": 217,
                        "bin_end": 289,
                        "count": 72
                      },
                      {
                        "bin_start": 289,
                        "bin_end": 361,
                        "count": 72
                      },
                      {
                        "bin_start": 361,
                        "bin_end": 433,
                        "count": 72
                      },
                      {
                        "bin_start": 433,
                        "bin_end": 505,
                        "count": 72
                      },
                      {
                        "bin_start": 505,
                        "bin_end": 577,
                        "count": 72
                      },
                      {
                        "bin_start": 577,
                        "bin_end": 649,
                        "count": 72
                      },
                      {
                        "bin_start": 649,
                        "bin_end": 721,
                        "count": 73
                      }
                    ]
                  }
                },
                {
                  "name": "Total",
                  "dtype": "int64",
                  "stats": {
                    "unique_count": 183,
                    "nan_count": 0,
                    "min": 180,
                    "max": 720,
                    "histogram": [
                      {
                        "bin_start": 180,
                        "bin_end": 234,
                        "count": 26
                      },
                      {
                        "bin_start": 234,
                        "bin_end": 288,
                        "count": 53
                      },
                      {
                        "bin_start": 288,
                        "bin_end": 342,
                        "count": 151
                      },
                      {
                        "bin_start": 342,
                        "bin_end": 396,
                        "count": 69
                      },
                      {
                        "bin_start": 396,
                        "bin_end": 450,
                        "count": 93
                      },
                      {
                        "bin_start": 450,
                        "bin_end": 504,
                        "count": 172
                      },
                      {
                        "bin_start": 504,
                        "bin_end": 558,
                        "count": 95
                      },
                      {
                        "bin_start": 558,
                        "bin_end": 612,
                        "count": 45
                      },
                      {
                        "bin_start": 612,
                        "bin_end": 666,
                        "count": 1
                      },
                      {
                        "bin_start": 666,
                        "bin_end": 720,
                        "count": 16
                      }
                    ]
                  }
                },
                {
                  "name": "HP",
                  "dtype": "int64",
                  "stats": {
                    "unique_count": 94,
                    "nan_count": 0,
                    "min": 1,
                    "max": 255,
                    "histogram": [
                      {
                        "bin_start": 1,
                        "bin_end": 26.4,
                        "count": 10
                      },
                      {
                        "bin_start": 26.4,
                        "bin_end": 51.8,
                        "count": 190
                      },
                      {
                        "bin_start": 51.8,
                        "bin_end": 77.19999999999999,
                        "count": 308
                      },
                      {
                        "bin_start": 77.19999999999999,
                        "bin_end": 102.6,
                        "count": 157
                      },
                      {
                        "bin_start": 102.6,
                        "bin_end": 128,
                        "count": 41
                      },
                      {
                        "bin_start": 128,
                        "bin_end": 153.39999999999998,
                        "count": 9
                      },
                      {
                        "bin_start": 153.39999999999998,
                        "bin_end": 178.79999999999998,
                        "count": 3
                      },
                      {
                        "bin_start": 178.79999999999998,
                        "bin_end": 204.2,
                        "count": 1
                      },
                      {
                        "bin_start": 204.2,
                        "bin_end": 229.6,
                        "count": 0
                      },
                      {
                        "bin_start": 229.6,
                        "bin_end": 255,
                        "count": 2
                      }
                    ]
                  }
                },
                {
                  "name": "Attack",
                  "dtype": "int64",
                  "stats": {
                    "unique_count": 100,
                    "nan_count": 0,
                    "min": 5,
                    "max": 165,
                    "histogram": [
                      {
                        "bin_start": 5,
                        "bin_end": 21,
                        "count": 14
                      },
                      {
                        "bin_start": 21,
                        "bin_end": 37,
                        "count": 46
                      },
                      {
                        "bin_start": 37,
                        "bin_end": 53,
                        "count": 116
                      },
                      {
                        "bin_start": 53,
                        "bin_end": 69,
                        "count": 139
                      },
                      {
                        "bin_start": 69,
                        "bin_end": 85,
                        "count": 142
                      },
                      {
                        "bin_start": 85,
                        "bin_end": 101,
                        "count": 140
                      },
                      {
                        "bin_start": 101,
                        "bin_end": 117,
                        "count": 51
                      },
                      {
                        "bin_start": 117,
                        "bin_end": 133,
                        "count": 54
                      },
                      {
                        "bin_start": 133,
                        "bin_end": 149,
                        "count": 12
                      },
                      {
                        "bin_start": 149,
                        "bin_end": 165,
                        "count": 7
                      }
                    ]
                  }
                },
                {
                  "name": "Defense",
                  "dtype": "int64",
                  "stats": {
                    "unique_count": 97,
                    "nan_count": 0,
                    "min": 5,
                    "max": 230,
                    "histogram": [
                      {
                        "bin_start": 5,
                        "bin_end": 27.5,
                        "count": 13
                      },
                      {
                        "bin_start": 27.5,
                        "bin_end": 50,
                        "count": 148
                      },
                      {
                        "bin_start": 50,
                        "bin_end": 72.5,
                        "count": 272
                      },
                      {
                        "bin_start": 72.5,
                        "bin_end": 95,
                        "count": 148
                      },
                      {
                        "bin_start": 95,
                        "bin_end": 117.5,
                        "count": 87
                      },
                      {
                        "bin_start": 117.5,
                        "bin_end": 140,
                        "count": 33
                      },
                      {
                        "bin_start": 140,
                        "bin_end": 162.5,
                        "count": 13
                      },
                      {
                        "bin_start": 162.5,
                        "bin_end": 185,
                        "count": 4
                      },
                      {
                        "bin_start": 185,
                        "bin_end": 207.5,
                        "count": 2
                      },
                      {
                        "bin_start": 207.5,
                        "bin_end": 230,
                        "count": 1
                      }
                    ]
                  }
                },
                {
                  "name": "Sp_Atk",
                  "dtype": "int64",
                  "stats": {
                    "unique_count": 94,
                    "nan_count": 0,
                    "min": 10,
                    "max": 154,
                    "histogram": [
                      {
                        "bin_start": 10,
                        "bin_end": 24.4,
                        "count": 17
                      },
                      {
                        "bin_start": 24.4,
                        "bin_end": 38.8,
                        "count": 77
                      },
                      {
                        "bin_start": 38.8,
                        "bin_end": 53.2,
                        "count": 145
                      },
                      {
                        "bin_start": 53.2,
                        "bin_end": 67.6,
                        "count": 157
                      },
                      {
                        "bin_start": 67.6,
                        "bin_end": 82,
                        "count": 104
                      },
                      {
                        "bin_start": 82,
                        "bin_end": 96.4,
                        "count": 89
                      },
                      {
                        "bin_start": 96.4,
                        "bin_end": 110.8,
                        "count": 71
                      },
                      {
                        "bin_start": 110.8,
                        "bin_end": 125.2,
                        "count": 36
                      },
                      {
                        "bin_start": 125.2,
                        "bin_end": 139.6,
                        "count": 16
                      },
                      {
                        "bin_start": 139.6,
                        "bin_end": 154,
                        "count": 9
                      }
                    ]
                  }
                },
                {
                  "name": "Sp_Def",
                  "dtype": "int64",
                  "stats": {
                    "unique_count": 90,
                    "nan_count": 0,
                    "min": 20,
                    "max": 230,
                    "histogram": [
                      {
                        "bin_start": 20,
                        "bin_end": 41,
                        "count": 96
                      },
                      {
                        "bin_start": 41,
                        "bin_end": 62,
                        "count": 225
                      },
                      {
                        "bin_start": 62,
                        "bin_end": 83,
                        "count": 206
                      },
                      {
                        "bin_start": 83,
                        "bin_end": 104,
                        "count": 122
                      },
                      {
                        "bin_start": 104,
                        "bin_end": 125,
                        "count": 44
                      },
                      {
                        "bin_start": 125,
                        "bin_end": 146,
                        "count": 17
                      },
                      {
                        "bin_start": 146,
                        "bin_end": 167,
                        "count": 9
                      },
                      {
                        "bin_start": 167,
                        "bin_end": 188,
                        "count": 0
                      },
                      {
                        "bin_start": 188,
                        "bin_end": 209,
                        "count": 1
                      },
                      {
                        "bin_start": 209,
                        "bin_end": 230,
                        "count": 1
                      }
                    ]
                  }
                },
                {
                  "name": "Speed",
                  "dtype": "int64",
                  "stats": {
                    "unique_count": 101,
                    "nan_count": 0,
                    "min": 5,
                    "max": 160,
                    "histogram": [
                      {
                        "bin_start": 5,
                        "bin_end": 20.5,
                        "count": 27
                      },
                      {
                        "bin_start": 20.5,
                        "bin_end": 36,
                        "count": 86
                      },
                      {
                        "bin_start": 36,
                        "bin_end": 51.5,
                        "count": 140
                      },
                      {
                        "bin_start": 51.5,
                        "bin_end": 67,
                        "count": 144
                      },
                      {
                        "bin_start": 67,
                        "bin_end": 82.5,
                        "count": 117
                      },
                      {
                        "bin_start": 82.5,
                        "bin_end": 98,
                        "count": 101
                      },
                      {
                        "bin_start": 98,
                        "bin_end": 113.5,
                        "count": 76
                      },
                      {
                        "bin_start": 113.5,
                        "bin_end": 129,
                        "count": 22
                      },
                      {
                        "bin_start": 129,
                        "bin_end": 144.5,
                        "count": 5
                      },
                      {
                        "bin_start": 144.5,
                        "bin_end": 160,
                        "count": 3
                      }
                    ]
                  }
                },
                {
                  "name": "Height_m",
                  "dtype": "float64",
                  "stats": {
                    "unique_count": 50,
                    "nan_count": 0,
                    "min": 0.1,
                    "max": 14.5,
                    "histogram": [
                      {
                        "bin_start": 0.1,
                        "bin_end": 1.54,
                        "count": 582
                      },
                      {
                        "bin_start": 1.54,
                        "bin_end": 2.98,
                        "count": 116
                      },
                      {
                        "bin_start": 2.98,
                        "bin_end": 4.42,
                        "count": 11
                      },
                      {
                        "bin_start": 4.42,
                        "bin_end": 5.859999999999999,
                        "count": 5
                      },
                      {
                        "bin_start": 5.859999999999999,
                        "bin_end": 7.299999999999999,
                        "count": 4
                      },
                      {
                        "bin_start": 7.299999999999999,
                        "bin_end": 8.74,
                        "count": 0
                      },
                      {
                        "bin_start": 8.74,
                        "bin_end": 10.18,
                        "count": 2
                      },
                      {
                        "bin_start": 10.18,
                        "bin_end": 11.62,
                        "count": 0
                      },
                      {
                        "bin_start": 11.62,
                        "bin_end": 13.059999999999999,
                        "count": 0
                      },
                      {
                        "bin_start": 13.059999999999999,
                        "bin_end": 14.5,
                        "count": 1
                      }
                    ]
                  }
                },
                {
                  "name": "Weight_kg",
                  "dtype": "float64",
                  "stats": {
                    "unique_count": 398,
                    "nan_count": 0,
                    "min": 0.1,
                    "max": 950,
                    "histogram": [
                      {
                        "bin_start": 0.1,
                        "bin_end": 95.08999999999999,
                        "count": 609
                      },
                      {
                        "bin_start": 95.08999999999999,
                        "bin_end": 190.07999999999998,
                        "count": 59
                      },
                      {
                        "bin_start": 190.07999999999998,
                        "bin_end": 285.07,
                        "count": 29
                      },
                      {
                        "bin_start": 285.07,
                        "bin_end": 380.06,
                        "count": 14
                      },
                      {
                        "bin_start": 380.06,
                        "bin_end": 475.05,
                        "count": 5
                      },
                      {
                        "bin_start": 475.05,
                        "bin_end": 570.04,
                        "count": 2
                      },
                      {
                        "bin_start": 570.04,
                        "bin_end": 665.03,
                        "count": 1
                      },
                      {
                        "bin_start": 665.03,
                        "bin_end": 760.02,
                        "count": 1
                      },
                      {
                        "bin_start": 760.02,
                        "bin_end": 855.01,
                        "count": 0
                      },
                      {
                        "bin_start": 855.01,
                        "bin_end": 950,
                        "count": 1
                      }
                    ]
                  }
                },
                {
                  "name": "Catch_Rate",
                  "dtype": "int64",
                  "stats": {
                    "unique_count": 33,
                    "nan_count": 0,
                    "min": 3,
                    "max": 255,
                    "histogram": [
                      {
                        "bin_start": 3,
                        "bin_end": 28.2,
                        "count": 61
                      },
                      {
                        "bin_start": 28.2,
                        "bin_end": 53.4,
                        "count": 250
                      },
                      {
                        "bin_start": 53.4,
                        "bin_end": 78.6,
                        "count": 108
                      },
                      {
                        "bin_start": 78.6,
                        "bin_end": 103.8,
                        "count": 42
                      },
                      {
                        "bin_start": 103.8,
                        "bin_end": 129,
                        "count": 58
                      },
                      {
                        "bin_start": 129,
                        "bin_end": 154.2,
                        "count": 14
                      },
                      {
                        "bin_start": 154.2,
                        "bin_end": 179.4,
                        "count": 4
                      },
                      {
                        "bin_start": 179.4,
                        "bin_end": 204.6,
                        "count": 97
                      },
                      {
                        "bin_start": 204.6,
                        "bin_end": 229.79999999999998,
                        "count": 17
                      },
                      {
                        "bin_start": 229.79999999999998,
                        "bin_end": 255,
                        "count": 70
                      }
                    ]
                  }
                },
                {
                  "name": "_deepnote_index_column",
                  "dtype": "int64"
                }
              ],
              "rows_top": [
                {
                  "Number": 1,
                  "Total": 318,
                  "HP": 45,
                  "Attack": 49,
                  "Defense": 49,
                  "Sp_Atk": 65,
                  "Sp_Def": 65,
                  "Speed": 45,
                  "Height_m": 0.71,
                  "Weight_kg": 6.9,
                  "Catch_Rate": 45,
                  "_deepnote_index_column": 0
                },
                {
                  "Number": 2,
                  "Total": 405,
                  "HP": 60,
                  "Attack": 62,
                  "Defense": 63,
                  "Sp_Atk": 80,
                  "Sp_Def": 80,
                  "Speed": 60,
                  "Height_m": 0.99,
                  "Weight_kg": 13,
                  "Catch_Rate": 45,
                  "_deepnote_index_column": 1
                },
                {
                  "Number": 3,
                  "Total": 525,
                  "HP": 80,
                  "Attack": 82,
                  "Defense": 83,
                  "Sp_Atk": 100,
                  "Sp_Def": 100,
                  "Speed": 80,
                  "Height_m": 2.01,
                  "Weight_kg": 100,
                  "Catch_Rate": 45,
                  "_deepnote_index_column": 2
                },
                {
                  "Number": 4,
                  "Total": 309,
                  "HP": 39,
                  "Attack": 52,
                  "Defense": 43,
                  "Sp_Atk": 60,
                  "Sp_Def": 50,
                  "Speed": 65,
                  "Height_m": 0.61,
                  "Weight_kg": 8.5,
                  "Catch_Rate": 45,
                  "_deepnote_index_column": 3
                },
                {
                  "Number": 5,
                  "Total": 405,
                  "HP": 58,
                  "Attack": 64,
                  "Defense": 58,
                  "Sp_Atk": 80,
                  "Sp_Def": 65,
                  "Speed": 80,
                  "Height_m": 1.09,
                  "Weight_kg": 19,
                  "Catch_Rate": 45,
                  "_deepnote_index_column": 4
                },
                {
                  "Number": 6,
                  "Total": 534,
                  "HP": 78,
                  "Attack": 84,
                  "Defense": 78,
                  "Sp_Atk": 109,
                  "Sp_Def": 85,
                  "Speed": 100,
                  "Height_m": 1.7,
                  "Weight_kg": 90.5,
                  "Catch_Rate": 45,
                  "_deepnote_index_column": 5
                },
                {
                  "Number": 7,
                  "Total": 314,
                  "HP": 44,
                  "Attack": 48,
                  "Defense": 65,
                  "Sp_Atk": 50,
                  "Sp_Def": 64,
                  "Speed": 43,
                  "Height_m": 0.51,
                  "Weight_kg": 9,
                  "Catch_Rate": 45,
                  "_deepnote_index_column": 6
                },
                {
                  "Number": 8,
                  "Total": 405,
                  "HP": 59,
                  "Attack": 63,
                  "Defense": 80,
                  "Sp_Atk": 65,
                  "Sp_Def": 80,
                  "Speed": 58,
                  "Height_m": 0.99,
                  "Weight_kg": 22.5,
                  "Catch_Rate": 45,
                  "_deepnote_index_column": 7
                },
                {
                  "Number": 9,
                  "Total": 530,
                  "HP": 79,
                  "Attack": 83,
                  "Defense": 100,
                  "Sp_Atk": 85,
                  "Sp_Def": 105,
                  "Speed": 78,
                  "Height_m": 1.6,
                  "Weight_kg": 85.5,
                  "Catch_Rate": 45,
                  "_deepnote_index_column": 8
                },
                {
                  "Number": 10,
                  "Total": 195,
                  "HP": 45,
                  "Attack": 30,
                  "Defense": 35,
                  "Sp_Atk": 20,
                  "Sp_Def": 20,
                  "Speed": 45,
                  "Height_m": 0.3,
                  "Weight_kg": 2.9,
                  "Catch_Rate": 255,
                  "_deepnote_index_column": 9
                },
                {
                  "Number": 11,
                  "Total": 205,
                  "HP": 50,
                  "Attack": 20,
                  "Defense": 55,
                  "Sp_Atk": 25,
                  "Sp_Def": 25,
                  "Speed": 30,
                  "Height_m": 0.71,
                  "Weight_kg": 9.9,
                  "Catch_Rate": 120,
                  "_deepnote_index_column": 10
                },
                {
                  "Number": 12,
                  "Total": 395,
                  "HP": 60,
                  "Attack": 45,
                  "Defense": 50,
                  "Sp_Atk": 90,
                  "Sp_Def": 80,
                  "Speed": 70,
                  "Height_m": 1.09,
                  "Weight_kg": 32,
                  "Catch_Rate": 45,
                  "_deepnote_index_column": 11
                },
                {
                  "Number": 13,
                  "Total": 195,
                  "HP": 40,
                  "Attack": 35,
                  "Defense": 30,
                  "Sp_Atk": 20,
                  "Sp_Def": 20,
                  "Speed": 50,
                  "Height_m": 0.3,
                  "Weight_kg": 3.2,
                  "Catch_Rate": 255,
                  "_deepnote_index_column": 12
                },
                {
                  "Number": 14,
                  "Total": 205,
                  "HP": 45,
                  "Attack": 25,
                  "Defense": 50,
                  "Sp_Atk": 25,
                  "Sp_Def": 25,
                  "Speed": 35,
                  "Height_m": 0.61,
                  "Weight_kg": 10,
                  "Catch_Rate": 120,
                  "_deepnote_index_column": 13
                },
                {
                  "Number": 15,
                  "Total": 395,
                  "HP": 65,
                  "Attack": 90,
                  "Defense": 40,
                  "Sp_Atk": 45,
                  "Sp_Def": 80,
                  "Speed": 75,
                  "Height_m": 0.99,
                  "Weight_kg": 29.5,
                  "Catch_Rate": 45,
                  "_deepnote_index_column": 14
                },
                {
                  "Number": 16,
                  "Total": 251,
                  "HP": 40,
                  "Attack": 45,
                  "Defense": 40,
                  "Sp_Atk": 35,
                  "Sp_Def": 35,
                  "Speed": 56,
                  "Height_m": 0.3,
                  "Weight_kg": 1.8,
                  "Catch_Rate": 255,
                  "_deepnote_index_column": 15
                },
                {
                  "Number": 17,
                  "Total": 349,
                  "HP": 63,
                  "Attack": 60,
                  "Defense": 55,
                  "Sp_Atk": 50,
                  "Sp_Def": 50,
                  "Speed": 71,
                  "Height_m": 1.09,
                  "Weight_kg": 30,
                  "Catch_Rate": 120,
                  "_deepnote_index_column": 16
                },
                {
                  "Number": 18,
                  "Total": 479,
                  "HP": 83,
                  "Attack": 80,
                  "Defense": 75,
                  "Sp_Atk": 70,
                  "Sp_Def": 70,
                  "Speed": 101,
                  "Height_m": 1.5,
                  "Weight_kg": 39.5,
                  "Catch_Rate": 45,
                  "_deepnote_index_column": 17
                },
                {
                  "Number": 19,
                  "Total": 253,
                  "HP": 30,
                  "Attack": 56,
                  "Defense": 35,
                  "Sp_Atk": 25,
                  "Sp_Def": 35,
                  "Speed": 72,
                  "Height_m": 0.3,
                  "Weight_kg": 3.5,
                  "Catch_Rate": 255,
                  "_deepnote_index_column": 18
                },
                {
                  "Number": 20,
                  "Total": 413,
                  "HP": 55,
                  "Attack": 81,
                  "Defense": 60,
                  "Sp_Atk": 50,
                  "Sp_Def": 70,
                  "Speed": 97,
                  "Height_m": 0.71,
                  "Weight_kg": 18.5,
                  "Catch_Rate": 127,
                  "_deepnote_index_column": 19
                },
                {
                  "Number": 21,
                  "Total": 262,
                  "HP": 40,
                  "Attack": 60,
                  "Defense": 30,
                  "Sp_Atk": 31,
                  "Sp_Def": 31,
                  "Speed": 70,
                  "Height_m": 0.3,
                  "Weight_kg": 2,
                  "Catch_Rate": 255,
                  "_deepnote_index_column": 20
                },
                {
                  "Number": 22,
                  "Total": 442,
                  "HP": 65,
                  "Attack": 90,
                  "Defense": 65,
                  "Sp_Atk": 61,
                  "Sp_Def": 61,
                  "Speed": 100,
                  "Height_m": 1.19,
                  "Weight_kg": 38,
                  "Catch_Rate": 90,
                  "_deepnote_index_column": 21
                },
                {
                  "Number": 23,
                  "Total": 288,
                  "HP": 35,
                  "Attack": 60,
                  "Defense": 44,
                  "Sp_Atk": 40,
                  "Sp_Def": 54,
                  "Speed": 55,
                  "Height_m": 2.01,
                  "Weight_kg": 6.9,
                  "Catch_Rate": 255,
                  "_deepnote_index_column": 22
                },
                {
                  "Number": 24,
                  "Total": 438,
                  "HP": 60,
                  "Attack": 85,
                  "Defense": 69,
                  "Sp_Atk": 65,
                  "Sp_Def": 79,
                  "Speed": 80,
                  "Height_m": 3.51,
                  "Weight_kg": 65,
                  "Catch_Rate": 90,
                  "_deepnote_index_column": 23
                },
                {
                  "Number": 25,
                  "Total": 320,
                  "HP": 35,
                  "Attack": 55,
                  "Defense": 40,
                  "Sp_Atk": 50,
                  "Sp_Def": 50,
                  "Speed": 90,
                  "Height_m": 0.41,
                  "Weight_kg": 6,
                  "Catch_Rate": 190,
                  "_deepnote_index_column": 24
                },
                {
                  "Number": 26,
                  "Total": 485,
                  "HP": 60,
                  "Attack": 90,
                  "Defense": 55,
                  "Sp_Atk": 90,
                  "Sp_Def": 80,
                  "Speed": 110,
                  "Height_m": 0.79,
                  "Weight_kg": 30,
                  "Catch_Rate": 75,
                  "_deepnote_index_column": 25
                },
                {
                  "Number": 27,
                  "Total": 300,
                  "HP": 50,
                  "Attack": 75,
                  "Defense": 85,
                  "Sp_Atk": 20,
                  "Sp_Def": 30,
                  "Speed": 40,
                  "Height_m": 0.61,
                  "Weight_kg": 12,
                  "Catch_Rate": 255,
                  "_deepnote_index_column": 26
                },
                {
                  "Number": 28,
                  "Total": 450,
                  "HP": 75,
                  "Attack": 100,
                  "Defense": 110,
                  "Sp_Atk": 45,
                  "Sp_Def": 55,
                  "Speed": 65,
                  "Height_m": 0.99,
                  "Weight_kg": 29.5,
                  "Catch_Rate": 90,
                  "_deepnote_index_column": 27
                },
                {
                  "Number": 29,
                  "Total": 275,
                  "HP": 55,
                  "Attack": 47,
                  "Defense": 52,
                  "Sp_Atk": 40,
                  "Sp_Def": 40,
                  "Speed": 41,
                  "Height_m": 0.41,
                  "Weight_kg": 7,
                  "Catch_Rate": 235,
                  "_deepnote_index_column": 28
                },
                {
                  "Number": 30,
                  "Total": 365,
                  "HP": 70,
                  "Attack": 62,
                  "Defense": 67,
                  "Sp_Atk": 55,
                  "Sp_Def": 55,
                  "Speed": 56,
                  "Height_m": 0.79,
                  "Weight_kg": 20,
                  "Catch_Rate": 120,
                  "_deepnote_index_column": 29
                },
                {
                  "Number": 31,
                  "Total": 505,
                  "HP": 90,
                  "Attack": 92,
                  "Defense": 87,
                  "Sp_Atk": 75,
                  "Sp_Def": 85,
                  "Speed": 76,
                  "Height_m": 1.3,
                  "Weight_kg": 60,
                  "Catch_Rate": 45,
                  "_deepnote_index_column": 30
                },
                {
                  "Number": 32,
                  "Total": 273,
                  "HP": 46,
                  "Attack": 57,
                  "Defense": 40,
                  "Sp_Atk": 40,
                  "Sp_Def": 40,
                  "Speed": 50,
                  "Height_m": 0.51,
                  "Weight_kg": 9,
                  "Catch_Rate": 235,
                  "_deepnote_index_column": 31
                },
                {
                  "Number": 33,
                  "Total": 365,
                  "HP": 61,
                  "Attack": 72,
                  "Defense": 57,
                  "Sp_Atk": 55,
                  "Sp_Def": 55,
                  "Speed": 65,
                  "Height_m": 0.89,
                  "Weight_kg": 19.5,
                  "Catch_Rate": 120,
                  "_deepnote_index_column": 32
                },
                {
                  "Number": 34,
                  "Total": 505,
                  "HP": 81,
                  "Attack": 102,
                  "Defense": 77,
                  "Sp_Atk": 85,
                  "Sp_Def": 75,
                  "Speed": 85,
                  "Height_m": 1.4,
                  "Weight_kg": 62,
                  "Catch_Rate": 45,
                  "_deepnote_index_column": 33
                },
                {
                  "Number": 35,
                  "Total": 323,
                  "HP": 70,
                  "Attack": 45,
                  "Defense": 48,
                  "Sp_Atk": 60,
                  "Sp_Def": 65,
                  "Speed": 35,
                  "Height_m": 0.61,
                  "Weight_kg": 7.5,
                  "Catch_Rate": 150,
                  "_deepnote_index_column": 34
                },
                {
                  "Number": 36,
                  "Total": 483,
                  "HP": 95,
                  "Attack": 70,
                  "Defense": 73,
                  "Sp_Atk": 95,
                  "Sp_Def": 90,
                  "Speed": 60,
                  "Height_m": 1.3,
                  "Weight_kg": 40,
                  "Catch_Rate": 25,
                  "_deepnote_index_column": 35
                },
                {
                  "Number": 37,
                  "Total": 299,
                  "HP": 38,
                  "Attack": 41,
                  "Defense": 40,
                  "Sp_Atk": 50,
                  "Sp_Def": 65,
                  "Speed": 65,
                  "Height_m": 0.61,
                  "Weight_kg": 9.9,
                  "Catch_Rate": 190,
                  "_deepnote_index_column": 36
                },
                {
                  "Number": 38,
                  "Total": 505,
                  "HP": 73,
                  "Attack": 76,
                  "Defense": 75,
                  "Sp_Atk": 81,
                  "Sp_Def": 100,
                  "Speed": 100,
                  "Height_m": 1.09,
                  "Weight_kg": 19.9,
                  "Catch_Rate": 75,
                  "_deepnote_index_column": 37
                },
                {
                  "Number": 39,
                  "Total": 270,
                  "HP": 115,
                  "Attack": 45,
                  "Defense": 20,
                  "Sp_Atk": 45,
                  "Sp_Def": 25,
                  "Speed": 20,
                  "Height_m": 0.51,
                  "Weight_kg": 5.5,
                  "Catch_Rate": 170,
                  "_deepnote_index_column": 38
                },
                {
                  "Number": 40,
                  "Total": 435,
                  "HP": 140,
                  "Attack": 70,
                  "Defense": 45,
                  "Sp_Atk": 85,
                  "Sp_Def": 50,
                  "Speed": 45,
                  "Height_m": 0.99,
                  "Weight_kg": 12,
                  "Catch_Rate": 50,
                  "_deepnote_index_column": 39
                },
                {
                  "Number": 41,
                  "Total": 245,
                  "HP": 40,
                  "Attack": 45,
                  "Defense": 35,
                  "Sp_Atk": 30,
                  "Sp_Def": 40,
                  "Speed": 55,
                  "Height_m": 0.79,
                  "Weight_kg": 7.5,
                  "Catch_Rate": 255,
                  "_deepnote_index_column": 40
                },
                {
                  "Number": 42,
                  "Total": 455,
                  "HP": 75,
                  "Attack": 80,
                  "Defense": 70,
                  "Sp_Atk": 65,
                  "Sp_Def": 75,
                  "Speed": 90,
                  "Height_m": 1.6,
                  "Weight_kg": 55,
                  "Catch_Rate": 90,
                  "_deepnote_index_column": 41
                },
                {
                  "Number": 43,
                  "Total": 320,
                  "HP": 45,
                  "Attack": 50,
                  "Defense": 55,
                  "Sp_Atk": 75,
                  "Sp_Def": 65,
                  "Speed": 30,
                  "Height_m": 0.51,
                  "Weight_kg": 5.4,
                  "Catch_Rate": 255,
                  "_deepnote_index_column": 42
                },
                {
                  "Number": 44,
                  "Total": 395,
                  "HP": 60,
                  "Attack": 65,
                  "Defense": 70,
                  "Sp_Atk": 85,
                  "Sp_Def": 75,
                  "Speed": 40,
                  "Height_m": 0.79,
                  "Weight_kg": 8.6,
                  "Catch_Rate": 120,
                  "_deepnote_index_column": 43
                },
                {
                  "Number": 45,
                  "Total": 490,
                  "HP": 75,
                  "Attack": 80,
                  "Defense": 85,
                  "Sp_Atk": 110,
                  "Sp_Def": 90,
                  "Speed": 50,
                  "Height_m": 1.19,
                  "Weight_kg": 18.6,
                  "Catch_Rate": 45,
                  "_deepnote_index_column": 44
                }
              ],
              "rows_bottom": [
                {
                  "Number": 677,
                  "Total": 355,
                  "HP": 62,
                  "Attack": 48,
                  "Defense": 54,
                  "Sp_Atk": 63,
                  "Sp_Def": 60,
                  "Speed": 68,
                  "Height_m": 0.3,
                  "Weight_kg": 3.5,
                  "Catch_Rate": 190,
                  "_deepnote_index_column": 676
                },
                {
                  "Number": 678,
                  "Total": 466,
                  "HP": 74,
                  "Attack": 48,
                  "Defense": 76,
                  "Sp_Atk": 83,
                  "Sp_Def": 81,
                  "Speed": 104,
                  "Height_m": 0.61,
                  "Weight_kg": 8.5,
                  "Catch_Rate": 75,
                  "_deepnote_index_column": 677
                },
                {
                  "Number": 679,
                  "Total": 325,
                  "HP": 45,
                  "Attack": 80,
                  "Defense": 100,
                  "Sp_Atk": 35,
                  "Sp_Def": 37,
                  "Speed": 28,
                  "Height_m": 0.79,
                  "Weight_kg": 2,
                  "Catch_Rate": 180,
                  "_deepnote_index_column": 678
                },
                {
                  "Number": 680,
                  "Total": 448,
                  "HP": 59,
                  "Attack": 110,
                  "Defense": 150,
                  "Sp_Atk": 45,
                  "Sp_Def": 49,
                  "Speed": 35,
                  "Height_m": 0.84,
                  "Weight_kg": 4.5,
                  "Catch_Rate": 90,
                  "_deepnote_index_column": 679
                },
                {
                  "Number": 681,
                  "Total": 520,
                  "HP": 60,
                  "Attack": 50,
                  "Defense": 150,
                  "Sp_Atk": 50,
                  "Sp_Def": 150,
                  "Speed": 60,
                  "Height_m": 1.7,
                  "Weight_kg": 53,
                  "Catch_Rate": 45,
                  "_deepnote_index_column": 680
                },
                {
                  "Number": 682,
                  "Total": 341,
                  "HP": 78,
                  "Attack": 52,
                  "Defense": 60,
                  "Sp_Atk": 63,
                  "Sp_Def": 65,
                  "Speed": 23,
                  "Height_m": 0.2,
                  "Weight_kg": 0.5,
                  "Catch_Rate": 200,
                  "_deepnote_index_column": 681
                },
                {
                  "Number": 683,
                  "Total": 462,
                  "HP": 101,
                  "Attack": 72,
                  "Defense": 72,
                  "Sp_Atk": 99,
                  "Sp_Def": 89,
                  "Speed": 29,
                  "Height_m": 0.79,
                  "Weight_kg": 15.5,
                  "Catch_Rate": 140,
                  "_deepnote_index_column": 682
                },
                {
                  "Number": 684,
                  "Total": 341,
                  "HP": 62,
                  "Attack": 48,
                  "Defense": 66,
                  "Sp_Atk": 59,
                  "Sp_Def": 57,
                  "Speed": 49,
                  "Height_m": 0.41,
                  "Weight_kg": 3.5,
                  "Catch_Rate": 200,
                  "_deepnote_index_column": 683
                },
                {
                  "Number": 685,
                  "Total": 480,
                  "HP": 82,
                  "Attack": 80,
                  "Defense": 86,
                  "Sp_Atk": 85,
                  "Sp_Def": 75,
                  "Speed": 72,
                  "Height_m": 0.79,
                  "Weight_kg": 5,
                  "Catch_Rate": 140,
                  "_deepnote_index_column": 684
                },
                {
                  "Number": 686,
                  "Total": 288,
                  "HP": 53,
                  "Attack": 54,
                  "Defense": 53,
                  "Sp_Atk": 37,
                  "Sp_Def": 46,
                  "Speed": 45,
                  "Height_m": 0.41,
                  "Weight_kg": 3.5,
                  "Catch_Rate": 190,
                  "_deepnote_index_column": 685
                },
                {
                  "Number": 687,
                  "Total": 482,
                  "HP": 86,
                  "Attack": 92,
                  "Defense": 88,
                  "Sp_Atk": 68,
                  "Sp_Def": 75,
                  "Speed": 73,
                  "Height_m": 1.5,
                  "Weight_kg": 47,
                  "Catch_Rate": 80,
                  "_deepnote_index_column": 686
                },
                {
                  "Number": 688,
                  "Total": 306,
                  "HP": 42,
                  "Attack": 52,
                  "Defense": 67,
                  "Sp_Atk": 39,
                  "Sp_Def": 56,
                  "Speed": 50,
                  "Height_m": 0.51,
                  "Weight_kg": 31,
                  "Catch_Rate": 120,
                  "_deepnote_index_column": 687
                },
                {
                  "Number": 689,
                  "Total": 500,
                  "HP": 72,
                  "Attack": 105,
                  "Defense": 115,
                  "Sp_Atk": 54,
                  "Sp_Def": 86,
                  "Speed": 68,
                  "Height_m": 1.3,
                  "Weight_kg": 96,
                  "Catch_Rate": 45,
                  "_deepnote_index_column": 688
                },
                {
                  "Number": 690,
                  "Total": 320,
                  "HP": 50,
                  "Attack": 60,
                  "Defense": 60,
                  "Sp_Atk": 60,
                  "Sp_Def": 60,
                  "Speed": 30,
                  "Height_m": 0.51,
                  "Weight_kg": 7.3,
                  "Catch_Rate": 225,
                  "_deepnote_index_column": 689
                },
                {
                  "Number": 691,
                  "Total": 494,
                  "HP": 65,
                  "Attack": 75,
                  "Defense": 90,
                  "Sp_Atk": 97,
                  "Sp_Def": 123,
                  "Speed": 44,
                  "Height_m": 1.8,
                  "Weight_kg": 81.5,
                  "Catch_Rate": 55,
                  "_deepnote_index_column": 690
                },
                {
                  "Number": 692,
                  "Total": 330,
                  "HP": 50,
                  "Attack": 53,
                  "Defense": 62,
                  "Sp_Atk": 58,
                  "Sp_Def": 63,
                  "Speed": 44,
                  "Height_m": 0.51,
                  "Weight_kg": 8.3,
                  "Catch_Rate": 225,
                  "_deepnote_index_column": 691
                },
                {
                  "Number": 693,
                  "Total": 500,
                  "HP": 71,
                  "Attack": 73,
                  "Defense": 88,
                  "Sp_Atk": 120,
                  "Sp_Def": 89,
                  "Speed": 59,
                  "Height_m": 1.3,
                  "Weight_kg": 35.3,
                  "Catch_Rate": 55,
                  "_deepnote_index_column": 692
                },
                {
                  "Number": 694,
                  "Total": 289,
                  "HP": 44,
                  "Attack": 38,
                  "Defense": 33,
                  "Sp_Atk": 61,
                  "Sp_Def": 43,
                  "Speed": 70,
                  "Height_m": 0.51,
                  "Weight_kg": 6,
                  "Catch_Rate": 190,
                  "_deepnote_index_column": 693
                },
                {
                  "Number": 695,
                  "Total": 481,
                  "HP": 62,
                  "Attack": 55,
                  "Defense": 52,
                  "Sp_Atk": 109,
                  "Sp_Def": 94,
                  "Speed": 109,
                  "Height_m": 0.99,
                  "Weight_kg": 21,
                  "Catch_Rate": 75,
                  "_deepnote_index_column": 694
                },
                {
                  "Number": 696,
                  "Total": 362,
                  "HP": 58,
                  "Attack": 89,
                  "Defense": 77,
                  "Sp_Atk": 45,
                  "Sp_Def": 45,
                  "Speed": 48,
                  "Height_m": 0.79,
                  "Weight_kg": 26,
                  "Catch_Rate": 45,
                  "_deepnote_index_column": 695
                },
                {
                  "Number": 697,
                  "Total": 521,
                  "HP": 82,
                  "Attack": 121,
                  "Defense": 119,
                  "Sp_Atk": 69,
                  "Sp_Def": 59,
                  "Speed": 71,
                  "Height_m": 2.49,
                  "Weight_kg": 270,
                  "Catch_Rate": 45,
                  "_deepnote_index_column": 696
                },
                {
                  "Number": 698,
                  "Total": 362,
                  "HP": 77,
                  "Attack": 59,
                  "Defense": 50,
                  "Sp_Atk": 67,
                  "Sp_Def": 63,
                  "Speed": 46,
                  "Height_m": 1.3,
                  "Weight_kg": 25.2,
                  "Catch_Rate": 45,
                  "_deepnote_index_column": 697
                },
                {
                  "Number": 699,
                  "Total": 521,
                  "HP": 123,
                  "Attack": 77,
                  "Defense": 72,
                  "Sp_Atk": 99,
                  "Sp_Def": 92,
                  "Speed": 58,
                  "Height_m": 2.69,
                  "Weight_kg": 225,
                  "Catch_Rate": 45,
                  "_deepnote_index_column": 698
                },
                {
                  "Number": 700,
                  "Total": 525,
                  "HP": 95,
                  "Attack": 65,
                  "Defense": 65,
                  "Sp_Atk": 110,
                  "Sp_Def": 130,
                  "Speed": 60,
                  "Height_m": 0.99,
                  "Weight_kg": 23.5,
                  "Catch_Rate": 45,
                  "_deepnote_index_column": 699
                },
                {
                  "Number": 701,
                  "Total": 500,
                  "HP": 78,
                  "Attack": 92,
                  "Defense": 75,
                  "Sp_Atk": 74,
                  "Sp_Def": 63,
                  "Speed": 118,
                  "Height_m": 0.79,
                  "Weight_kg": 21.5,
                  "Catch_Rate": 100,
                  "_deepnote_index_column": 700
                },
                {
                  "Number": 702,
                  "Total": 431,
                  "HP": 67,
                  "Attack": 58,
                  "Defense": 57,
                  "Sp_Atk": 81,
                  "Sp_Def": 67,
                  "Speed": 101,
                  "Height_m": 0.2,
                  "Weight_kg": 2.2,
                  "Catch_Rate": 180,
                  "_deepnote_index_column": 701
                },
                {
                  "Number": 703,
                  "Total": 500,
                  "HP": 50,
                  "Attack": 50,
                  "Defense": 150,
                  "Sp_Atk": 50,
                  "Sp_Def": 150,
                  "Speed": 50,
                  "Height_m": 0.3,
                  "Weight_kg": 5.7,
                  "Catch_Rate": 60,
                  "_deepnote_index_column": 702
                },
                {
                  "Number": 704,
                  "Total": 300,
                  "HP": 45,
                  "Attack": 50,
                  "Defense": 35,
                  "Sp_Atk": 55,
                  "Sp_Def": 75,
                  "Speed": 40,
                  "Height_m": 0.3,
                  "Weight_kg": 2.8,
                  "Catch_Rate": 45,
                  "_deepnote_index_column": 703
                },
                {
                  "Number": 705,
                  "Total": 452,
                  "HP": 68,
                  "Attack": 75,
                  "Defense": 53,
                  "Sp_Atk": 83,
                  "Sp_Def": 113,
                  "Speed": 60,
                  "Height_m": 0.79,
                  "Weight_kg": 17.5,
                  "Catch_Rate": 45,
                  "_deepnote_index_column": 704
                },
                {
                  "Number": 706,
                  "Total": 600,
                  "HP": 90,
                  "Attack": 100,
                  "Defense": 70,
                  "Sp_Atk": 110,
                  "Sp_Def": 150,
                  "Speed": 80,
                  "Height_m": 2.01,
                  "Weight_kg": 150.5,
                  "Catch_Rate": 45,
                  "_deepnote_index_column": 705
                },
                {
                  "Number": 707,
                  "Total": 470,
                  "HP": 57,
                  "Attack": 80,
                  "Defense": 91,
                  "Sp_Atk": 80,
                  "Sp_Def": 87,
                  "Speed": 75,
                  "Height_m": 0.2,
                  "Weight_kg": 3,
                  "Catch_Rate": 75,
                  "_deepnote_index_column": 706
                },
                {
                  "Number": 708,
                  "Total": 309,
                  "HP": 43,
                  "Attack": 70,
                  "Defense": 48,
                  "Sp_Atk": 50,
                  "Sp_Def": 60,
                  "Speed": 38,
                  "Height_m": 0.41,
                  "Weight_kg": 7,
                  "Catch_Rate": 120,
                  "_deepnote_index_column": 707
                },
                {
                  "Number": 709,
                  "Total": 474,
                  "HP": 85,
                  "Attack": 110,
                  "Defense": 76,
                  "Sp_Atk": 65,
                  "Sp_Def": 82,
                  "Speed": 56,
                  "Height_m": 1.5,
                  "Weight_kg": 71,
                  "Catch_Rate": 60,
                  "_deepnote_index_column": 708
                },
                {
                  "Number": 710,
                  "Total": 335,
                  "HP": 49,
                  "Attack": 66,
                  "Defense": 70,
                  "Sp_Atk": 44,
                  "Sp_Def": 55,
                  "Speed": 51,
                  "Height_m": 0.41,
                  "Weight_kg": 5,
                  "Catch_Rate": 120,
                  "_deepnote_index_column": 709
                },
                {
                  "Number": 711,
                  "Total": 494,
                  "HP": 65,
                  "Attack": 90,
                  "Defense": 122,
                  "Sp_Atk": 58,
                  "Sp_Def": 75,
                  "Speed": 84,
                  "Height_m": 1.7,
                  "Weight_kg": 39,
                  "Catch_Rate": 60,
                  "_deepnote_index_column": 710
                },
                {
                  "Number": 712,
                  "Total": 304,
                  "HP": 55,
                  "Attack": 69,
                  "Defense": 85,
                  "Sp_Atk": 32,
                  "Sp_Def": 35,
                  "Speed": 28,
                  "Height_m": 0.99,
                  "Weight_kg": 99.5,
                  "Catch_Rate": 190,
                  "_deepnote_index_column": 711
                },
                {
                  "Number": 713,
                  "Total": 514,
                  "HP": 95,
                  "Attack": 117,
                  "Defense": 184,
                  "Sp_Atk": 44,
                  "Sp_Def": 46,
                  "Speed": 28,
                  "Height_m": 2.01,
                  "Weight_kg": 505,
                  "Catch_Rate": 55,
                  "_deepnote_index_column": 712
                },
                {
                  "Number": 714,
                  "Total": 245,
                  "HP": 40,
                  "Attack": 30,
                  "Defense": 35,
                  "Sp_Atk": 45,
                  "Sp_Def": 40,
                  "Speed": 55,
                  "Height_m": 0.51,
                  "Weight_kg": 8,
                  "Catch_Rate": 190,
                  "_deepnote_index_column": 713
                },
                {
                  "Number": 715,
                  "Total": 535,
                  "HP": 85,
                  "Attack": 70,
                  "Defense": 80,
                  "Sp_Atk": 97,
                  "Sp_Def": 80,
                  "Speed": 123,
                  "Height_m": 1.5,
                  "Weight_kg": 85,
                  "Catch_Rate": 45,
                  "_deepnote_index_column": 714
                },
                {
                  "Number": 716,
                  "Total": 680,
                  "HP": 126,
                  "Attack": 131,
                  "Defense": 95,
                  "Sp_Atk": 131,
                  "Sp_Def": 98,
                  "Speed": 99,
                  "Height_m": 3,
                  "Weight_kg": 215,
                  "Catch_Rate": 45,
                  "_deepnote_index_column": 715
                },
                {
                  "Number": 717,
                  "Total": 680,
                  "HP": 126,
                  "Attack": 131,
                  "Defense": 95,
                  "Sp_Atk": 131,
                  "Sp_Def": 98,
                  "Speed": 99,
                  "Height_m": 5.79,
                  "Weight_kg": 203,
                  "Catch_Rate": 45,
                  "_deepnote_index_column": 716
                },
                {
                  "Number": 718,
                  "Total": 600,
                  "HP": 108,
                  "Attack": 100,
                  "Defense": 121,
                  "Sp_Atk": 81,
                  "Sp_Def": 95,
                  "Speed": 95,
                  "Height_m": 5,
                  "Weight_kg": 305,
                  "Catch_Rate": 3,
                  "_deepnote_index_column": 717
                },
                {
                  "Number": 719,
                  "Total": 600,
                  "HP": 50,
                  "Attack": 100,
                  "Defense": 150,
                  "Sp_Atk": 100,
                  "Sp_Def": 150,
                  "Speed": 50,
                  "Height_m": 0.71,
                  "Weight_kg": 8.8,
                  "Catch_Rate": 3,
                  "_deepnote_index_column": 718
                },
                {
                  "Number": 720,
                  "Total": 600,
                  "HP": 80,
                  "Attack": 110,
                  "Defense": 60,
                  "Sp_Atk": 150,
                  "Sp_Def": 130,
                  "Speed": 70,
                  "Height_m": 0.51,
                  "Weight_kg": 9,
                  "Catch_Rate": 3,
                  "_deepnote_index_column": 719
                },
                {
                  "Number": 721,
                  "Total": 600,
                  "HP": 80,
                  "Attack": 110,
                  "Defense": 120,
                  "Sp_Atk": 130,
                  "Sp_Def": 90,
                  "Speed": 70,
                  "Height_m": 1.7,
                  "Weight_kg": 195,
                  "Catch_Rate": 3,
                  "_deepnote_index_column": 720
                }
              ]
            },
            "text/plain": "     Number  Total   HP  Attack  Defense  Sp_Atk  Sp_Def  Speed  Height_m  \\\n0         1    318   45      49       49      65      65     45      0.71   \n1         2    405   60      62       63      80      80     60      0.99   \n2         3    525   80      82       83     100     100     80      2.01   \n3         4    309   39      52       43      60      50     65      0.61   \n4         5    405   58      64       58      80      65     80      1.09   \n..      ...    ...  ...     ...      ...     ...     ...    ...       ...   \n716     717    680  126     131       95     131      98     99      5.79   \n717     718    600  108     100      121      81      95     95      5.00   \n718     719    600   50     100      150     100     150     50      0.71   \n719     720    600   80     110       60     150     130     70      0.51   \n720     721    600   80     110      120     130      90     70      1.70   \n\n     Weight_kg  Catch_Rate  \n0          6.9          45  \n1         13.0          45  \n2        100.0          45  \n3          8.5          45  \n4         19.0          45  \n..         ...         ...  \n716      203.0          45  \n717      305.0           3  \n718        8.8           3  \n719        9.0           3  \n720      195.0           3  \n\n[721 rows x 11 columns]",
            "text/html": "<div>\n<style scoped>\n    .dataframe tbody tr th:only-of-type {\n        vertical-align: middle;\n    }\n\n    .dataframe tbody tr th {\n        vertical-align: top;\n    }\n\n    .dataframe thead th {\n        text-align: right;\n    }\n</style>\n<table border=\"1\" class=\"dataframe\">\n  <thead>\n    <tr style=\"text-align: right;\">\n      <th></th>\n      <th>Number</th>\n      <th>Total</th>\n      <th>HP</th>\n      <th>Attack</th>\n      <th>Defense</th>\n      <th>Sp_Atk</th>\n      <th>Sp_Def</th>\n      <th>Speed</th>\n      <th>Height_m</th>\n      <th>Weight_kg</th>\n      <th>Catch_Rate</th>\n    </tr>\n  </thead>\n  <tbody>\n    <tr>\n      <th>0</th>\n      <td>1</td>\n      <td>318</td>\n      <td>45</td>\n      <td>49</td>\n      <td>49</td>\n      <td>65</td>\n      <td>65</td>\n      <td>45</td>\n      <td>0.71</td>\n      <td>6.9</td>\n      <td>45</td>\n    </tr>\n    <tr>\n      <th>1</th>\n      <td>2</td>\n      <td>405</td>\n      <td>60</td>\n      <td>62</td>\n      <td>63</td>\n      <td>80</td>\n      <td>80</td>\n      <td>60</td>\n      <td>0.99</td>\n      <td>13.0</td>\n      <td>45</td>\n    </tr>\n    <tr>\n      <th>2</th>\n      <td>3</td>\n      <td>525</td>\n      <td>80</td>\n      <td>82</td>\n      <td>83</td>\n      <td>100</td>\n      <td>100</td>\n      <td>80</td>\n      <td>2.01</td>\n      <td>100.0</td>\n      <td>45</td>\n    </tr>\n    <tr>\n      <th>3</th>\n      <td>4</td>\n      <td>309</td>\n      <td>39</td>\n      <td>52</td>\n      <td>43</td>\n      <td>60</td>\n      <td>50</td>\n      <td>65</td>\n      <td>0.61</td>\n      <td>8.5</td>\n      <td>45</td>\n    </tr>\n    <tr>\n      <th>4</th>\n      <td>5</td>\n      <td>405</td>\n      <td>58</td>\n      <td>64</td>\n      <td>58</td>\n      <td>80</td>\n      <td>65</td>\n      <td>80</td>\n      <td>1.09</td>\n      <td>19.0</td>\n      <td>45</td>\n    </tr>\n    <tr>\n      <th>...</th>\n      <td>...</td>\n      <td>...</td>\n      <td>...</td>\n      <td>...</td>\n      <td>...</td>\n      <td>...</td>\n      <td>...</td>\n      <td>...</td>\n      <td>...</td>\n      <td>...</td>\n      <td>...</td>\n    </tr>\n    <tr>\n      <th>716</th>\n      <td>717</td>\n      <td>680</td>\n      <td>126</td>\n      <td>131</td>\n      <td>95</td>\n      <td>131</td>\n      <td>98</td>\n      <td>99</td>\n      <td>5.79</td>\n      <td>203.0</td>\n      <td>45</td>\n    </tr>\n    <tr>\n      <th>717</th>\n      <td>718</td>\n      <td>600</td>\n      <td>108</td>\n      <td>100</td>\n      <td>121</td>\n      <td>81</td>\n      <td>95</td>\n      <td>95</td>\n      <td>5.00</td>\n      <td>305.0</td>\n      <td>3</td>\n    </tr>\n    <tr>\n      <th>718</th>\n      <td>719</td>\n      <td>600</td>\n      <td>50</td>\n      <td>100</td>\n      <td>150</td>\n      <td>100</td>\n      <td>150</td>\n      <td>50</td>\n      <td>0.71</td>\n      <td>8.8</td>\n      <td>3</td>\n    </tr>\n    <tr>\n      <th>719</th>\n      <td>720</td>\n      <td>600</td>\n      <td>80</td>\n      <td>110</td>\n      <td>60</td>\n      <td>150</td>\n      <td>130</td>\n      <td>70</td>\n      <td>0.51</td>\n      <td>9.0</td>\n      <td>3</td>\n    </tr>\n    <tr>\n      <th>720</th>\n      <td>721</td>\n      <td>600</td>\n      <td>80</td>\n      <td>110</td>\n      <td>120</td>\n      <td>130</td>\n      <td>90</td>\n      <td>70</td>\n      <td>1.70</td>\n      <td>195.0</td>\n      <td>3</td>\n    </tr>\n  </tbody>\n</table>\n<p>721 rows × 11 columns</p>\n</div>"
          },
          "metadata": {}
        }
      ]
    },
    {
      "cell_type": "code",
      "metadata": {
        "colab": {
          "base_uri": "https://localhost:8080/",
          "height": 415
        },
        "id": "pUBWzdaU8492",
        "outputId": "8f6ac226-22bb-456e-b972-7d90cb9d9a0a",
        "cell_id": "00013-5c5f079f-38f5-49e9-a504-40bff3eb1d8f",
        "deepnote_to_be_reexecuted": false,
        "source_hash": "32bb90af",
        "execution_millis": 75,
        "execution_start": 1615431297139,
        "deepnote_cell_type": "code"
      },
      "source": "categorical_df =  X.select_dtypes(['object'])\ncategorical_df",
      "execution_count": null,
      "outputs": [
        {
          "output_type": "execute_result",
          "execution_count": 253,
          "data": {
            "application/vnd.deepnote.dataframe.v2+json": {
              "row_count": 721,
              "column_count": 7,
              "columns": [
                {
                  "name": "Name",
                  "dtype": "object",
                  "stats": {
                    "unique_count": 721,
                    "nan_count": 0,
                    "categories": [
                      {
                        "name": "Bulbasaur",
                        "count": 1
                      },
                      {
                        "name": "Ivysaur",
                        "count": 1
                      },
                      {
                        "name": "719 others",
                        "count": 719
                      }
                    ]
                  }
                },
                {
                  "name": "Type_1",
                  "dtype": "object",
                  "stats": {
                    "unique_count": 18,
                    "nan_count": 0,
                    "categories": [
                      {
                        "name": "Water",
                        "count": 105
                      },
                      {
                        "name": "Normal",
                        "count": 93
                      },
                      {
                        "name": "16 others",
                        "count": 523
                      }
                    ]
                  }
                },
                {
                  "name": "Type_2",
                  "dtype": "object",
                  "stats": {
                    "unique_count": 18,
                    "nan_count": 371,
                    "categories": [
                      {
                        "name": "Flying",
                        "count": 87
                      },
                      {
                        "name": "17 others",
                        "count": 263
                      },
                      {
                        "name": "Missing",
                        "count": 371
                      }
                    ]
                  }
                },
                {
                  "name": "Color",
                  "dtype": "object",
                  "stats": {
                    "unique_count": 10,
                    "nan_count": 0,
                    "categories": [
                      {
                        "name": "Blue",
                        "count": 134
                      },
                      {
                        "name": "Brown",
                        "count": 110
                      },
                      {
                        "name": "8 others",
                        "count": 477
                      }
                    ]
                  }
                },
                {
                  "name": "Egg_Group_1",
                  "dtype": "object",
                  "stats": {
                    "unique_count": 15,
                    "nan_count": 0,
                    "categories": [
                      {
                        "name": "Field",
                        "count": 169
                      },
                      {
                        "name": "Monster",
                        "count": 74
                      },
                      {
                        "name": "13 others",
                        "count": 478
                      }
                    ]
                  }
                },
                {
                  "name": "Egg_Group_2",
                  "dtype": "object",
                  "stats": {
                    "unique_count": 13,
                    "nan_count": 530,
                    "categories": [
                      {
                        "name": "Dragon",
                        "count": 35
                      },
                      {
                        "name": "12 others",
                        "count": 156
                      },
                      {
                        "name": "Missing",
                        "count": 530
                      }
                    ]
                  }
                },
                {
                  "name": "Body_Style",
                  "dtype": "object",
                  "stats": {
                    "unique_count": 14,
                    "nan_count": 0,
                    "categories": [
                      {
                        "name": "bipedal_tailed",
                        "count": 158
                      },
                      {
                        "name": "quadruped",
                        "count": 135
                      },
                      {
                        "name": "12 others",
                        "count": 428
                      }
                    ]
                  }
                },
                {
                  "name": "_deepnote_index_column",
                  "dtype": "int64"
                }
              ],
              "rows_top": [
                {
                  "Name": "Bulbasaur",
                  "Type_1": "Grass",
                  "Type_2": "Poison",
                  "Color": "Green",
                  "Egg_Group_1": "Monster",
                  "Egg_Group_2": "Grass",
                  "Body_Style": "quadruped",
                  "_deepnote_index_column": 0
                },
                {
                  "Name": "Ivysaur",
                  "Type_1": "Grass",
                  "Type_2": "Poison",
                  "Color": "Green",
                  "Egg_Group_1": "Monster",
                  "Egg_Group_2": "Grass",
                  "Body_Style": "quadruped",
                  "_deepnote_index_column": 1
                },
                {
                  "Name": "Venusaur",
                  "Type_1": "Grass",
                  "Type_2": "Poison",
                  "Color": "Green",
                  "Egg_Group_1": "Monster",
                  "Egg_Group_2": "Grass",
                  "Body_Style": "quadruped",
                  "_deepnote_index_column": 2
                },
                {
                  "Name": "Charmander",
                  "Type_1": "Fire",
                  "Type_2": "nan",
                  "Color": "Red",
                  "Egg_Group_1": "Monster",
                  "Egg_Group_2": "Dragon",
                  "Body_Style": "bipedal_tailed",
                  "_deepnote_index_column": 3
                },
                {
                  "Name": "Charmeleon",
                  "Type_1": "Fire",
                  "Type_2": "nan",
                  "Color": "Red",
                  "Egg_Group_1": "Monster",
                  "Egg_Group_2": "Dragon",
                  "Body_Style": "bipedal_tailed",
                  "_deepnote_index_column": 4
                },
                {
                  "Name": "Charizard",
                  "Type_1": "Fire",
                  "Type_2": "Flying",
                  "Color": "Red",
                  "Egg_Group_1": "Monster",
                  "Egg_Group_2": "Dragon",
                  "Body_Style": "bipedal_tailed",
                  "_deepnote_index_column": 5
                },
                {
                  "Name": "Squirtle",
                  "Type_1": "Water",
                  "Type_2": "nan",
                  "Color": "Blue",
                  "Egg_Group_1": "Monster",
                  "Egg_Group_2": "Water_1",
                  "Body_Style": "bipedal_tailed",
                  "_deepnote_index_column": 6
                },
                {
                  "Name": "Wartortle",
                  "Type_1": "Water",
                  "Type_2": "nan",
                  "Color": "Blue",
                  "Egg_Group_1": "Monster",
                  "Egg_Group_2": "Water_1",
                  "Body_Style": "bipedal_tailed",
                  "_deepnote_index_column": 7
                },
                {
                  "Name": "Blastoise",
                  "Type_1": "Water",
                  "Type_2": "nan",
                  "Color": "Blue",
                  "Egg_Group_1": "Monster",
                  "Egg_Group_2": "Water_1",
                  "Body_Style": "bipedal_tailed",
                  "_deepnote_index_column": 8
                },
                {
                  "Name": "Caterpie",
                  "Type_1": "Bug",
                  "Type_2": "nan",
                  "Color": "Green",
                  "Egg_Group_1": "Bug",
                  "Egg_Group_2": "nan",
                  "Body_Style": "insectoid",
                  "_deepnote_index_column": 9
                },
                {
                  "Name": "Metapod",
                  "Type_1": "Bug",
                  "Type_2": "nan",
                  "Color": "Green",
                  "Egg_Group_1": "Bug",
                  "Egg_Group_2": "nan",
                  "Body_Style": "serpentine_body",
                  "_deepnote_index_column": 10
                },
                {
                  "Name": "Butterfree",
                  "Type_1": "Bug",
                  "Type_2": "Flying",
                  "Color": "White",
                  "Egg_Group_1": "Bug",
                  "Egg_Group_2": "nan",
                  "Body_Style": "four_wings",
                  "_deepnote_index_column": 11
                },
                {
                  "Name": "Weedle",
                  "Type_1": "Bug",
                  "Type_2": "Poison",
                  "Color": "Brown",
                  "Egg_Group_1": "Bug",
                  "Egg_Group_2": "nan",
                  "Body_Style": "serpentine_body",
                  "_deepnote_index_column": 12
                },
                {
                  "Name": "Kakuna",
                  "Type_1": "Bug",
                  "Type_2": "Poison",
                  "Color": "Yellow",
                  "Egg_Group_1": "Bug",
                  "Egg_Group_2": "nan",
                  "Body_Style": "serpentine_body",
                  "_deepnote_index_column": 13
                },
                {
                  "Name": "Beedrill",
                  "Type_1": "Bug",
                  "Type_2": "Poison",
                  "Color": "Yellow",
                  "Egg_Group_1": "Bug",
                  "Egg_Group_2": "nan",
                  "Body_Style": "four_wings",
                  "_deepnote_index_column": 14
                },
                {
                  "Name": "Pidgey",
                  "Type_1": "Normal",
                  "Type_2": "Flying",
                  "Color": "Brown",
                  "Egg_Group_1": "Flying",
                  "Egg_Group_2": "nan",
                  "Body_Style": "two_wings",
                  "_deepnote_index_column": 15
                },
                {
                  "Name": "Pidgeotto",
                  "Type_1": "Normal",
                  "Type_2": "Flying",
                  "Color": "Brown",
                  "Egg_Group_1": "Flying",
                  "Egg_Group_2": "nan",
                  "Body_Style": "two_wings",
                  "_deepnote_index_column": 16
                },
                {
                  "Name": "Pidgeot",
                  "Type_1": "Normal",
                  "Type_2": "Flying",
                  "Color": "Brown",
                  "Egg_Group_1": "Flying",
                  "Egg_Group_2": "nan",
                  "Body_Style": "two_wings",
                  "_deepnote_index_column": 17
                },
                {
                  "Name": "Rattata",
                  "Type_1": "Normal",
                  "Type_2": "nan",
                  "Color": "Purple",
                  "Egg_Group_1": "Field",
                  "Egg_Group_2": "nan",
                  "Body_Style": "quadruped",
                  "_deepnote_index_column": 18
                },
                {
                  "Name": "Raticate",
                  "Type_1": "Normal",
                  "Type_2": "nan",
                  "Color": "Brown",
                  "Egg_Group_1": "Field",
                  "Egg_Group_2": "nan",
                  "Body_Style": "quadruped",
                  "_deepnote_index_column": 19
                },
                {
                  "Name": "Spearow",
                  "Type_1": "Normal",
                  "Type_2": "Flying",
                  "Color": "Brown",
                  "Egg_Group_1": "Flying",
                  "Egg_Group_2": "nan",
                  "Body_Style": "two_wings",
                  "_deepnote_index_column": 20
                },
                {
                  "Name": "Fearow",
                  "Type_1": "Normal",
                  "Type_2": "Flying",
                  "Color": "Brown",
                  "Egg_Group_1": "Flying",
                  "Egg_Group_2": "nan",
                  "Body_Style": "two_wings",
                  "_deepnote_index_column": 21
                },
                {
                  "Name": "Ekans",
                  "Type_1": "Poison",
                  "Type_2": "nan",
                  "Color": "Purple",
                  "Egg_Group_1": "Field",
                  "Egg_Group_2": "Dragon",
                  "Body_Style": "serpentine_body",
                  "_deepnote_index_column": 22
                },
                {
                  "Name": "Arbok",
                  "Type_1": "Poison",
                  "Type_2": "nan",
                  "Color": "Purple",
                  "Egg_Group_1": "Field",
                  "Egg_Group_2": "Dragon",
                  "Body_Style": "serpentine_body",
                  "_deepnote_index_column": 23
                },
                {
                  "Name": "Pikachu",
                  "Type_1": "Electric",
                  "Type_2": "nan",
                  "Color": "Yellow",
                  "Egg_Group_1": "Field",
                  "Egg_Group_2": "Fairy",
                  "Body_Style": "quadruped",
                  "_deepnote_index_column": 24
                },
                {
                  "Name": "Raichu",
                  "Type_1": "Electric",
                  "Type_2": "nan",
                  "Color": "Yellow",
                  "Egg_Group_1": "Field",
                  "Egg_Group_2": "Fairy",
                  "Body_Style": "bipedal_tailed",
                  "_deepnote_index_column": 25
                },
                {
                  "Name": "Sandshrew",
                  "Type_1": "Ground",
                  "Type_2": "nan",
                  "Color": "Yellow",
                  "Egg_Group_1": "Field",
                  "Egg_Group_2": "nan",
                  "Body_Style": "bipedal_tailed",
                  "_deepnote_index_column": 26
                },
                {
                  "Name": "Sandslash",
                  "Type_1": "Ground",
                  "Type_2": "nan",
                  "Color": "Yellow",
                  "Egg_Group_1": "Field",
                  "Egg_Group_2": "nan",
                  "Body_Style": "bipedal_tailed",
                  "_deepnote_index_column": 27
                },
                {
                  "Name": "Nidoran♀",
                  "Type_1": "Poison",
                  "Type_2": "nan",
                  "Color": "Blue",
                  "Egg_Group_1": "Monster",
                  "Egg_Group_2": "Field",
                  "Body_Style": "quadruped",
                  "_deepnote_index_column": 28
                },
                {
                  "Name": "Nidorina",
                  "Type_1": "Poison",
                  "Type_2": "nan",
                  "Color": "Blue",
                  "Egg_Group_1": "Undiscovered",
                  "Egg_Group_2": "nan",
                  "Body_Style": "quadruped",
                  "_deepnote_index_column": 29
                },
                {
                  "Name": "Nidoqueen",
                  "Type_1": "Poison",
                  "Type_2": "Ground",
                  "Color": "Blue",
                  "Egg_Group_1": "Undiscovered",
                  "Egg_Group_2": "nan",
                  "Body_Style": "bipedal_tailed",
                  "_deepnote_index_column": 30
                },
                {
                  "Name": "Nidoran♂",
                  "Type_1": "Poison",
                  "Type_2": "nan",
                  "Color": "Purple",
                  "Egg_Group_1": "Monster",
                  "Egg_Group_2": "Field",
                  "Body_Style": "quadruped",
                  "_deepnote_index_column": 31
                },
                {
                  "Name": "Nidorino",
                  "Type_1": "Poison",
                  "Type_2": "nan",
                  "Color": "Purple",
                  "Egg_Group_1": "Monster",
                  "Egg_Group_2": "Field",
                  "Body_Style": "quadruped",
                  "_deepnote_index_column": 32
                },
                {
                  "Name": "Nidoking",
                  "Type_1": "Poison",
                  "Type_2": "Ground",
                  "Color": "Purple",
                  "Egg_Group_1": "Monster",
                  "Egg_Group_2": "Field",
                  "Body_Style": "bipedal_tailed",
                  "_deepnote_index_column": 33
                },
                {
                  "Name": "Clefairy",
                  "Type_1": "Fairy",
                  "Type_2": "nan",
                  "Color": "Pink",
                  "Egg_Group_1": "Fairy",
                  "Egg_Group_2": "nan",
                  "Body_Style": "bipedal_tailed",
                  "_deepnote_index_column": 34
                },
                {
                  "Name": "Clefable",
                  "Type_1": "Fairy",
                  "Type_2": "nan",
                  "Color": "Pink",
                  "Egg_Group_1": "Fairy",
                  "Egg_Group_2": "nan",
                  "Body_Style": "bipedal_tailed",
                  "_deepnote_index_column": 35
                },
                {
                  "Name": "Vulpix",
                  "Type_1": "Fire",
                  "Type_2": "nan",
                  "Color": "Brown",
                  "Egg_Group_1": "Field",
                  "Egg_Group_2": "nan",
                  "Body_Style": "quadruped",
                  "_deepnote_index_column": 36
                },
                {
                  "Name": "Ninetales",
                  "Type_1": "Fire",
                  "Type_2": "nan",
                  "Color": "Yellow",
                  "Egg_Group_1": "Field",
                  "Egg_Group_2": "nan",
                  "Body_Style": "quadruped",
                  "_deepnote_index_column": 37
                },
                {
                  "Name": "Jigglypuff",
                  "Type_1": "Normal",
                  "Type_2": "Fairy",
                  "Color": "Pink",
                  "Egg_Group_1": "Fairy",
                  "Egg_Group_2": "nan",
                  "Body_Style": "bipedal_tailless",
                  "_deepnote_index_column": 38
                },
                {
                  "Name": "Wigglytuff",
                  "Type_1": "Normal",
                  "Type_2": "Fairy",
                  "Color": "Pink",
                  "Egg_Group_1": "Fairy",
                  "Egg_Group_2": "nan",
                  "Body_Style": "bipedal_tailless",
                  "_deepnote_index_column": 39
                },
                {
                  "Name": "Zubat",
                  "Type_1": "Poison",
                  "Type_2": "Flying",
                  "Color": "Purple",
                  "Egg_Group_1": "Flying",
                  "Egg_Group_2": "nan",
                  "Body_Style": "two_wings",
                  "_deepnote_index_column": 40
                },
                {
                  "Name": "Golbat",
                  "Type_1": "Poison",
                  "Type_2": "Flying",
                  "Color": "Purple",
                  "Egg_Group_1": "Flying",
                  "Egg_Group_2": "nan",
                  "Body_Style": "two_wings",
                  "_deepnote_index_column": 41
                },
                {
                  "Name": "Oddish",
                  "Type_1": "Grass",
                  "Type_2": "Poison",
                  "Color": "Blue",
                  "Egg_Group_1": "Grass",
                  "Egg_Group_2": "nan",
                  "Body_Style": "head_legs",
                  "_deepnote_index_column": 42
                },
                {
                  "Name": "Gloom",
                  "Type_1": "Grass",
                  "Type_2": "Poison",
                  "Color": "Blue",
                  "Egg_Group_1": "Grass",
                  "Egg_Group_2": "nan",
                  "Body_Style": "bipedal_tailless",
                  "_deepnote_index_column": 43
                },
                {
                  "Name": "Vileplume",
                  "Type_1": "Grass",
                  "Type_2": "Poison",
                  "Color": "Red",
                  "Egg_Group_1": "Grass",
                  "Egg_Group_2": "nan",
                  "Body_Style": "bipedal_tailless",
                  "_deepnote_index_column": 44
                },
                {
                  "Name": "Paras",
                  "Type_1": "Bug",
                  "Type_2": "Grass",
                  "Color": "Red",
                  "Egg_Group_1": "Bug",
                  "Egg_Group_2": "Grass",
                  "Body_Style": "insectoid",
                  "_deepnote_index_column": 45
                },
                {
                  "Name": "Parasect",
                  "Type_1": "Bug",
                  "Type_2": "Grass",
                  "Color": "Red",
                  "Egg_Group_1": "Bug",
                  "Egg_Group_2": "Grass",
                  "Body_Style": "insectoid",
                  "_deepnote_index_column": 46
                },
                {
                  "Name": "Venonat",
                  "Type_1": "Bug",
                  "Type_2": "Poison",
                  "Color": "Purple",
                  "Egg_Group_1": "Bug",
                  "Egg_Group_2": "nan",
                  "Body_Style": "bipedal_tailless",
                  "_deepnote_index_column": 47
                },
                {
                  "Name": "Venomoth",
                  "Type_1": "Bug",
                  "Type_2": "Poison",
                  "Color": "Purple",
                  "Egg_Group_1": "Bug",
                  "Egg_Group_2": "nan",
                  "Body_Style": "four_wings",
                  "_deepnote_index_column": 48
                },
                {
                  "Name": "Diglett",
                  "Type_1": "Ground",
                  "Type_2": "nan",
                  "Color": "Brown",
                  "Egg_Group_1": "Field",
                  "Egg_Group_2": "nan",
                  "Body_Style": "head_base",
                  "_deepnote_index_column": 49
                },
                {
                  "Name": "Dugtrio",
                  "Type_1": "Ground",
                  "Type_2": "nan",
                  "Color": "Brown",
                  "Egg_Group_1": "Field",
                  "Egg_Group_2": "nan",
                  "Body_Style": "multiple_bodies",
                  "_deepnote_index_column": 50
                },
                {
                  "Name": "Meowth",
                  "Type_1": "Normal",
                  "Type_2": "nan",
                  "Color": "Yellow",
                  "Egg_Group_1": "Field",
                  "Egg_Group_2": "nan",
                  "Body_Style": "quadruped",
                  "_deepnote_index_column": 51
                },
                {
                  "Name": "Persian",
                  "Type_1": "Normal",
                  "Type_2": "nan",
                  "Color": "Yellow",
                  "Egg_Group_1": "Field",
                  "Egg_Group_2": "nan",
                  "Body_Style": "quadruped",
                  "_deepnote_index_column": 52
                },
                {
                  "Name": "Psyduck",
                  "Type_1": "Water",
                  "Type_2": "nan",
                  "Color": "Yellow",
                  "Egg_Group_1": "Water_1",
                  "Egg_Group_2": "Field",
                  "Body_Style": "bipedal_tailed",
                  "_deepnote_index_column": 53
                },
                {
                  "Name": "Golduck",
                  "Type_1": "Water",
                  "Type_2": "nan",
                  "Color": "Blue",
                  "Egg_Group_1": "Water_1",
                  "Egg_Group_2": "Field",
                  "Body_Style": "bipedal_tailed",
                  "_deepnote_index_column": 54
                },
                {
                  "Name": "Mankey",
                  "Type_1": "Fighting",
                  "Type_2": "nan",
                  "Color": "Brown",
                  "Egg_Group_1": "Field",
                  "Egg_Group_2": "nan",
                  "Body_Style": "bipedal_tailed",
                  "_deepnote_index_column": 55
                },
                {
                  "Name": "Primeape",
                  "Type_1": "Fighting",
                  "Type_2": "nan",
                  "Color": "Brown",
                  "Egg_Group_1": "Field",
                  "Egg_Group_2": "nan",
                  "Body_Style": "bipedal_tailed",
                  "_deepnote_index_column": 56
                },
                {
                  "Name": "Growlithe",
                  "Type_1": "Fire",
                  "Type_2": "nan",
                  "Color": "Brown",
                  "Egg_Group_1": "Field",
                  "Egg_Group_2": "nan",
                  "Body_Style": "quadruped",
                  "_deepnote_index_column": 57
                },
                {
                  "Name": "Arcanine",
                  "Type_1": "Fire",
                  "Type_2": "nan",
                  "Color": "Brown",
                  "Egg_Group_1": "Field",
                  "Egg_Group_2": "nan",
                  "Body_Style": "quadruped",
                  "_deepnote_index_column": 58
                },
                {
                  "Name": "Poliwag",
                  "Type_1": "Water",
                  "Type_2": "nan",
                  "Color": "Blue",
                  "Egg_Group_1": "Water_1",
                  "Egg_Group_2": "nan",
                  "Body_Style": "head_legs",
                  "_deepnote_index_column": 59
                },
                {
                  "Name": "Poliwhirl",
                  "Type_1": "Water",
                  "Type_2": "nan",
                  "Color": "Blue",
                  "Egg_Group_1": "Water_1",
                  "Egg_Group_2": "nan",
                  "Body_Style": "bipedal_tailless",
                  "_deepnote_index_column": 60
                },
                {
                  "Name": "Poliwrath",
                  "Type_1": "Water",
                  "Type_2": "Fighting",
                  "Color": "Blue",
                  "Egg_Group_1": "Water_1",
                  "Egg_Group_2": "nan",
                  "Body_Style": "bipedal_tailless",
                  "_deepnote_index_column": 61
                },
                {
                  "Name": "Abra",
                  "Type_1": "Psychic",
                  "Type_2": "nan",
                  "Color": "Brown",
                  "Egg_Group_1": "Human-Like",
                  "Egg_Group_2": "nan",
                  "Body_Style": "bipedal_tailed",
                  "_deepnote_index_column": 62
                },
                {
                  "Name": "Kadabra",
                  "Type_1": "Psychic",
                  "Type_2": "nan",
                  "Color": "Brown",
                  "Egg_Group_1": "Human-Like",
                  "Egg_Group_2": "nan",
                  "Body_Style": "bipedal_tailed",
                  "_deepnote_index_column": 63
                },
                {
                  "Name": "Alakazam",
                  "Type_1": "Psychic",
                  "Type_2": "nan",
                  "Color": "Brown",
                  "Egg_Group_1": "Human-Like",
                  "Egg_Group_2": "nan",
                  "Body_Style": "bipedal_tailless",
                  "_deepnote_index_column": 64
                },
                {
                  "Name": "Machop",
                  "Type_1": "Fighting",
                  "Type_2": "nan",
                  "Color": "Grey",
                  "Egg_Group_1": "Human-Like",
                  "Egg_Group_2": "nan",
                  "Body_Style": "bipedal_tailed",
                  "_deepnote_index_column": 65
                },
                {
                  "Name": "Machoke",
                  "Type_1": "Fighting",
                  "Type_2": "nan",
                  "Color": "Grey",
                  "Egg_Group_1": "Human-Like",
                  "Egg_Group_2": "nan",
                  "Body_Style": "bipedal_tailless",
                  "_deepnote_index_column": 66
                },
                {
                  "Name": "Machamp",
                  "Type_1": "Fighting",
                  "Type_2": "nan",
                  "Color": "Grey",
                  "Egg_Group_1": "Human-Like",
                  "Egg_Group_2": "nan",
                  "Body_Style": "bipedal_tailless",
                  "_deepnote_index_column": 67
                },
                {
                  "Name": "Bellsprout",
                  "Type_1": "Grass",
                  "Type_2": "Poison",
                  "Color": "Green",
                  "Egg_Group_1": "Grass",
                  "Egg_Group_2": "nan",
                  "Body_Style": "bipedal_tailless",
                  "_deepnote_index_column": 68
                },
                {
                  "Name": "Weepinbell",
                  "Type_1": "Grass",
                  "Type_2": "Poison",
                  "Color": "Green",
                  "Egg_Group_1": "Grass",
                  "Egg_Group_2": "nan",
                  "Body_Style": "head_base",
                  "_deepnote_index_column": 69
                },
                {
                  "Name": "Victreebel",
                  "Type_1": "Grass",
                  "Type_2": "Poison",
                  "Color": "Green",
                  "Egg_Group_1": "Grass",
                  "Egg_Group_2": "nan",
                  "Body_Style": "head_base",
                  "_deepnote_index_column": 70
                }
              ],
              "rows_bottom": [
                {
                  "Name": "Quilladin",
                  "Type_1": "Grass",
                  "Type_2": "nan",
                  "Color": "Green",
                  "Egg_Group_1": "Field",
                  "Egg_Group_2": "nan",
                  "Body_Style": "bipedal_tailed",
                  "_deepnote_index_column": 650
                },
                {
                  "Name": "Chesnaught",
                  "Type_1": "Grass",
                  "Type_2": "Fighting",
                  "Color": "Green",
                  "Egg_Group_1": "Field",
                  "Egg_Group_2": "nan",
                  "Body_Style": "bipedal_tailed",
                  "_deepnote_index_column": 651
                },
                {
                  "Name": "Fennekin",
                  "Type_1": "Fire",
                  "Type_2": "nan",
                  "Color": "Red",
                  "Egg_Group_1": "Field",
                  "Egg_Group_2": "nan",
                  "Body_Style": "quadruped",
                  "_deepnote_index_column": 652
                },
                {
                  "Name": "Braixen",
                  "Type_1": "Fire",
                  "Type_2": "nan",
                  "Color": "Red",
                  "Egg_Group_1": "Field",
                  "Egg_Group_2": "nan",
                  "Body_Style": "bipedal_tailed",
                  "_deepnote_index_column": 653
                },
                {
                  "Name": "Delphox",
                  "Type_1": "Fire",
                  "Type_2": "Psychic",
                  "Color": "Red",
                  "Egg_Group_1": "Field",
                  "Egg_Group_2": "nan",
                  "Body_Style": "bipedal_tailed",
                  "_deepnote_index_column": 654
                },
                {
                  "Name": "Froakie",
                  "Type_1": "Water",
                  "Type_2": "nan",
                  "Color": "Blue",
                  "Egg_Group_1": "Water_1",
                  "Egg_Group_2": "nan",
                  "Body_Style": "quadruped",
                  "_deepnote_index_column": 655
                },
                {
                  "Name": "Frogadier",
                  "Type_1": "Water",
                  "Type_2": "nan",
                  "Color": "Blue",
                  "Egg_Group_1": "Water_1",
                  "Egg_Group_2": "nan",
                  "Body_Style": "bipedal_tailless",
                  "_deepnote_index_column": 656
                },
                {
                  "Name": "Greninja",
                  "Type_1": "Water",
                  "Type_2": "Dark",
                  "Color": "Blue",
                  "Egg_Group_1": "Water_1",
                  "Egg_Group_2": "nan",
                  "Body_Style": "bipedal_tailless",
                  "_deepnote_index_column": 657
                },
                {
                  "Name": "Bunnelby",
                  "Type_1": "Normal",
                  "Type_2": "nan",
                  "Color": "Brown",
                  "Egg_Group_1": "Field",
                  "Egg_Group_2": "nan",
                  "Body_Style": "bipedal_tailed",
                  "_deepnote_index_column": 658
                },
                {
                  "Name": "Diggersby",
                  "Type_1": "Normal",
                  "Type_2": "Ground",
                  "Color": "Brown",
                  "Egg_Group_1": "Field",
                  "Egg_Group_2": "nan",
                  "Body_Style": "bipedal_tailed",
                  "_deepnote_index_column": 659
                },
                {
                  "Name": "Fletchling",
                  "Type_1": "Normal",
                  "Type_2": "Flying",
                  "Color": "Red",
                  "Egg_Group_1": "Flying",
                  "Egg_Group_2": "nan",
                  "Body_Style": "two_wings",
                  "_deepnote_index_column": 660
                },
                {
                  "Name": "Fletchinder",
                  "Type_1": "Fire",
                  "Type_2": "Flying",
                  "Color": "Red",
                  "Egg_Group_1": "Flying",
                  "Egg_Group_2": "nan",
                  "Body_Style": "two_wings",
                  "_deepnote_index_column": 661
                },
                {
                  "Name": "Talonflame",
                  "Type_1": "Fire",
                  "Type_2": "Flying",
                  "Color": "Red",
                  "Egg_Group_1": "Flying",
                  "Egg_Group_2": "nan",
                  "Body_Style": "two_wings",
                  "_deepnote_index_column": 662
                },
                {
                  "Name": "Scatterbug",
                  "Type_1": "Bug",
                  "Type_2": "nan",
                  "Color": "Black",
                  "Egg_Group_1": "Bug",
                  "Egg_Group_2": "nan",
                  "Body_Style": "insectoid",
                  "_deepnote_index_column": 663
                },
                {
                  "Name": "Spewpa",
                  "Type_1": "Bug",
                  "Type_2": "nan",
                  "Color": "Black",
                  "Egg_Group_1": "Bug",
                  "Egg_Group_2": "nan",
                  "Body_Style": "head_base",
                  "_deepnote_index_column": 664
                },
                {
                  "Name": "Vivillon",
                  "Type_1": "Bug",
                  "Type_2": "Flying",
                  "Color": "Black",
                  "Egg_Group_1": "Bug",
                  "Egg_Group_2": "nan",
                  "Body_Style": "four_wings",
                  "_deepnote_index_column": 665
                },
                {
                  "Name": "Litleo",
                  "Type_1": "Fire",
                  "Type_2": "Normal",
                  "Color": "Brown",
                  "Egg_Group_1": "Field",
                  "Egg_Group_2": "nan",
                  "Body_Style": "quadruped",
                  "_deepnote_index_column": 666
                },
                {
                  "Name": "Pyroar",
                  "Type_1": "Fire",
                  "Type_2": "Normal",
                  "Color": "Brown",
                  "Egg_Group_1": "Field",
                  "Egg_Group_2": "nan",
                  "Body_Style": "quadruped",
                  "_deepnote_index_column": 667
                },
                {
                  "Name": "Flabébé",
                  "Type_1": "Fairy",
                  "Type_2": "nan",
                  "Color": "White",
                  "Egg_Group_1": "Fairy",
                  "Egg_Group_2": "nan",
                  "Body_Style": "head_arms",
                  "_deepnote_index_column": 668
                },
                {
                  "Name": "Floette",
                  "Type_1": "Fairy",
                  "Type_2": "nan",
                  "Color": "White",
                  "Egg_Group_1": "Fairy",
                  "Egg_Group_2": "nan",
                  "Body_Style": "head_arms",
                  "_deepnote_index_column": 669
                },
                {
                  "Name": "Florges",
                  "Type_1": "Fairy",
                  "Type_2": "nan",
                  "Color": "White",
                  "Egg_Group_1": "Fairy",
                  "Egg_Group_2": "nan",
                  "Body_Style": "head_arms",
                  "_deepnote_index_column": 670
                },
                {
                  "Name": "Skiddo",
                  "Type_1": "Grass",
                  "Type_2": "nan",
                  "Color": "Brown",
                  "Egg_Group_1": "Field",
                  "Egg_Group_2": "nan",
                  "Body_Style": "quadruped",
                  "_deepnote_index_column": 671
                },
                {
                  "Name": "Gogoat",
                  "Type_1": "Grass",
                  "Type_2": "nan",
                  "Color": "Brown",
                  "Egg_Group_1": "Field",
                  "Egg_Group_2": "nan",
                  "Body_Style": "quadruped",
                  "_deepnote_index_column": 672
                },
                {
                  "Name": "Pancham",
                  "Type_1": "Fighting",
                  "Type_2": "nan",
                  "Color": "White",
                  "Egg_Group_1": "Field",
                  "Egg_Group_2": "Human-Like",
                  "Body_Style": "bipedal_tailed",
                  "_deepnote_index_column": 673
                },
                {
                  "Name": "Pangoro",
                  "Type_1": "Fighting",
                  "Type_2": "Dark",
                  "Color": "White",
                  "Egg_Group_1": "Field",
                  "Egg_Group_2": "Human-Like",
                  "Body_Style": "bipedal_tailless",
                  "_deepnote_index_column": 674
                },
                {
                  "Name": "Furfrou",
                  "Type_1": "Normal",
                  "Type_2": "nan",
                  "Color": "White",
                  "Egg_Group_1": "Field",
                  "Egg_Group_2": "nan",
                  "Body_Style": "quadruped",
                  "_deepnote_index_column": 675
                },
                {
                  "Name": "Espurr",
                  "Type_1": "Psychic",
                  "Type_2": "nan",
                  "Color": "Grey",
                  "Egg_Group_1": "Field",
                  "Egg_Group_2": "nan",
                  "Body_Style": "bipedal_tailed",
                  "_deepnote_index_column": 676
                },
                {
                  "Name": "Meowstic",
                  "Type_1": "Psychic",
                  "Type_2": "nan",
                  "Color": "White",
                  "Egg_Group_1": "Field",
                  "Egg_Group_2": "nan",
                  "Body_Style": "bipedal_tailed",
                  "_deepnote_index_column": 677
                },
                {
                  "Name": "Honedge",
                  "Type_1": "Steel",
                  "Type_2": "Ghost",
                  "Color": "Brown",
                  "Egg_Group_1": "Mineral",
                  "Egg_Group_2": "nan",
                  "Body_Style": "head_base",
                  "_deepnote_index_column": 678
                },
                {
                  "Name": "Doublade",
                  "Type_1": "Steel",
                  "Type_2": "Ghost",
                  "Color": "Brown",
                  "Egg_Group_1": "Mineral",
                  "Egg_Group_2": "nan",
                  "Body_Style": "multiple_bodies",
                  "_deepnote_index_column": 679
                },
                {
                  "Name": "Aegislash",
                  "Type_1": "Steel",
                  "Type_2": "Ghost",
                  "Color": "Brown",
                  "Egg_Group_1": "Mineral",
                  "Egg_Group_2": "nan",
                  "Body_Style": "head_base",
                  "_deepnote_index_column": 680
                },
                {
                  "Name": "Spritzee",
                  "Type_1": "Fairy",
                  "Type_2": "nan",
                  "Color": "Pink",
                  "Egg_Group_1": "Fairy",
                  "Egg_Group_2": "nan",
                  "Body_Style": "head_arms",
                  "_deepnote_index_column": 681
                },
                {
                  "Name": "Aromatisse",
                  "Type_1": "Fairy",
                  "Type_2": "nan",
                  "Color": "Pink",
                  "Egg_Group_1": "Fairy",
                  "Egg_Group_2": "nan",
                  "Body_Style": "bipedal_tailless",
                  "_deepnote_index_column": 682
                },
                {
                  "Name": "Swirlix",
                  "Type_1": "Fairy",
                  "Type_2": "nan",
                  "Color": "White",
                  "Egg_Group_1": "Fairy",
                  "Egg_Group_2": "nan",
                  "Body_Style": "head_legs",
                  "_deepnote_index_column": 683
                },
                {
                  "Name": "Slurpuff",
                  "Type_1": "Fairy",
                  "Type_2": "nan",
                  "Color": "White",
                  "Egg_Group_1": "Fairy",
                  "Egg_Group_2": "nan",
                  "Body_Style": "bipedal_tailless",
                  "_deepnote_index_column": 684
                },
                {
                  "Name": "Inkay",
                  "Type_1": "Dark",
                  "Type_2": "Psychic",
                  "Color": "Blue",
                  "Egg_Group_1": "Water_1",
                  "Egg_Group_2": "Water_2",
                  "Body_Style": "several_limbs",
                  "_deepnote_index_column": 685
                },
                {
                  "Name": "Malamar",
                  "Type_1": "Dark",
                  "Type_2": "Psychic",
                  "Color": "Blue",
                  "Egg_Group_1": "Water_1",
                  "Egg_Group_2": "Water_2",
                  "Body_Style": "head_base",
                  "_deepnote_index_column": 686
                },
                {
                  "Name": "Binacle",
                  "Type_1": "Rock",
                  "Type_2": "Water",
                  "Color": "Brown",
                  "Egg_Group_1": "Water_3",
                  "Egg_Group_2": "nan",
                  "Body_Style": "multiple_bodies",
                  "_deepnote_index_column": 687
                },
                {
                  "Name": "Barbaracle",
                  "Type_1": "Rock",
                  "Type_2": "Water",
                  "Color": "Brown",
                  "Egg_Group_1": "Water_3",
                  "Egg_Group_2": "nan",
                  "Body_Style": "multiple_bodies",
                  "_deepnote_index_column": 688
                },
                {
                  "Name": "Skrelp",
                  "Type_1": "Poison",
                  "Type_2": "Water",
                  "Color": "Brown",
                  "Egg_Group_1": "Water_1",
                  "Egg_Group_2": "Dragon",
                  "Body_Style": "head_base",
                  "_deepnote_index_column": 689
                },
                {
                  "Name": "Dragalge",
                  "Type_1": "Poison",
                  "Type_2": "Dragon",
                  "Color": "Brown",
                  "Egg_Group_1": "Water_1",
                  "Egg_Group_2": "Dragon",
                  "Body_Style": "head_base",
                  "_deepnote_index_column": 690
                },
                {
                  "Name": "Clauncher",
                  "Type_1": "Water",
                  "Type_2": "nan",
                  "Color": "Blue",
                  "Egg_Group_1": "Water_1",
                  "Egg_Group_2": "Water_3",
                  "Body_Style": "insectoid",
                  "_deepnote_index_column": 691
                },
                {
                  "Name": "Clawitzer",
                  "Type_1": "Water",
                  "Type_2": "nan",
                  "Color": "Blue",
                  "Egg_Group_1": "Water_1",
                  "Egg_Group_2": "Water_3",
                  "Body_Style": "serpentine_body",
                  "_deepnote_index_column": 692
                },
                {
                  "Name": "Helioptile",
                  "Type_1": "Electric",
                  "Type_2": "Normal",
                  "Color": "Yellow",
                  "Egg_Group_1": "Monster",
                  "Egg_Group_2": "Dragon",
                  "Body_Style": "bipedal_tailed",
                  "_deepnote_index_column": 693
                },
                {
                  "Name": "Heliolisk",
                  "Type_1": "Electric",
                  "Type_2": "Normal",
                  "Color": "Yellow",
                  "Egg_Group_1": "Monster",
                  "Egg_Group_2": "Dragon",
                  "Body_Style": "bipedal_tailed",
                  "_deepnote_index_column": 694
                },
                {
                  "Name": "Tyrunt",
                  "Type_1": "Rock",
                  "Type_2": "Dragon",
                  "Color": "Brown",
                  "Egg_Group_1": "Monster",
                  "Egg_Group_2": "Dragon",
                  "Body_Style": "bipedal_tailed",
                  "_deepnote_index_column": 695
                },
                {
                  "Name": "Tyrantrum",
                  "Type_1": "Rock",
                  "Type_2": "Dragon",
                  "Color": "Red",
                  "Egg_Group_1": "Monster",
                  "Egg_Group_2": "Dragon",
                  "Body_Style": "bipedal_tailed",
                  "_deepnote_index_column": 696
                },
                {
                  "Name": "Amaura",
                  "Type_1": "Rock",
                  "Type_2": "Ice",
                  "Color": "Blue",
                  "Egg_Group_1": "Monster",
                  "Egg_Group_2": "nan",
                  "Body_Style": "quadruped",
                  "_deepnote_index_column": 697
                },
                {
                  "Name": "Aurorus",
                  "Type_1": "Rock",
                  "Type_2": "Ice",
                  "Color": "Blue",
                  "Egg_Group_1": "Monster",
                  "Egg_Group_2": "nan",
                  "Body_Style": "quadruped",
                  "_deepnote_index_column": 698
                },
                {
                  "Name": "Sylveon",
                  "Type_1": "Fairy",
                  "Type_2": "nan",
                  "Color": "Pink",
                  "Egg_Group_1": "Field",
                  "Egg_Group_2": "nan",
                  "Body_Style": "quadruped",
                  "_deepnote_index_column": 699
                },
                {
                  "Name": "Hawlucha",
                  "Type_1": "Fighting",
                  "Type_2": "Flying",
                  "Color": "Green",
                  "Egg_Group_1": "Human-Like",
                  "Egg_Group_2": "nan",
                  "Body_Style": "bipedal_tailless",
                  "_deepnote_index_column": 700
                },
                {
                  "Name": "Dedenne",
                  "Type_1": "Electric",
                  "Type_2": "Fairy",
                  "Color": "Yellow",
                  "Egg_Group_1": "Field",
                  "Egg_Group_2": "Fairy",
                  "Body_Style": "bipedal_tailed",
                  "_deepnote_index_column": 701
                },
                {
                  "Name": "Carbink",
                  "Type_1": "Rock",
                  "Type_2": "Fairy",
                  "Color": "Grey",
                  "Egg_Group_1": "Fairy",
                  "Egg_Group_2": "Mineral",
                  "Body_Style": "head_only",
                  "_deepnote_index_column": 702
                },
                {
                  "Name": "Goomy",
                  "Type_1": "Dragon",
                  "Type_2": "nan",
                  "Color": "Purple",
                  "Egg_Group_1": "Dragon",
                  "Egg_Group_2": "nan",
                  "Body_Style": "serpentine_body",
                  "_deepnote_index_column": 703
                },
                {
                  "Name": "Sliggoo",
                  "Type_1": "Dragon",
                  "Type_2": "nan",
                  "Color": "Purple",
                  "Egg_Group_1": "Dragon",
                  "Egg_Group_2": "nan",
                  "Body_Style": "serpentine_body",
                  "_deepnote_index_column": 704
                },
                {
                  "Name": "Goodra",
                  "Type_1": "Dragon",
                  "Type_2": "nan",
                  "Color": "Purple",
                  "Egg_Group_1": "Dragon",
                  "Egg_Group_2": "nan",
                  "Body_Style": "bipedal_tailed",
                  "_deepnote_index_column": 705
                },
                {
                  "Name": "Klefki",
                  "Type_1": "Steel",
                  "Type_2": "Fairy",
                  "Color": "Grey",
                  "Egg_Group_1": "Mineral",
                  "Egg_Group_2": "nan",
                  "Body_Style": "head_only",
                  "_deepnote_index_column": 706
                },
                {
                  "Name": "Phantump",
                  "Type_1": "Ghost",
                  "Type_2": "Grass",
                  "Color": "Brown",
                  "Egg_Group_1": "Grass",
                  "Egg_Group_2": "Amorphous",
                  "Body_Style": "head_arms",
                  "_deepnote_index_column": 707
                },
                {
                  "Name": "Trevenant",
                  "Type_1": "Ghost",
                  "Type_2": "Grass",
                  "Color": "Brown",
                  "Egg_Group_1": "Grass",
                  "Egg_Group_2": "Amorphous",
                  "Body_Style": "several_limbs",
                  "_deepnote_index_column": 708
                },
                {
                  "Name": "Pumpkaboo",
                  "Type_1": "Ghost",
                  "Type_2": "Grass",
                  "Color": "Brown",
                  "Egg_Group_1": "Amorphous",
                  "Egg_Group_2": "nan",
                  "Body_Style": "head_only",
                  "_deepnote_index_column": 709
                },
                {
                  "Name": "Gourgeist",
                  "Type_1": "Ghost",
                  "Type_2": "Grass",
                  "Color": "Brown",
                  "Egg_Group_1": "Amorphous",
                  "Egg_Group_2": "nan",
                  "Body_Style": "head_base",
                  "_deepnote_index_column": 710
                },
                {
                  "Name": "Bergmite",
                  "Type_1": "Ice",
                  "Type_2": "nan",
                  "Color": "Blue",
                  "Egg_Group_1": "Monster",
                  "Egg_Group_2": "nan",
                  "Body_Style": "quadruped",
                  "_deepnote_index_column": 711
                },
                {
                  "Name": "Avalugg",
                  "Type_1": "Ice",
                  "Type_2": "nan",
                  "Color": "Blue",
                  "Egg_Group_1": "Monster",
                  "Egg_Group_2": "nan",
                  "Body_Style": "quadruped",
                  "_deepnote_index_column": 712
                },
                {
                  "Name": "Noibat",
                  "Type_1": "Flying",
                  "Type_2": "Dragon",
                  "Color": "Purple",
                  "Egg_Group_1": "Flying",
                  "Egg_Group_2": "nan",
                  "Body_Style": "two_wings",
                  "_deepnote_index_column": 713
                },
                {
                  "Name": "Noivern",
                  "Type_1": "Flying",
                  "Type_2": "Dragon",
                  "Color": "Purple",
                  "Egg_Group_1": "Flying",
                  "Egg_Group_2": "nan",
                  "Body_Style": "two_wings",
                  "_deepnote_index_column": 714
                },
                {
                  "Name": "Xerneas",
                  "Type_1": "Fairy",
                  "Type_2": "nan",
                  "Color": "Blue",
                  "Egg_Group_1": "Undiscovered",
                  "Egg_Group_2": "nan",
                  "Body_Style": "quadruped",
                  "_deepnote_index_column": 715
                },
                {
                  "Name": "Yveltal",
                  "Type_1": "Dark",
                  "Type_2": "Flying",
                  "Color": "Red",
                  "Egg_Group_1": "Undiscovered",
                  "Egg_Group_2": "nan",
                  "Body_Style": "two_wings",
                  "_deepnote_index_column": 716
                },
                {
                  "Name": "Zygarde",
                  "Type_1": "Dragon",
                  "Type_2": "Ground",
                  "Color": "Green",
                  "Egg_Group_1": "Undiscovered",
                  "Egg_Group_2": "nan",
                  "Body_Style": "serpentine_body",
                  "_deepnote_index_column": 717
                },
                {
                  "Name": "Diancie",
                  "Type_1": "Rock",
                  "Type_2": "Fairy",
                  "Color": "Pink",
                  "Egg_Group_1": "Undiscovered",
                  "Egg_Group_2": "nan",
                  "Body_Style": "head_arms",
                  "_deepnote_index_column": 718
                },
                {
                  "Name": "Hoopa",
                  "Type_1": "Psychic",
                  "Type_2": "Ghost",
                  "Color": "Purple",
                  "Egg_Group_1": "Undiscovered",
                  "Egg_Group_2": "nan",
                  "Body_Style": "head_only",
                  "_deepnote_index_column": 719
                },
                {
                  "Name": "Volcanion",
                  "Type_1": "Fire",
                  "Type_2": "Water",
                  "Color": "Brown",
                  "Egg_Group_1": "Undiscovered",
                  "Egg_Group_2": "nan",
                  "Body_Style": "quadruped",
                  "_deepnote_index_column": 720
                }
              ]
            },
            "text/plain": "           Name   Type_1  Type_2   Color   Egg_Group_1 Egg_Group_2  \\\n0     Bulbasaur    Grass  Poison   Green       Monster       Grass   \n1       Ivysaur    Grass  Poison   Green       Monster       Grass   \n2      Venusaur    Grass  Poison   Green       Monster       Grass   \n3    Charmander     Fire     NaN     Red       Monster      Dragon   \n4    Charmeleon     Fire     NaN     Red       Monster      Dragon   \n..          ...      ...     ...     ...           ...         ...   \n716     Yveltal     Dark  Flying     Red  Undiscovered         NaN   \n717     Zygarde   Dragon  Ground   Green  Undiscovered         NaN   \n718     Diancie     Rock   Fairy    Pink  Undiscovered         NaN   \n719       Hoopa  Psychic   Ghost  Purple  Undiscovered         NaN   \n720   Volcanion     Fire   Water   Brown  Undiscovered         NaN   \n\n          Body_Style  \n0          quadruped  \n1          quadruped  \n2          quadruped  \n3     bipedal_tailed  \n4     bipedal_tailed  \n..               ...  \n716        two_wings  \n717  serpentine_body  \n718        head_arms  \n719        head_only  \n720        quadruped  \n\n[721 rows x 7 columns]",
            "text/html": "<div>\n<style scoped>\n    .dataframe tbody tr th:only-of-type {\n        vertical-align: middle;\n    }\n\n    .dataframe tbody tr th {\n        vertical-align: top;\n    }\n\n    .dataframe thead th {\n        text-align: right;\n    }\n</style>\n<table border=\"1\" class=\"dataframe\">\n  <thead>\n    <tr style=\"text-align: right;\">\n      <th></th>\n      <th>Name</th>\n      <th>Type_1</th>\n      <th>Type_2</th>\n      <th>Color</th>\n      <th>Egg_Group_1</th>\n      <th>Egg_Group_2</th>\n      <th>Body_Style</th>\n    </tr>\n  </thead>\n  <tbody>\n    <tr>\n      <th>0</th>\n      <td>Bulbasaur</td>\n      <td>Grass</td>\n      <td>Poison</td>\n      <td>Green</td>\n      <td>Monster</td>\n      <td>Grass</td>\n      <td>quadruped</td>\n    </tr>\n    <tr>\n      <th>1</th>\n      <td>Ivysaur</td>\n      <td>Grass</td>\n      <td>Poison</td>\n      <td>Green</td>\n      <td>Monster</td>\n      <td>Grass</td>\n      <td>quadruped</td>\n    </tr>\n    <tr>\n      <th>2</th>\n      <td>Venusaur</td>\n      <td>Grass</td>\n      <td>Poison</td>\n      <td>Green</td>\n      <td>Monster</td>\n      <td>Grass</td>\n      <td>quadruped</td>\n    </tr>\n    <tr>\n      <th>3</th>\n      <td>Charmander</td>\n      <td>Fire</td>\n      <td>NaN</td>\n      <td>Red</td>\n      <td>Monster</td>\n      <td>Dragon</td>\n      <td>bipedal_tailed</td>\n    </tr>\n    <tr>\n      <th>4</th>\n      <td>Charmeleon</td>\n      <td>Fire</td>\n      <td>NaN</td>\n      <td>Red</td>\n      <td>Monster</td>\n      <td>Dragon</td>\n      <td>bipedal_tailed</td>\n    </tr>\n    <tr>\n      <th>...</th>\n      <td>...</td>\n      <td>...</td>\n      <td>...</td>\n      <td>...</td>\n      <td>...</td>\n      <td>...</td>\n      <td>...</td>\n    </tr>\n    <tr>\n      <th>716</th>\n      <td>Yveltal</td>\n      <td>Dark</td>\n      <td>Flying</td>\n      <td>Red</td>\n      <td>Undiscovered</td>\n      <td>NaN</td>\n      <td>two_wings</td>\n    </tr>\n    <tr>\n      <th>717</th>\n      <td>Zygarde</td>\n      <td>Dragon</td>\n      <td>Ground</td>\n      <td>Green</td>\n      <td>Undiscovered</td>\n      <td>NaN</td>\n      <td>serpentine_body</td>\n    </tr>\n    <tr>\n      <th>718</th>\n      <td>Diancie</td>\n      <td>Rock</td>\n      <td>Fairy</td>\n      <td>Pink</td>\n      <td>Undiscovered</td>\n      <td>NaN</td>\n      <td>head_arms</td>\n    </tr>\n    <tr>\n      <th>719</th>\n      <td>Hoopa</td>\n      <td>Psychic</td>\n      <td>Ghost</td>\n      <td>Purple</td>\n      <td>Undiscovered</td>\n      <td>NaN</td>\n      <td>head_only</td>\n    </tr>\n    <tr>\n      <th>720</th>\n      <td>Volcanion</td>\n      <td>Fire</td>\n      <td>Water</td>\n      <td>Brown</td>\n      <td>Undiscovered</td>\n      <td>NaN</td>\n      <td>quadruped</td>\n    </tr>\n  </tbody>\n</table>\n<p>721 rows × 7 columns</p>\n</div>"
          },
          "metadata": {}
        }
      ]
    },
    {
      "cell_type": "code",
      "metadata": {
        "colab": {
          "base_uri": "https://localhost:8080/"
        },
        "id": "xBDTiyfcgz8G",
        "outputId": "a342e900-71af-4c18-f012-0b19f5640cd2",
        "cell_id": "00014-2fa8e36d-513c-4961-9f3e-59a01d65ffa6",
        "deepnote_to_be_reexecuted": false,
        "source_hash": "81e38cce",
        "execution_millis": 33,
        "execution_start": 1615431299313,
        "deepnote_cell_type": "code"
      },
      "source": "pokemon_df.info()",
      "execution_count": null,
      "outputs": [
        {
          "name": "stdout",
          "text": "<class 'pandas.core.frame.DataFrame'>\nRangeIndex: 721 entries, 0 to 720\nData columns (total 23 columns):\n #   Column            Non-Null Count  Dtype  \n---  ------            --------------  -----  \n 0   Number            721 non-null    int64  \n 1   Name              721 non-null    object \n 2   Type_1            721 non-null    object \n 3   Type_2            350 non-null    object \n 4   Total             721 non-null    int64  \n 5   HP                721 non-null    int64  \n 6   Attack            721 non-null    int64  \n 7   Defense           721 non-null    int64  \n 8   Sp_Atk            721 non-null    int64  \n 9   Sp_Def            721 non-null    int64  \n 10  Speed             721 non-null    int64  \n 11  Generation        721 non-null    int64  \n 12  isLegendary       721 non-null    bool   \n 13  Color             721 non-null    object \n 14  hasGender         721 non-null    bool   \n 15  Pr_Male           644 non-null    float64\n 16  Egg_Group_1       721 non-null    object \n 17  Egg_Group_2       191 non-null    object \n 18  hasMegaEvolution  721 non-null    bool   \n 19  Height_m          721 non-null    float64\n 20  Weight_kg         721 non-null    float64\n 21  Catch_Rate        721 non-null    int64  \n 22  Body_Style        721 non-null    object \ndtypes: bool(3), float64(3), int64(10), object(7)\nmemory usage: 114.9+ KB\n",
          "output_type": "stream"
        }
      ]
    },
    {
      "cell_type": "markdown",
      "source": "### **Visualize**",
      "metadata": {
        "id": "vcVM_q5shpqd",
        "cell_id": "00015-aba315a8-f114-4750-9534-9d04e19cdaed",
        "deepnote_cell_type": "markdown"
      }
    },
    {
      "cell_type": "markdown",
      "source": "> #### *General*\n\n\n",
      "metadata": {
        "id": "ZkhI6MXLiMwP",
        "cell_id": "00016-1ea6fc12-2376-4394-b38c-79c706501af7",
        "deepnote_cell_type": "markdown"
      }
    },
    {
      "cell_type": "code",
      "metadata": {
        "colab": {
          "base_uri": "https://localhost:8080/"
        },
        "id": "rYxKsE5bhEM-",
        "outputId": "6ba37984-1f66-43cd-f8f0-96178d06eab5",
        "cell_id": "00017-bb6b1749-ed3b-4cb2-befe-e7c7ee64d5ca",
        "deepnote_to_be_reexecuted": false,
        "source_hash": "edf195b6",
        "execution_millis": 45,
        "execution_start": 1615431300567,
        "deepnote_cell_type": "code"
      },
      "source": "X.value_counts()",
      "execution_count": null,
      "outputs": [
        {
          "output_type": "execute_result",
          "execution_count": 255,
          "data": {
            "text/plain": "Number  Name       Type_1    Type_2   Total  HP  Attack  Defense  Sp_Atk  Sp_Def  Speed  Color  Egg_Group_1  Egg_Group_2  Height_m  Weight_kg  Catch_Rate  Body_Style    \n1       Bulbasaur  Grass     Poison   318    45  49      49       65      65      45     Green  Monster      Grass        0.71      6.9        45          quadruped         1\n448     Lucario    Fighting  Steel    525    70  110     70       115     70      90     Blue   Field        Human-Like   1.19      54.0       45          bipedal_tailed    1\n546     Cottonee   Grass     Fairy    280    40  27      60       37      50      66     Green  Grass        Fairy        0.30      0.6        190         head_only         1\n528     Swoobat    Psychic   Flying   425    67  57      55       77      55      114    Blue   Field        Flying       0.89      10.5       45          two_wings         1\n527     Woobat     Psychic   Flying   313    55  45      43       55      43      72     Blue   Field        Flying       0.41      2.1        190         two_wings         1\n                                                                                                                                                                            ..\n230     Kingdra    Water     Dragon   540    75  95      95       95      95      85     Blue   Water_1      Dragon       1.80      152.0      45          head_base         1\n225     Delibird   Ice       Flying   330    45  55      45       65      45      75     Red    Water_1      Field        0.89      16.0       45          two_wings         1\n222     Corsola    Water     Rock     380    55  55      85       65      85      35     Pink   Water_1      Water_3      0.61      5.0        60          insectoid         1\n199     Slowking   Water     Psychic  490    95  75      80       100     110     30     Pink   Monster      Water_1      2.01      79.5       70          bipedal_tailed    1\n709     Trevenant  Ghost     Grass    474    85  110     76       65      82      56     Brown  Grass        Amorphous    1.50      71.0       60          several_limbs     1\nLength: 103, dtype: int64"
          },
          "metadata": {}
        }
      ]
    },
    {
      "cell_type": "markdown",
      "source": "\n\n> #### *Numerical*\n\n",
      "metadata": {
        "id": "3Eb2Q4D-ig9u",
        "cell_id": "00018-822b3aa0-974f-47b5-b324-4b821d71dd6b",
        "deepnote_cell_type": "markdown"
      }
    },
    {
      "cell_type": "code",
      "metadata": {
        "colab": {
          "base_uri": "https://localhost:8080/",
          "height": 283
        },
        "id": "fXlRACD8zhwg",
        "outputId": "05c5a80c-13bb-4527-f562-c3845fdbbc24",
        "cell_id": "00019-965fd23b-1eda-4b7e-9f5c-daa1655e33c4",
        "deepnote_to_be_reexecuted": false,
        "source_hash": "82193fc1",
        "execution_millis": 155,
        "execution_start": 1615431302688,
        "deepnote_cell_type": "code"
      },
      "source": "plt.scatter(numerical_df.HP, numerical_df.Total )",
      "execution_count": null,
      "outputs": [
        {
          "output_type": "execute_result",
          "execution_count": 256,
          "data": {
            "text/plain": "<matplotlib.collections.PathCollection at 0x7f33b79d9f90>"
          },
          "metadata": {}
        },
        {
          "data": {
            "text/plain": "<Figure size 432x288 with 1 Axes>",
            "image/png": "[encoded data removed]"
          },
          "metadata": {
            "needs_background": "light"
          },
          "output_type": "display_data"
        }
      ]
    },
    {
      "cell_type": "code",
      "metadata": {
        "colab": {
          "base_uri": "https://localhost:8080/",
          "height": 283
        },
        "id": "8GEs2rGKzhf4",
        "outputId": "663501cd-bd37-4760-af5a-0ffe2aea3cc6",
        "cell_id": "00021-0bc8b302-df3f-4418-87d0-74c2e312dc55",
        "deepnote_to_be_reexecuted": false,
        "source_hash": "169ec37a",
        "execution_millis": 165,
        "execution_start": 1615425215555,
        "deepnote_cell_type": "code"
      },
      "source": "plt.scatter(numerical_df.Attack, numerical_df.Total )",
      "execution_count": null,
      "outputs": [
        {
          "output_type": "execute_result",
          "execution_count": 119,
          "data": {
            "text/plain": "<matplotlib.collections.PathCollection at 0x7f33b5258e90>"
          },
          "metadata": {}
        },
        {
          "data": {
            "text/plain": "<Figure size 432x288 with 1 Axes>",
            "image/png": "[encoded data removed]"
          },
          "metadata": {
            "needs_background": "light"
          },
          "output_type": "display_data"
        }
      ]
    },
    {
      "cell_type": "code",
      "metadata": {
        "colab": {
          "base_uri": "https://localhost:8080/",
          "height": 283
        },
        "id": "RoeOr1OQzhTO",
        "outputId": "6cbbdef1-86b1-4d33-d0d2-b259ed27d421",
        "cell_id": "00022-b0c191ff-fc64-49d7-9ee6-d34b884cd079",
        "deepnote_to_be_reexecuted": false,
        "source_hash": "64122da6",
        "execution_millis": 146,
        "execution_start": 1615424435541,
        "deepnote_cell_type": "code"
      },
      "source": "plt.scatter(numerical_df.Defense, numerical_df.Total )",
      "execution_count": null,
      "outputs": [
        {
          "output_type": "execute_result",
          "execution_count": 53,
          "data": {
            "text/plain": "<matplotlib.collections.PathCollection at 0x7f339fdd5910>"
          },
          "metadata": {}
        },
        {
          "data": {
            "text/plain": "<Figure size 432x288 with 1 Axes>",
            "image/png": "[encoded data removed]"
          },
          "metadata": {
            "needs_background": "light"
          },
          "output_type": "display_data"
        }
      ]
    },
    {
      "cell_type": "code",
      "metadata": {
        "colab": {
          "base_uri": "https://localhost:8080/",
          "height": 283
        },
        "id": "983DCh-XzhIG",
        "outputId": "ce2a1734-289b-4be8-b0f3-737b474db262",
        "cell_id": "00023-49c0b596-72a7-40f1-990c-a8aa5efa7e13",
        "deepnote_to_be_reexecuted": false,
        "source_hash": "bc09ed67",
        "execution_millis": 126,
        "execution_start": 1615424436882,
        "deepnote_cell_type": "code"
      },
      "source": "plt.scatter(numerical_df.Catch_Rate, numerical_df.Total )",
      "execution_count": null,
      "outputs": [
        {
          "output_type": "execute_result",
          "execution_count": 54,
          "data": {
            "text/plain": "<matplotlib.collections.PathCollection at 0x7f339fdb6950>"
          },
          "metadata": {}
        },
        {
          "data": {
            "text/plain": "<Figure size 432x288 with 1 Axes>",
            "image/png": "[encoded data removed]"
          },
          "metadata": {
            "needs_background": "light"
          },
          "output_type": "display_data"
        }
      ]
    },
    {
      "cell_type": "markdown",
      "source": "\n\n> #### Categorical\n\n",
      "metadata": {
        "id": "e42zdh_WjwL7",
        "cell_id": "00024-3b8ece88-78ca-44a6-9ce4-e52fdc6dcacd",
        "deepnote_cell_type": "markdown"
      }
    },
    {
      "cell_type": "code",
      "metadata": {
        "colab": {
          "base_uri": "https://localhost:8080/",
          "height": 313
        },
        "id": "2jE72VmrhIED",
        "outputId": "689bc3bf-deb2-4fed-9458-7ac1bd4c2d61",
        "cell_id": "00026-1e8cb454-4ed1-404b-b208-231cea489ba0",
        "deepnote_to_be_reexecuted": false,
        "source_hash": "61aa6463",
        "execution_millis": 229,
        "execution_start": 1615424455157,
        "deepnote_cell_type": "code"
      },
      "source": "categorical_df[cols[1]].value_counts().plot(kind='bar')",
      "execution_count": null,
      "outputs": [
        {
          "output_type": "execute_result",
          "execution_count": 56,
          "data": {
            "text/plain": "<AxesSubplot:>"
          },
          "metadata": {}
        },
        {
          "data": {
            "text/plain": "<Figure size 432x288 with 1 Axes>",
            "image/png": "[encoded data removed]"
          },
          "metadata": {
            "needs_background": "light"
          },
          "output_type": "display_data"
        }
      ]
    },
    {
      "cell_type": "code",
      "metadata": {
        "colab": {
          "base_uri": "https://localhost:8080/",
          "height": 307
        },
        "id": "KjB747X_hIMI",
        "outputId": "02cdb8aa-360d-485a-d407-349d8c64ff11",
        "cell_id": "00027-8f6c1a73-5321-4ad7-9099-616f8537b1b0",
        "deepnote_to_be_reexecuted": false,
        "source_hash": "12ade458",
        "execution_millis": 206,
        "execution_start": 1615424455398,
        "deepnote_cell_type": "code"
      },
      "source": "categorical_df[cols[2]].value_counts().plot(kind='bar')",
      "execution_count": null,
      "outputs": [
        {
          "output_type": "execute_result",
          "execution_count": 57,
          "data": {
            "text/plain": "<AxesSubplot:>"
          },
          "metadata": {}
        },
        {
          "data": {
            "text/plain": "<Figure size 432x288 with 1 Axes>",
            "image/png": "[encoded data removed]"
          },
          "metadata": {
            "needs_background": "light"
          },
          "output_type": "display_data"
        }
      ]
    },
    {
      "cell_type": "code",
      "metadata": {
        "colab": {
          "base_uri": "https://localhost:8080/",
          "height": 355
        },
        "id": "CAND69RShEcB",
        "outputId": "d714e672-a450-4f80-9680-787e633cebd6",
        "cell_id": "00028-ac0868a4-c80d-4f42-8bdc-f37f8e3b7bf5",
        "deepnote_to_be_reexecuted": false,
        "source_hash": "a451f1b8",
        "execution_millis": 158,
        "execution_start": 1615424466219,
        "deepnote_cell_type": "code"
      },
      "source": "categorical_df[cols[3]].value_counts().plot(kind='bar')",
      "execution_count": null,
      "outputs": [
        {
          "output_type": "execute_result",
          "execution_count": 58,
          "data": {
            "text/plain": "<AxesSubplot:>"
          },
          "metadata": {}
        },
        {
          "data": {
            "text/plain": "<Figure size 432x288 with 1 Axes>",
            "image/png": "[encoded data removed]"
          },
          "metadata": {
            "needs_background": "light"
          },
          "output_type": "display_data"
        }
      ]
    },
    {
      "cell_type": "markdown",
      "source": "### **Assess Missing Values**",
      "metadata": {
        "id": "tLtKpYqgC7TP",
        "cell_id": "00029-e5573c8e-d988-48e0-a686-23e45718054b",
        "deepnote_cell_type": "markdown"
      }
    },
    {
      "cell_type": "code",
      "metadata": {
        "colab": {
          "base_uri": "https://localhost:8080/"
        },
        "id": "Axr576aYhEnS",
        "outputId": "1823a886-5a7d-4e32-dd8e-e95ef25b4630",
        "cell_id": "00030-858f98a0-536f-4e06-8b16-550eb7de0c34",
        "deepnote_to_be_reexecuted": false,
        "source_hash": "91a7625b",
        "execution_millis": 8,
        "execution_start": 1615425223297,
        "deepnote_cell_type": "code"
      },
      "source": "X.isna().any()",
      "execution_count": null,
      "outputs": [
        {
          "output_type": "execute_result",
          "execution_count": 120,
          "data": {
            "text/plain": "Type_1         False\nType_2          True\nTotal          False\nHP             False\nAttack         False\nDefense        False\nSp_Atk         False\nSp_Def         False\nSpeed          False\nColor          False\nEgg_Group_1    False\nEgg_Group_2     True\nHeight_m       False\nWeight_kg      False\nCatch_Rate     False\nBody_Style     False\ndtype: bool"
          },
          "metadata": {}
        }
      ]
    },
    {
      "cell_type": "code",
      "metadata": {
        "colab": {
          "base_uri": "https://localhost:8080/"
        },
        "id": "vgyh8RG0hEwc",
        "outputId": "4dfc9cb5-cca7-4f6b-daca-7ebe8f087454",
        "cell_id": "00031-115f3fba-0c3e-4c8f-ba25-5d36ca607c45",
        "deepnote_to_be_reexecuted": false,
        "source_hash": "8ebab256",
        "execution_millis": 9,
        "execution_start": 1615425224656,
        "deepnote_cell_type": "code"
      },
      "source": "# Given that the missing values- imputing \"None\" would make the most sense\ncategorical_df.Type_2.isna",
      "execution_count": null,
      "outputs": [
        {
          "output_type": "execute_result",
          "execution_count": 121,
          "data": {
            "text/plain": "<bound method Series.isna of 0      Poison\n1      Poison\n2      Poison\n3         NaN\n4         NaN\n        ...  \n716    Flying\n717    Ground\n718     Fairy\n719     Ghost\n720     Water\nName: Type_2, Length: 721, dtype: object>"
          },
          "metadata": {}
        }
      ]
    },
    {
      "cell_type": "code",
      "metadata": {
        "tags": [],
        "cell_id": "00032-5d20b520-6131-4c84-a0a4-187ae12c076e",
        "deepnote_to_be_reexecuted": false,
        "source_hash": "cf6b0db6",
        "execution_millis": 12,
        "execution_start": 1615425226590,
        "deepnote_cell_type": "code"
      },
      "source": "categorical_df.Egg_Group_2.isna",
      "execution_count": null,
      "outputs": [
        {
          "output_type": "execute_result",
          "execution_count": 122,
          "data": {
            "text/plain": "<bound method Series.isna of 0       Grass\n1       Grass\n2       Grass\n3      Dragon\n4      Dragon\n        ...  \n716       NaN\n717       NaN\n718       NaN\n719       NaN\n720       NaN\nName: Egg_Group_2, Length: 721, dtype: object>"
          },
          "metadata": {}
        }
      ]
    },
    {
      "cell_type": "markdown",
      "source": "## ***Split Data*** \n> ##### 75/25 split\n\n",
      "metadata": {
        "id": "_PRE-_niojOn",
        "cell_id": "00032-dea07c81-6b07-45dc-8820-06593d8dad71",
        "deepnote_cell_type": "markdown"
      }
    },
    {
      "cell_type": "code",
      "metadata": {
        "tags": [],
        "cell_id": "00035-53456d25-d937-411e-b533-32a92960b152",
        "deepnote_to_be_reexecuted": false,
        "source_hash": "b2696ff6",
        "execution_millis": 85,
        "execution_start": 1615537697736,
        "deepnote_cell_type": "code"
      },
      "source": "X",
      "execution_count": 6,
      "outputs": [
        {
          "output_type": "execute_result",
          "execution_count": 6,
          "data": {
            "application/vnd.deepnote.dataframe.v2+json": {
              "row_count": 721,
              "column_count": 22,
              "columns": [
                {
                  "name": "Number",
                  "dtype": "int64",
                  "stats": {
                    "unique_count": 721,
                    "nan_count": 0,
                    "min": 1,
                    "max": 721,
                    "histogram": [
                      {
                        "bin_start": 1,
                        "bin_end": 73,
                        "count": 72
                      },
                      {
                        "bin_start": 73,
                        "bin_end": 145,
                        "count": 72
                      },
                      {
                        "bin_start": 145,
                        "bin_end": 217,
                        "count": 72
                      },
                      {
                        "bin_start": 217,
                        "bin_end": 289,
                        "count": 72
                      },
                      {
                        "bin_start": 289,
                        "bin_end": 361,
                        "count": 72
                      },
                      {
                        "bin_start": 361,
                        "bin_end": 433,
                        "count": 72
                      },
                      {
                        "bin_start": 433,
                        "bin_end": 505,
                        "count": 72
                      },
                      {
                        "bin_start": 505,
                        "bin_end": 577,
                        "count": 72
                      },
                      {
                        "bin_start": 577,
                        "bin_end": 649,
                        "count": 72
                      },
                      {
                        "bin_start": 649,
                        "bin_end": 721,
                        "count": 73
                      }
                    ]
                  }
                },
                {
                  "name": "Name",
                  "dtype": "object",
                  "stats": {
                    "unique_count": 721,
                    "nan_count": 0,
                    "categories": [
                      {
                        "name": "Bulbasaur",
                        "count": 1
                      },
                      {
                        "name": "Ivysaur",
                        "count": 1
                      },
                      {
                        "name": "719 others",
                        "count": 719
                      }
                    ]
                  }
                },
                {
                  "name": "Type_1",
                  "dtype": "object",
                  "stats": {
                    "unique_count": 18,
                    "nan_count": 0,
                    "categories": [
                      {
                        "name": "Water",
                        "count": 105
                      },
                      {
                        "name": "Normal",
                        "count": 93
                      },
                      {
                        "name": "16 others",
                        "count": 523
                      }
                    ]
                  }
                },
                {
                  "name": "Type_2",
                  "dtype": "object",
                  "stats": {
                    "unique_count": 18,
                    "nan_count": 371,
                    "categories": [
                      {
                        "name": "Flying",
                        "count": 87
                      },
                      {
                        "name": "17 others",
                        "count": 263
                      },
                      {
                        "name": "Missing",
                        "count": 371
                      }
                    ]
                  }
                },
                {
                  "name": "Total",
                  "dtype": "int64",
                  "stats": {
                    "unique_count": 183,
                    "nan_count": 0,
                    "min": 180,
                    "max": 720,
                    "histogram": [
                      {
                        "bin_start": 180,
                        "bin_end": 234,
                        "count": 26
                      },
                      {
                        "bin_start": 234,
                        "bin_end": 288,
                        "count": 53
                      },
                      {
                        "bin_start": 288,
                        "bin_end": 342,
                        "count": 151
                      },
                      {
                        "bin_start": 342,
                        "bin_end": 396,
                        "count": 69
                      },
                      {
                        "bin_start": 396,
                        "bin_end": 450,
                        "count": 93
                      },
                      {
                        "bin_start": 450,
                        "bin_end": 504,
                        "count": 172
                      },
                      {
                        "bin_start": 504,
                        "bin_end": 558,
                        "count": 95
                      },
                      {
                        "bin_start": 558,
                        "bin_end": 612,
                        "count": 45
                      },
                      {
                        "bin_start": 612,
                        "bin_end": 666,
                        "count": 1
                      },
                      {
                        "bin_start": 666,
                        "bin_end": 720,
                        "count": 16
                      }
                    ]
                  }
                },
                {
                  "name": "HP",
                  "dtype": "int64",
                  "stats": {
                    "unique_count": 94,
                    "nan_count": 0,
                    "min": 1,
                    "max": 255,
                    "histogram": [
                      {
                        "bin_start": 1,
                        "bin_end": 26.4,
                        "count": 10
                      },
                      {
                        "bin_start": 26.4,
                        "bin_end": 51.8,
                        "count": 190
                      },
                      {
                        "bin_start": 51.8,
                        "bin_end": 77.19999999999999,
                        "count": 308
                      },
                      {
                        "bin_start": 77.19999999999999,
                        "bin_end": 102.6,
                        "count": 157
                      },
                      {
                        "bin_start": 102.6,
                        "bin_end": 128,
                        "count": 41
                      },
                      {
                        "bin_start": 128,
                        "bin_end": 153.39999999999998,
                        "count": 9
                      },
                      {
                        "bin_start": 153.39999999999998,
                        "bin_end": 178.79999999999998,
                        "count": 3
                      },
                      {
                        "bin_start": 178.79999999999998,
                        "bin_end": 204.2,
                        "count": 1
                      },
                      {
                        "bin_start": 204.2,
                        "bin_end": 229.6,
                        "count": 0
                      },
                      {
                        "bin_start": 229.6,
                        "bin_end": 255,
                        "count": 2
                      }
                    ]
                  }
                },
                {
                  "name": "Attack",
                  "dtype": "int64",
                  "stats": {
                    "unique_count": 100,
                    "nan_count": 0,
                    "min": 5,
                    "max": 165,
                    "histogram": [
                      {
                        "bin_start": 5,
                        "bin_end": 21,
                        "count": 14
                      },
                      {
                        "bin_start": 21,
                        "bin_end": 37,
                        "count": 46
                      },
                      {
                        "bin_start": 37,
                        "bin_end": 53,
                        "count": 116
                      },
                      {
                        "bin_start": 53,
                        "bin_end": 69,
                        "count": 139
                      },
                      {
                        "bin_start": 69,
                        "bin_end": 85,
                        "count": 142
                      },
                      {
                        "bin_start": 85,
                        "bin_end": 101,
                        "count": 140
                      },
                      {
                        "bin_start": 101,
                        "bin_end": 117,
                        "count": 51
                      },
                      {
                        "bin_start": 117,
                        "bin_end": 133,
                        "count": 54
                      },
                      {
                        "bin_start": 133,
                        "bin_end": 149,
                        "count": 12
                      },
                      {
                        "bin_start": 149,
                        "bin_end": 165,
                        "count": 7
                      }
                    ]
                  }
                },
                {
                  "name": "Defense",
                  "dtype": "int64",
                  "stats": {
                    "unique_count": 97,
                    "nan_count": 0,
                    "min": 5,
                    "max": 230,
                    "histogram": [
                      {
                        "bin_start": 5,
                        "bin_end": 27.5,
                        "count": 13
                      },
                      {
                        "bin_start": 27.5,
                        "bin_end": 50,
                        "count": 148
                      },
                      {
                        "bin_start": 50,
                        "bin_end": 72.5,
                        "count": 272
                      },
                      {
                        "bin_start": 72.5,
                        "bin_end": 95,
                        "count": 148
                      },
                      {
                        "bin_start": 95,
                        "bin_end": 117.5,
                        "count": 87
                      },
                      {
                        "bin_start": 117.5,
                        "bin_end": 140,
                        "count": 33
                      },
                      {
                        "bin_start": 140,
                        "bin_end": 162.5,
                        "count": 13
                      },
                      {
                        "bin_start": 162.5,
                        "bin_end": 185,
                        "count": 4
                      },
                      {
                        "bin_start": 185,
                        "bin_end": 207.5,
                        "count": 2
                      },
                      {
                        "bin_start": 207.5,
                        "bin_end": 230,
                        "count": 1
                      }
                    ]
                  }
                },
                {
                  "name": "Sp_Atk",
                  "dtype": "int64",
                  "stats": {
                    "unique_count": 94,
                    "nan_count": 0,
                    "min": 10,
                    "max": 154,
                    "histogram": [
                      {
                        "bin_start": 10,
                        "bin_end": 24.4,
                        "count": 17
                      },
                      {
                        "bin_start": 24.4,
                        "bin_end": 38.8,
                        "count": 77
                      },
                      {
                        "bin_start": 38.8,
                        "bin_end": 53.2,
                        "count": 145
                      },
                      {
                        "bin_start": 53.2,
                        "bin_end": 67.6,
                        "count": 157
                      },
                      {
                        "bin_start": 67.6,
                        "bin_end": 82,
                        "count": 104
                      },
                      {
                        "bin_start": 82,
                        "bin_end": 96.4,
                        "count": 89
                      },
                      {
                        "bin_start": 96.4,
                        "bin_end": 110.8,
                        "count": 71
                      },
                      {
                        "bin_start": 110.8,
                        "bin_end": 125.2,
                        "count": 36
                      },
                      {
                        "bin_start": 125.2,
                        "bin_end": 139.6,
                        "count": 16
                      },
                      {
                        "bin_start": 139.6,
                        "bin_end": 154,
                        "count": 9
                      }
                    ]
                  }
                },
                {
                  "name": "Sp_Def",
                  "dtype": "int64",
                  "stats": {
                    "unique_count": 90,
                    "nan_count": 0,
                    "min": 20,
                    "max": 230,
                    "histogram": [
                      {
                        "bin_start": 20,
                        "bin_end": 41,
                        "count": 96
                      },
                      {
                        "bin_start": 41,
                        "bin_end": 62,
                        "count": 225
                      },
                      {
                        "bin_start": 62,
                        "bin_end": 83,
                        "count": 206
                      },
                      {
                        "bin_start": 83,
                        "bin_end": 104,
                        "count": 122
                      },
                      {
                        "bin_start": 104,
                        "bin_end": 125,
                        "count": 44
                      },
                      {
                        "bin_start": 125,
                        "bin_end": 146,
                        "count": 17
                      },
                      {
                        "bin_start": 146,
                        "bin_end": 167,
                        "count": 9
                      },
                      {
                        "bin_start": 167,
                        "bin_end": 188,
                        "count": 0
                      },
                      {
                        "bin_start": 188,
                        "bin_end": 209,
                        "count": 1
                      },
                      {
                        "bin_start": 209,
                        "bin_end": 230,
                        "count": 1
                      }
                    ]
                  }
                },
                {
                  "name": "Speed",
                  "dtype": "int64",
                  "stats": {
                    "unique_count": 101,
                    "nan_count": 0,
                    "min": 5,
                    "max": 160,
                    "histogram": [
                      {
                        "bin_start": 5,
                        "bin_end": 20.5,
                        "count": 27
                      },
                      {
                        "bin_start": 20.5,
                        "bin_end": 36,
                        "count": 86
                      },
                      {
                        "bin_start": 36,
                        "bin_end": 51.5,
                        "count": 140
                      },
                      {
                        "bin_start": 51.5,
                        "bin_end": 67,
                        "count": 144
                      },
                      {
                        "bin_start": 67,
                        "bin_end": 82.5,
                        "count": 117
                      },
                      {
                        "bin_start": 82.5,
                        "bin_end": 98,
                        "count": 101
                      },
                      {
                        "bin_start": 98,
                        "bin_end": 113.5,
                        "count": 76
                      },
                      {
                        "bin_start": 113.5,
                        "bin_end": 129,
                        "count": 22
                      },
                      {
                        "bin_start": 129,
                        "bin_end": 144.5,
                        "count": 5
                      },
                      {
                        "bin_start": 144.5,
                        "bin_end": 160,
                        "count": 3
                      }
                    ]
                  }
                },
                {
                  "name": "isLegendary",
                  "dtype": "bool",
                  "stats": {
                    "unique_count": 2,
                    "nan_count": 0,
                    "categories": [
                      {
                        "name": "False",
                        "count": 675
                      },
                      {
                        "name": "True",
                        "count": 46
                      }
                    ]
                  }
                },
                {
                  "name": "Color",
                  "dtype": "object",
                  "stats": {
                    "unique_count": 10,
                    "nan_count": 0,
                    "categories": [
                      {
                        "name": "Blue",
                        "count": 134
                      },
                      {
                        "name": "Brown",
                        "count": 110
                      },
                      {
                        "name": "8 others",
                        "count": 477
                      }
                    ]
                  }
                },
                {
                  "name": "hasGender",
                  "dtype": "bool",
                  "stats": {
                    "unique_count": 2,
                    "nan_count": 0,
                    "categories": [
                      {
                        "name": "True",
                        "count": 644
                      },
                      {
                        "name": "False",
                        "count": 77
                      }
                    ]
                  }
                },
                {
                  "name": "Pr_Male",
                  "dtype": "float64",
                  "stats": {
                    "unique_count": 7,
                    "nan_count": 77,
                    "min": 0,
                    "max": 1,
                    "histogram": [
                      {
                        "bin_start": 0,
                        "bin_end": 0.1,
                        "count": 23
                      },
                      {
                        "bin_start": 0.1,
                        "bin_end": 0.2,
                        "count": 2
                      },
                      {
                        "bin_start": 0.2,
                        "bin_end": 0.30000000000000004,
                        "count": 22
                      },
                      {
                        "bin_start": 0.30000000000000004,
                        "bin_end": 0.4,
                        "count": 0
                      },
                      {
                        "bin_start": 0.4,
                        "bin_end": 0.5,
                        "count": 0
                      },
                      {
                        "bin_start": 0.5,
                        "bin_end": 0.6000000000000001,
                        "count": 458
                      },
                      {
                        "bin_start": 0.6000000000000001,
                        "bin_end": 0.7000000000000001,
                        "count": 0
                      },
                      {
                        "bin_start": 0.7000000000000001,
                        "bin_end": 0.8,
                        "count": 19
                      },
                      {
                        "bin_start": 0.8,
                        "bin_end": 0.9,
                        "count": 101
                      },
                      {
                        "bin_start": 0.9,
                        "bin_end": 1,
                        "count": 19
                      }
                    ]
                  }
                },
                {
                  "name": "Egg_Group_1",
                  "dtype": "object",
                  "stats": {
                    "unique_count": 15,
                    "nan_count": 0,
                    "categories": [
                      {
                        "name": "Field",
                        "count": 169
                      },
                      {
                        "name": "Monster",
                        "count": 74
                      },
                      {
                        "name": "13 others",
                        "count": 478
                      }
                    ]
                  }
                },
                {
                  "name": "Egg_Group_2",
                  "dtype": "object",
                  "stats": {
                    "unique_count": 13,
                    "nan_count": 530,
                    "categories": [
                      {
                        "name": "Dragon",
                        "count": 35
                      },
                      {
                        "name": "12 others",
                        "count": 156
                      },
                      {
                        "name": "Missing",
                        "count": 530
                      }
                    ]
                  }
                },
                {
                  "name": "hasMegaEvolution",
                  "dtype": "bool",
                  "stats": {
                    "unique_count": 2,
                    "nan_count": 0,
                    "categories": [
                      {
                        "name": "False",
                        "count": 675
                      },
                      {
                        "name": "True",
                        "count": 46
                      }
                    ]
                  }
                },
                {
                  "name": "Height_m",
                  "dtype": "float64",
                  "stats": {
                    "unique_count": 50,
                    "nan_count": 0,
                    "min": 0.1,
                    "max": 14.5,
                    "histogram": [
                      {
                        "bin_start": 0.1,
                        "bin_end": 1.54,
                        "count": 582
                      },
                      {
                        "bin_start": 1.54,
                        "bin_end": 2.98,
                        "count": 116
                      },
                      {
                        "bin_start": 2.98,
                        "bin_end": 4.42,
                        "count": 11
                      },
                      {
                        "bin_start": 4.42,
                        "bin_end": 5.859999999999999,
                        "count": 5
                      },
                      {
                        "bin_start": 5.859999999999999,
                        "bin_end": 7.299999999999999,
                        "count": 4
                      },
                      {
                        "bin_start": 7.299999999999999,
                        "bin_end": 8.74,
                        "count": 0
                      },
                      {
                        "bin_start": 8.74,
                        "bin_end": 10.18,
                        "count": 2
                      },
                      {
                        "bin_start": 10.18,
                        "bin_end": 11.62,
                        "count": 0
                      },
                      {
                        "bin_start": 11.62,
                        "bin_end": 13.059999999999999,
                        "count": 0
                      },
                      {
                        "bin_start": 13.059999999999999,
                        "bin_end": 14.5,
                        "count": 1
                      }
                    ]
                  }
                },
                {
                  "name": "Weight_kg",
                  "dtype": "float64",
                  "stats": {
                    "unique_count": 398,
                    "nan_count": 0,
                    "min": 0.1,
                    "max": 950,
                    "histogram": [
                      {
                        "bin_start": 0.1,
                        "bin_end": 95.08999999999999,
                        "count": 609
                      },
                      {
                        "bin_start": 95.08999999999999,
                        "bin_end": 190.07999999999998,
                        "count": 59
                      },
                      {
                        "bin_start": 190.07999999999998,
                        "bin_end": 285.07,
                        "count": 29
                      },
                      {
                        "bin_start": 285.07,
                        "bin_end": 380.06,
                        "count": 14
                      },
                      {
                        "bin_start": 380.06,
                        "bin_end": 475.05,
                        "count": 5
                      },
                      {
                        "bin_start": 475.05,
                        "bin_end": 570.04,
                        "count": 2
                      },
                      {
                        "bin_start": 570.04,
                        "bin_end": 665.03,
                        "count": 1
                      },
                      {
                        "bin_start": 665.03,
                        "bin_end": 760.02,
                        "count": 1
                      },
                      {
                        "bin_start": 760.02,
                        "bin_end": 855.01,
                        "count": 0
                      },
                      {
                        "bin_start": 855.01,
                        "bin_end": 950,
                        "count": 1
                      }
                    ]
                  }
                },
                {
                  "name": "Catch_Rate",
                  "dtype": "int64",
                  "stats": {
                    "unique_count": 33,
                    "nan_count": 0,
                    "min": 3,
                    "max": 255,
                    "histogram": [
                      {
                        "bin_start": 3,
                        "bin_end": 28.2,
                        "count": 61
                      },
                      {
                        "bin_start": 28.2,
                        "bin_end": 53.4,
                        "count": 250
                      },
                      {
                        "bin_start": 53.4,
                        "bin_end": 78.6,
                        "count": 108
                      },
                      {
                        "bin_start": 78.6,
                        "bin_end": 103.8,
                        "count": 42
                      },
                      {
                        "bin_start": 103.8,
                        "bin_end": 129,
                        "count": 58
                      },
                      {
                        "bin_start": 129,
                        "bin_end": 154.2,
                        "count": 14
                      },
                      {
                        "bin_start": 154.2,
                        "bin_end": 179.4,
                        "count": 4
                      },
                      {
                        "bin_start": 179.4,
                        "bin_end": 204.6,
                        "count": 97
                      },
                      {
                        "bin_start": 204.6,
                        "bin_end": 229.79999999999998,
                        "count": 17
                      },
                      {
                        "bin_start": 229.79999999999998,
                        "bin_end": 255,
                        "count": 70
                      }
                    ]
                  }
                },
                {
                  "name": "Body_Style",
                  "dtype": "object",
                  "stats": {
                    "unique_count": 14,
                    "nan_count": 0,
                    "categories": [
                      {
                        "name": "bipedal_tailed",
                        "count": 158
                      },
                      {
                        "name": "quadruped",
                        "count": 135
                      },
                      {
                        "name": "12 others",
                        "count": 428
                      }
                    ]
                  }
                },
                {
                  "name": "_deepnote_index_column",
                  "dtype": "int64"
                }
              ],
              "rows_top": [
                {
                  "Number": 1,
                  "Name": "Bulbasaur",
                  "Type_1": "Grass",
                  "Type_2": "Poison",
                  "Total": 318,
                  "HP": 45,
                  "Attack": 49,
                  "Defense": 49,
                  "Sp_Atk": 65,
                  "Sp_Def": 65,
                  "Speed": 45,
                  "isLegendary": false,
                  "Color": "Green",
                  "hasGender": true,
                  "Pr_Male": 0.875,
                  "Egg_Group_1": "Monster",
                  "Egg_Group_2": "Grass",
                  "hasMegaEvolution": false,
                  "Height_m": 0.71,
                  "Weight_kg": 6.9,
                  "Catch_Rate": 45,
                  "Body_Style": "quadruped",
                  "_deepnote_index_column": 0
                },
                {
                  "Number": 2,
                  "Name": "Ivysaur",
                  "Type_1": "Grass",
                  "Type_2": "Poison",
                  "Total": 405,
                  "HP": 60,
                  "Attack": 62,
                  "Defense": 63,
                  "Sp_Atk": 80,
                  "Sp_Def": 80,
                  "Speed": 60,
                  "isLegendary": false,
                  "Color": "Green",
                  "hasGender": true,
                  "Pr_Male": 0.875,
                  "Egg_Group_1": "Monster",
                  "Egg_Group_2": "Grass",
                  "hasMegaEvolution": false,
                  "Height_m": 0.99,
                  "Weight_kg": 13,
                  "Catch_Rate": 45,
                  "Body_Style": "quadruped",
                  "_deepnote_index_column": 1
                },
                {
                  "Number": 3,
                  "Name": "Venusaur",
                  "Type_1": "Grass",
                  "Type_2": "Poison",
                  "Total": 525,
                  "HP": 80,
                  "Attack": 82,
                  "Defense": 83,
                  "Sp_Atk": 100,
                  "Sp_Def": 100,
                  "Speed": 80,
                  "isLegendary": false,
                  "Color": "Green",
                  "hasGender": true,
                  "Pr_Male": 0.875,
                  "Egg_Group_1": "Monster",
                  "Egg_Group_2": "Grass",
                  "hasMegaEvolution": true,
                  "Height_m": 2.01,
                  "Weight_kg": 100,
                  "Catch_Rate": 45,
                  "Body_Style": "quadruped",
                  "_deepnote_index_column": 2
                },
                {
                  "Number": 4,
                  "Name": "Charmander",
                  "Type_1": "Fire",
                  "Type_2": "nan",
                  "Total": 309,
                  "HP": 39,
                  "Attack": 52,
                  "Defense": 43,
                  "Sp_Atk": 60,
                  "Sp_Def": 50,
                  "Speed": 65,
                  "isLegendary": false,
                  "Color": "Red",
                  "hasGender": true,
                  "Pr_Male": 0.875,
                  "Egg_Group_1": "Monster",
                  "Egg_Group_2": "Dragon",
                  "hasMegaEvolution": false,
                  "Height_m": 0.61,
                  "Weight_kg": 8.5,
                  "Catch_Rate": 45,
                  "Body_Style": "bipedal_tailed",
                  "_deepnote_index_column": 3
                },
                {
                  "Number": 5,
                  "Name": "Charmeleon",
                  "Type_1": "Fire",
                  "Type_2": "nan",
                  "Total": 405,
                  "HP": 58,
                  "Attack": 64,
                  "Defense": 58,
                  "Sp_Atk": 80,
                  "Sp_Def": 65,
                  "Speed": 80,
                  "isLegendary": false,
                  "Color": "Red",
                  "hasGender": true,
                  "Pr_Male": 0.875,
                  "Egg_Group_1": "Monster",
                  "Egg_Group_2": "Dragon",
                  "hasMegaEvolution": false,
                  "Height_m": 1.09,
                  "Weight_kg": 19,
                  "Catch_Rate": 45,
                  "Body_Style": "bipedal_tailed",
                  "_deepnote_index_column": 4
                },
                {
                  "Number": 6,
                  "Name": "Charizard",
                  "Type_1": "Fire",
                  "Type_2": "Flying",
                  "Total": 534,
                  "HP": 78,
                  "Attack": 84,
                  "Defense": 78,
                  "Sp_Atk": 109,
                  "Sp_Def": 85,
                  "Speed": 100,
                  "isLegendary": false,
                  "Color": "Red",
                  "hasGender": true,
                  "Pr_Male": 0.875,
                  "Egg_Group_1": "Monster",
                  "Egg_Group_2": "Dragon",
                  "hasMegaEvolution": true,
                  "Height_m": 1.7,
                  "Weight_kg": 90.5,
                  "Catch_Rate": 45,
                  "Body_Style": "bipedal_tailed",
                  "_deepnote_index_column": 5
                },
                {
                  "Number": 7,
                  "Name": "Squirtle",
                  "Type_1": "Water",
                  "Type_2": "nan",
                  "Total": 314,
                  "HP": 44,
                  "Attack": 48,
                  "Defense": 65,
                  "Sp_Atk": 50,
                  "Sp_Def": 64,
                  "Speed": 43,
                  "isLegendary": false,
                  "Color": "Blue",
                  "hasGender": true,
                  "Pr_Male": 0.875,
                  "Egg_Group_1": "Monster",
                  "Egg_Group_2": "Water_1",
                  "hasMegaEvolution": false,
                  "Height_m": 0.51,
                  "Weight_kg": 9,
                  "Catch_Rate": 45,
                  "Body_Style": "bipedal_tailed",
                  "_deepnote_index_column": 6
                },
                {
                  "Number": 8,
                  "Name": "Wartortle",
                  "Type_1": "Water",
                  "Type_2": "nan",
                  "Total": 405,
                  "HP": 59,
                  "Attack": 63,
                  "Defense": 80,
                  "Sp_Atk": 65,
                  "Sp_Def": 80,
                  "Speed": 58,
                  "isLegendary": false,
                  "Color": "Blue",
                  "hasGender": true,
                  "Pr_Male": 0.875,
                  "Egg_Group_1": "Monster",
                  "Egg_Group_2": "Water_1",
                  "hasMegaEvolution": false,
                  "Height_m": 0.99,
                  "Weight_kg": 22.5,
                  "Catch_Rate": 45,
                  "Body_Style": "bipedal_tailed",
                  "_deepnote_index_column": 7
                },
                {
                  "Number": 9,
                  "Name": "Blastoise",
                  "Type_1": "Water",
                  "Type_2": "nan",
                  "Total": 530,
                  "HP": 79,
                  "Attack": 83,
                  "Defense": 100,
                  "Sp_Atk": 85,
                  "Sp_Def": 105,
                  "Speed": 78,
                  "isLegendary": false,
                  "Color": "Blue",
                  "hasGender": true,
                  "Pr_Male": 0.875,
                  "Egg_Group_1": "Monster",
                  "Egg_Group_2": "Water_1",
                  "hasMegaEvolution": true,
                  "Height_m": 1.6,
                  "Weight_kg": 85.5,
                  "Catch_Rate": 45,
                  "Body_Style": "bipedal_tailed",
                  "_deepnote_index_column": 8
                },
                {
                  "Number": 10,
                  "Name": "Caterpie",
                  "Type_1": "Bug",
                  "Type_2": "nan",
                  "Total": 195,
                  "HP": 45,
                  "Attack": 30,
                  "Defense": 35,
                  "Sp_Atk": 20,
                  "Sp_Def": 20,
                  "Speed": 45,
                  "isLegendary": false,
                  "Color": "Green",
                  "hasGender": true,
                  "Pr_Male": 0.5,
                  "Egg_Group_1": "Bug",
                  "Egg_Group_2": "nan",
                  "hasMegaEvolution": false,
                  "Height_m": 0.3,
                  "Weight_kg": 2.9,
                  "Catch_Rate": 255,
                  "Body_Style": "insectoid",
                  "_deepnote_index_column": 9
                },
                {
                  "Number": 11,
                  "Name": "Metapod",
                  "Type_1": "Bug",
                  "Type_2": "nan",
                  "Total": 205,
                  "HP": 50,
                  "Attack": 20,
                  "Defense": 55,
                  "Sp_Atk": 25,
                  "Sp_Def": 25,
                  "Speed": 30,
                  "isLegendary": false,
                  "Color": "Green",
                  "hasGender": true,
                  "Pr_Male": 0.5,
                  "Egg_Group_1": "Bug",
                  "Egg_Group_2": "nan",
                  "hasMegaEvolution": false,
                  "Height_m": 0.71,
                  "Weight_kg": 9.9,
                  "Catch_Rate": 120,
                  "Body_Style": "serpentine_body",
                  "_deepnote_index_column": 10
                },
                {
                  "Number": 12,
                  "Name": "Butterfree",
                  "Type_1": "Bug",
                  "Type_2": "Flying",
                  "Total": 395,
                  "HP": 60,
                  "Attack": 45,
                  "Defense": 50,
                  "Sp_Atk": 90,
                  "Sp_Def": 80,
                  "Speed": 70,
                  "isLegendary": false,
                  "Color": "White",
                  "hasGender": true,
                  "Pr_Male": 0.5,
                  "Egg_Group_1": "Bug",
                  "Egg_Group_2": "nan",
                  "hasMegaEvolution": false,
                  "Height_m": 1.09,
                  "Weight_kg": 32,
                  "Catch_Rate": 45,
                  "Body_Style": "four_wings",
                  "_deepnote_index_column": 11
                },
                {
                  "Number": 13,
                  "Name": "Weedle",
                  "Type_1": "Bug",
                  "Type_2": "Poison",
                  "Total": 195,
                  "HP": 40,
                  "Attack": 35,
                  "Defense": 30,
                  "Sp_Atk": 20,
                  "Sp_Def": 20,
                  "Speed": 50,
                  "isLegendary": false,
                  "Color": "Brown",
                  "hasGender": true,
                  "Pr_Male": 0.5,
                  "Egg_Group_1": "Bug",
                  "Egg_Group_2": "nan",
                  "hasMegaEvolution": false,
                  "Height_m": 0.3,
                  "Weight_kg": 3.2,
                  "Catch_Rate": 255,
                  "Body_Style": "serpentine_body",
                  "_deepnote_index_column": 12
                },
                {
                  "Number": 14,
                  "Name": "Kakuna",
                  "Type_1": "Bug",
                  "Type_2": "Poison",
                  "Total": 205,
                  "HP": 45,
                  "Attack": 25,
                  "Defense": 50,
                  "Sp_Atk": 25,
                  "Sp_Def": 25,
                  "Speed": 35,
                  "isLegendary": false,
                  "Color": "Yellow",
                  "hasGender": true,
                  "Pr_Male": 0.5,
                  "Egg_Group_1": "Bug",
                  "Egg_Group_2": "nan",
                  "hasMegaEvolution": false,
                  "Height_m": 0.61,
                  "Weight_kg": 10,
                  "Catch_Rate": 120,
                  "Body_Style": "serpentine_body",
                  "_deepnote_index_column": 13
                },
                {
                  "Number": 15,
                  "Name": "Beedrill",
                  "Type_1": "Bug",
                  "Type_2": "Poison",
                  "Total": 395,
                  "HP": 65,
                  "Attack": 90,
                  "Defense": 40,
                  "Sp_Atk": 45,
                  "Sp_Def": 80,
                  "Speed": 75,
                  "isLegendary": false,
                  "Color": "Yellow",
                  "hasGender": true,
                  "Pr_Male": 0.5,
                  "Egg_Group_1": "Bug",
                  "Egg_Group_2": "nan",
                  "hasMegaEvolution": true,
                  "Height_m": 0.99,
                  "Weight_kg": 29.5,
                  "Catch_Rate": 45,
                  "Body_Style": "four_wings",
                  "_deepnote_index_column": 14
                },
                {
                  "Number": 16,
                  "Name": "Pidgey",
                  "Type_1": "Normal",
                  "Type_2": "Flying",
                  "Total": 251,
                  "HP": 40,
                  "Attack": 45,
                  "Defense": 40,
                  "Sp_Atk": 35,
                  "Sp_Def": 35,
                  "Speed": 56,
                  "isLegendary": false,
                  "Color": "Brown",
                  "hasGender": true,
                  "Pr_Male": 0.5,
                  "Egg_Group_1": "Flying",
                  "Egg_Group_2": "nan",
                  "hasMegaEvolution": false,
                  "Height_m": 0.3,
                  "Weight_kg": 1.8,
                  "Catch_Rate": 255,
                  "Body_Style": "two_wings",
                  "_deepnote_index_column": 15
                },
                {
                  "Number": 17,
                  "Name": "Pidgeotto",
                  "Type_1": "Normal",
                  "Type_2": "Flying",
                  "Total": 349,
                  "HP": 63,
                  "Attack": 60,
                  "Defense": 55,
                  "Sp_Atk": 50,
                  "Sp_Def": 50,
                  "Speed": 71,
                  "isLegendary": false,
                  "Color": "Brown",
                  "hasGender": true,
                  "Pr_Male": 0.5,
                  "Egg_Group_1": "Flying",
                  "Egg_Group_2": "nan",
                  "hasMegaEvolution": false,
                  "Height_m": 1.09,
                  "Weight_kg": 30,
                  "Catch_Rate": 120,
                  "Body_Style": "two_wings",
                  "_deepnote_index_column": 16
                },
                {
                  "Number": 18,
                  "Name": "Pidgeot",
                  "Type_1": "Normal",
                  "Type_2": "Flying",
                  "Total": 479,
                  "HP": 83,
                  "Attack": 80,
                  "Defense": 75,
                  "Sp_Atk": 70,
                  "Sp_Def": 70,
                  "Speed": 101,
                  "isLegendary": false,
                  "Color": "Brown",
                  "hasGender": true,
                  "Pr_Male": 0.5,
                  "Egg_Group_1": "Flying",
                  "Egg_Group_2": "nan",
                  "hasMegaEvolution": true,
                  "Height_m": 1.5,
                  "Weight_kg": 39.5,
                  "Catch_Rate": 45,
                  "Body_Style": "two_wings",
                  "_deepnote_index_column": 17
                },
                {
                  "Number": 19,
                  "Name": "Rattata",
                  "Type_1": "Normal",
                  "Type_2": "nan",
                  "Total": 253,
                  "HP": 30,
                  "Attack": 56,
                  "Defense": 35,
                  "Sp_Atk": 25,
                  "Sp_Def": 35,
                  "Speed": 72,
                  "isLegendary": false,
                  "Color": "Purple",
                  "hasGender": true,
                  "Pr_Male": 0.5,
                  "Egg_Group_1": "Field",
                  "Egg_Group_2": "nan",
                  "hasMegaEvolution": false,
                  "Height_m": 0.3,
                  "Weight_kg": 3.5,
                  "Catch_Rate": 255,
                  "Body_Style": "quadruped",
                  "_deepnote_index_column": 18
                },
                {
                  "Number": 20,
                  "Name": "Raticate",
                  "Type_1": "Normal",
                  "Type_2": "nan",
                  "Total": 413,
                  "HP": 55,
                  "Attack": 81,
                  "Defense": 60,
                  "Sp_Atk": 50,
                  "Sp_Def": 70,
                  "Speed": 97,
                  "isLegendary": false,
                  "Color": "Brown",
                  "hasGender": true,
                  "Pr_Male": 0.5,
                  "Egg_Group_1": "Field",
                  "Egg_Group_2": "nan",
                  "hasMegaEvolution": false,
                  "Height_m": 0.71,
                  "Weight_kg": 18.5,
                  "Catch_Rate": 127,
                  "Body_Style": "quadruped",
                  "_deepnote_index_column": 19
                },
                {
                  "Number": 21,
                  "Name": "Spearow",
                  "Type_1": "Normal",
                  "Type_2": "Flying",
                  "Total": 262,
                  "HP": 40,
                  "Attack": 60,
                  "Defense": 30,
                  "Sp_Atk": 31,
                  "Sp_Def": 31,
                  "Speed": 70,
                  "isLegendary": false,
                  "Color": "Brown",
                  "hasGender": true,
                  "Pr_Male": 0.5,
                  "Egg_Group_1": "Flying",
                  "Egg_Group_2": "nan",
                  "hasMegaEvolution": false,
                  "Height_m": 0.3,
                  "Weight_kg": 2,
                  "Catch_Rate": 255,
                  "Body_Style": "two_wings",
                  "_deepnote_index_column": 20
                },
                {
                  "Number": 22,
                  "Name": "Fearow",
                  "Type_1": "Normal",
                  "Type_2": "Flying",
                  "Total": 442,
                  "HP": 65,
                  "Attack": 90,
                  "Defense": 65,
                  "Sp_Atk": 61,
                  "Sp_Def": 61,
                  "Speed": 100,
                  "isLegendary": false,
                  "Color": "Brown",
                  "hasGender": true,
                  "Pr_Male": 0.5,
                  "Egg_Group_1": "Flying",
                  "Egg_Group_2": "nan",
                  "hasMegaEvolution": false,
                  "Height_m": 1.19,
                  "Weight_kg": 38,
                  "Catch_Rate": 90,
                  "Body_Style": "two_wings",
                  "_deepnote_index_column": 21
                }
              ],
              "rows_bottom": [
                {
                  "Number": 699,
                  "Name": "Aurorus",
                  "Type_1": "Rock",
                  "Type_2": "Ice",
                  "Total": 521,
                  "HP": 123,
                  "Attack": 77,
                  "Defense": 72,
                  "Sp_Atk": 99,
                  "Sp_Def": 92,
                  "Speed": 58,
                  "isLegendary": false,
                  "Color": "Blue",
                  "hasGender": true,
                  "Pr_Male": "0.875",
                  "Egg_Group_1": "Monster",
                  "Egg_Group_2": "nan",
                  "hasMegaEvolution": false,
                  "Height_m": 2.69,
                  "Weight_kg": 225,
                  "Catch_Rate": 45,
                  "Body_Style": "quadruped",
                  "_deepnote_index_column": 698
                },
                {
                  "Number": 700,
                  "Name": "Sylveon",
                  "Type_1": "Fairy",
                  "Type_2": "nan",
                  "Total": 525,
                  "HP": 95,
                  "Attack": 65,
                  "Defense": 65,
                  "Sp_Atk": 110,
                  "Sp_Def": 130,
                  "Speed": 60,
                  "isLegendary": false,
                  "Color": "Pink",
                  "hasGender": true,
                  "Pr_Male": "0.875",
                  "Egg_Group_1": "Field",
                  "Egg_Group_2": "nan",
                  "hasMegaEvolution": false,
                  "Height_m": 0.99,
                  "Weight_kg": 23.5,
                  "Catch_Rate": 45,
                  "Body_Style": "quadruped",
                  "_deepnote_index_column": 699
                },
                {
                  "Number": 701,
                  "Name": "Hawlucha",
                  "Type_1": "Fighting",
                  "Type_2": "Flying",
                  "Total": 500,
                  "HP": 78,
                  "Attack": 92,
                  "Defense": 75,
                  "Sp_Atk": 74,
                  "Sp_Def": 63,
                  "Speed": 118,
                  "isLegendary": false,
                  "Color": "Green",
                  "hasGender": true,
                  "Pr_Male": "0.5",
                  "Egg_Group_1": "Human-Like",
                  "Egg_Group_2": "nan",
                  "hasMegaEvolution": false,
                  "Height_m": 0.79,
                  "Weight_kg": 21.5,
                  "Catch_Rate": 100,
                  "Body_Style": "bipedal_tailless",
                  "_deepnote_index_column": 700
                },
                {
                  "Number": 702,
                  "Name": "Dedenne",
                  "Type_1": "Electric",
                  "Type_2": "Fairy",
                  "Total": 431,
                  "HP": 67,
                  "Attack": 58,
                  "Defense": 57,
                  "Sp_Atk": 81,
                  "Sp_Def": 67,
                  "Speed": 101,
                  "isLegendary": false,
                  "Color": "Yellow",
                  "hasGender": true,
                  "Pr_Male": "0.5",
                  "Egg_Group_1": "Field",
                  "Egg_Group_2": "Fairy",
                  "hasMegaEvolution": false,
                  "Height_m": 0.2,
                  "Weight_kg": 2.2,
                  "Catch_Rate": 180,
                  "Body_Style": "bipedal_tailed",
                  "_deepnote_index_column": 701
                },
                {
                  "Number": 703,
                  "Name": "Carbink",
                  "Type_1": "Rock",
                  "Type_2": "Fairy",
                  "Total": 500,
                  "HP": 50,
                  "Attack": 50,
                  "Defense": 150,
                  "Sp_Atk": 50,
                  "Sp_Def": 150,
                  "Speed": 50,
                  "isLegendary": false,
                  "Color": "Grey",
                  "hasGender": false,
                  "Pr_Male": "nan",
                  "Egg_Group_1": "Fairy",
                  "Egg_Group_2": "Mineral",
                  "hasMegaEvolution": false,
                  "Height_m": 0.3,
                  "Weight_kg": 5.7,
                  "Catch_Rate": 60,
                  "Body_Style": "head_only",
                  "_deepnote_index_column": 702
                },
                {
                  "Number": 704,
                  "Name": "Goomy",
                  "Type_1": "Dragon",
                  "Type_2": "nan",
                  "Total": 300,
                  "HP": 45,
                  "Attack": 50,
                  "Defense": 35,
                  "Sp_Atk": 55,
                  "Sp_Def": 75,
                  "Speed": 40,
                  "isLegendary": false,
                  "Color": "Purple",
                  "hasGender": true,
                  "Pr_Male": "0.5",
                  "Egg_Group_1": "Dragon",
                  "Egg_Group_2": "nan",
                  "hasMegaEvolution": false,
                  "Height_m": 0.3,
                  "Weight_kg": 2.8,
                  "Catch_Rate": 45,
                  "Body_Style": "serpentine_body",
                  "_deepnote_index_column": 703
                },
                {
                  "Number": 705,
                  "Name": "Sliggoo",
                  "Type_1": "Dragon",
                  "Type_2": "nan",
                  "Total": 452,
                  "HP": 68,
                  "Attack": 75,
                  "Defense": 53,
                  "Sp_Atk": 83,
                  "Sp_Def": 113,
                  "Speed": 60,
                  "isLegendary": false,
                  "Color": "Purple",
                  "hasGender": true,
                  "Pr_Male": "0.5",
                  "Egg_Group_1": "Dragon",
                  "Egg_Group_2": "nan",
                  "hasMegaEvolution": false,
                  "Height_m": 0.79,
                  "Weight_kg": 17.5,
                  "Catch_Rate": 45,
                  "Body_Style": "serpentine_body",
                  "_deepnote_index_column": 704
                },
                {
                  "Number": 706,
                  "Name": "Goodra",
                  "Type_1": "Dragon",
                  "Type_2": "nan",
                  "Total": 600,
                  "HP": 90,
                  "Attack": 100,
                  "Defense": 70,
                  "Sp_Atk": 110,
                  "Sp_Def": 150,
                  "Speed": 80,
                  "isLegendary": false,
                  "Color": "Purple",
                  "hasGender": true,
                  "Pr_Male": "0.5",
                  "Egg_Group_1": "Dragon",
                  "Egg_Group_2": "nan",
                  "hasMegaEvolution": false,
                  "Height_m": 2.01,
                  "Weight_kg": 150.5,
                  "Catch_Rate": 45,
                  "Body_Style": "bipedal_tailed",
                  "_deepnote_index_column": 705
                },
                {
                  "Number": 707,
                  "Name": "Klefki",
                  "Type_1": "Steel",
                  "Type_2": "Fairy",
                  "Total": 470,
                  "HP": 57,
                  "Attack": 80,
                  "Defense": 91,
                  "Sp_Atk": 80,
                  "Sp_Def": 87,
                  "Speed": 75,
                  "isLegendary": false,
                  "Color": "Grey",
                  "hasGender": true,
                  "Pr_Male": "0.5",
                  "Egg_Group_1": "Mineral",
                  "Egg_Group_2": "nan",
                  "hasMegaEvolution": false,
                  "Height_m": 0.2,
                  "Weight_kg": 3,
                  "Catch_Rate": 75,
                  "Body_Style": "head_only",
                  "_deepnote_index_column": 706
                },
                {
                  "Number": 708,
                  "Name": "Phantump",
                  "Type_1": "Ghost",
                  "Type_2": "Grass",
                  "Total": 309,
                  "HP": 43,
                  "Attack": 70,
                  "Defense": 48,
                  "Sp_Atk": 50,
                  "Sp_Def": 60,
                  "Speed": 38,
                  "isLegendary": false,
                  "Color": "Brown",
                  "hasGender": true,
                  "Pr_Male": "0.5",
                  "Egg_Group_1": "Grass",
                  "Egg_Group_2": "Amorphous",
                  "hasMegaEvolution": false,
                  "Height_m": 0.41,
                  "Weight_kg": 7,
                  "Catch_Rate": 120,
                  "Body_Style": "head_arms",
                  "_deepnote_index_column": 707
                },
                {
                  "Number": 709,
                  "Name": "Trevenant",
                  "Type_1": "Ghost",
                  "Type_2": "Grass",
                  "Total": 474,
                  "HP": 85,
                  "Attack": 110,
                  "Defense": 76,
                  "Sp_Atk": 65,
                  "Sp_Def": 82,
                  "Speed": 56,
                  "isLegendary": false,
                  "Color": "Brown",
                  "hasGender": true,
                  "Pr_Male": "0.5",
                  "Egg_Group_1": "Grass",
                  "Egg_Group_2": "Amorphous",
                  "hasMegaEvolution": false,
                  "Height_m": 1.5,
                  "Weight_kg": 71,
                  "Catch_Rate": 60,
                  "Body_Style": "several_limbs",
                  "_deepnote_index_column": 708
                },
                {
                  "Number": 710,
                  "Name": "Pumpkaboo",
                  "Type_1": "Ghost",
                  "Type_2": "Grass",
                  "Total": 335,
                  "HP": 49,
                  "Attack": 66,
                  "Defense": 70,
                  "Sp_Atk": 44,
                  "Sp_Def": 55,
                  "Speed": 51,
                  "isLegendary": false,
                  "Color": "Brown",
                  "hasGender": true,
                  "Pr_Male": "0.5",
                  "Egg_Group_1": "Amorphous",
                  "Egg_Group_2": "nan",
                  "hasMegaEvolution": false,
                  "Height_m": 0.41,
                  "Weight_kg": 5,
                  "Catch_Rate": 120,
                  "Body_Style": "head_only",
                  "_deepnote_index_column": 709
                },
                {
                  "Number": 711,
                  "Name": "Gourgeist",
                  "Type_1": "Ghost",
                  "Type_2": "Grass",
                  "Total": 494,
                  "HP": 65,
                  "Attack": 90,
                  "Defense": 122,
                  "Sp_Atk": 58,
                  "Sp_Def": 75,
                  "Speed": 84,
                  "isLegendary": false,
                  "Color": "Brown",
                  "hasGender": true,
                  "Pr_Male": "0.5",
                  "Egg_Group_1": "Amorphous",
                  "Egg_Group_2": "nan",
                  "hasMegaEvolution": false,
                  "Height_m": 1.7,
                  "Weight_kg": 39,
                  "Catch_Rate": 60,
                  "Body_Style": "head_base",
                  "_deepnote_index_column": 710
                },
                {
                  "Number": 712,
                  "Name": "Bergmite",
                  "Type_1": "Ice",
                  "Type_2": "nan",
                  "Total": 304,
                  "HP": 55,
                  "Attack": 69,
                  "Defense": 85,
                  "Sp_Atk": 32,
                  "Sp_Def": 35,
                  "Speed": 28,
                  "isLegendary": false,
                  "Color": "Blue",
                  "hasGender": true,
                  "Pr_Male": "0.5",
                  "Egg_Group_1": "Monster",
                  "Egg_Group_2": "nan",
                  "hasMegaEvolution": false,
                  "Height_m": 0.99,
                  "Weight_kg": 99.5,
                  "Catch_Rate": 190,
                  "Body_Style": "quadruped",
                  "_deepnote_index_column": 711
                },
                {
                  "Number": 713,
                  "Name": "Avalugg",
                  "Type_1": "Ice",
                  "Type_2": "nan",
                  "Total": 514,
                  "HP": 95,
                  "Attack": 117,
                  "Defense": 184,
                  "Sp_Atk": 44,
                  "Sp_Def": 46,
                  "Speed": 28,
                  "isLegendary": false,
                  "Color": "Blue",
                  "hasGender": true,
                  "Pr_Male": "0.5",
                  "Egg_Group_1": "Monster",
                  "Egg_Group_2": "nan",
                  "hasMegaEvolution": false,
                  "Height_m": 2.01,
                  "Weight_kg": 505,
                  "Catch_Rate": 55,
                  "Body_Style": "quadruped",
                  "_deepnote_index_column": 712
                },
                {
                  "Number": 714,
                  "Name": "Noibat",
                  "Type_1": "Flying",
                  "Type_2": "Dragon",
                  "Total": 245,
                  "HP": 40,
                  "Attack": 30,
                  "Defense": 35,
                  "Sp_Atk": 45,
                  "Sp_Def": 40,
                  "Speed": 55,
                  "isLegendary": false,
                  "Color": "Purple",
                  "hasGender": true,
                  "Pr_Male": "0.5",
                  "Egg_Group_1": "Flying",
                  "Egg_Group_2": "nan",
                  "hasMegaEvolution": false,
                  "Height_m": 0.51,
                  "Weight_kg": 8,
                  "Catch_Rate": 190,
                  "Body_Style": "two_wings",
                  "_deepnote_index_column": 713
                },
                {
                  "Number": 715,
                  "Name": "Noivern",
                  "Type_1": "Flying",
                  "Type_2": "Dragon",
                  "Total": 535,
                  "HP": 85,
                  "Attack": 70,
                  "Defense": 80,
                  "Sp_Atk": 97,
                  "Sp_Def": 80,
                  "Speed": 123,
                  "isLegendary": false,
                  "Color": "Purple",
                  "hasGender": true,
                  "Pr_Male": "0.5",
                  "Egg_Group_1": "Flying",
                  "Egg_Group_2": "nan",
                  "hasMegaEvolution": false,
                  "Height_m": 1.5,
                  "Weight_kg": 85,
                  "Catch_Rate": 45,
                  "Body_Style": "two_wings",
                  "_deepnote_index_column": 714
                },
                {
                  "Number": 716,
                  "Name": "Xerneas",
                  "Type_1": "Fairy",
                  "Type_2": "nan",
                  "Total": 680,
                  "HP": 126,
                  "Attack": 131,
                  "Defense": 95,
                  "Sp_Atk": 131,
                  "Sp_Def": 98,
                  "Speed": 99,
                  "isLegendary": true,
                  "Color": "Blue",
                  "hasGender": false,
                  "Pr_Male": "nan",
                  "Egg_Group_1": "Undiscovered",
                  "Egg_Group_2": "nan",
                  "hasMegaEvolution": false,
                  "Height_m": 3,
                  "Weight_kg": 215,
                  "Catch_Rate": 45,
                  "Body_Style": "quadruped",
                  "_deepnote_index_column": 715
                },
                {
                  "Number": 717,
                  "Name": "Yveltal",
                  "Type_1": "Dark",
                  "Type_2": "Flying",
                  "Total": 680,
                  "HP": 126,
                  "Attack": 131,
                  "Defense": 95,
                  "Sp_Atk": 131,
                  "Sp_Def": 98,
                  "Speed": 99,
                  "isLegendary": true,
                  "Color": "Red",
                  "hasGender": false,
                  "Pr_Male": "nan",
                  "Egg_Group_1": "Undiscovered",
                  "Egg_Group_2": "nan",
                  "hasMegaEvolution": false,
                  "Height_m": 5.79,
                  "Weight_kg": 203,
                  "Catch_Rate": 45,
                  "Body_Style": "two_wings",
                  "_deepnote_index_column": 716
                },
                {
                  "Number": 718,
                  "Name": "Zygarde",
                  "Type_1": "Dragon",
                  "Type_2": "Ground",
                  "Total": 600,
                  "HP": 108,
                  "Attack": 100,
                  "Defense": 121,
                  "Sp_Atk": 81,
                  "Sp_Def": 95,
                  "Speed": 95,
                  "isLegendary": true,
                  "Color": "Green",
                  "hasGender": false,
                  "Pr_Male": "nan",
                  "Egg_Group_1": "Undiscovered",
                  "Egg_Group_2": "nan",
                  "hasMegaEvolution": false,
                  "Height_m": 5,
                  "Weight_kg": 305,
                  "Catch_Rate": 3,
                  "Body_Style": "serpentine_body",
                  "_deepnote_index_column": 717
                },
                {
                  "Number": 719,
                  "Name": "Diancie",
                  "Type_1": "Rock",
                  "Type_2": "Fairy",
                  "Total": 600,
                  "HP": 50,
                  "Attack": 100,
                  "Defense": 150,
                  "Sp_Atk": 100,
                  "Sp_Def": 150,
                  "Speed": 50,
                  "isLegendary": true,
                  "Color": "Pink",
                  "hasGender": false,
                  "Pr_Male": "nan",
                  "Egg_Group_1": "Undiscovered",
                  "Egg_Group_2": "nan",
                  "hasMegaEvolution": true,
                  "Height_m": 0.71,
                  "Weight_kg": 8.8,
                  "Catch_Rate": 3,
                  "Body_Style": "head_arms",
                  "_deepnote_index_column": 718
                },
                {
                  "Number": 720,
                  "Name": "Hoopa",
                  "Type_1": "Psychic",
                  "Type_2": "Ghost",
                  "Total": 600,
                  "HP": 80,
                  "Attack": 110,
                  "Defense": 60,
                  "Sp_Atk": 150,
                  "Sp_Def": 130,
                  "Speed": 70,
                  "isLegendary": true,
                  "Color": "Purple",
                  "hasGender": false,
                  "Pr_Male": "nan",
                  "Egg_Group_1": "Undiscovered",
                  "Egg_Group_2": "nan",
                  "hasMegaEvolution": false,
                  "Height_m": 0.51,
                  "Weight_kg": 9,
                  "Catch_Rate": 3,
                  "Body_Style": "head_only",
                  "_deepnote_index_column": 719
                },
                {
                  "Number": 721,
                  "Name": "Volcanion",
                  "Type_1": "Fire",
                  "Type_2": "Water",
                  "Total": 600,
                  "HP": 80,
                  "Attack": 110,
                  "Defense": 120,
                  "Sp_Atk": 130,
                  "Sp_Def": 90,
                  "Speed": 70,
                  "isLegendary": true,
                  "Color": "Brown",
                  "hasGender": false,
                  "Pr_Male": "nan",
                  "Egg_Group_1": "Undiscovered",
                  "Egg_Group_2": "nan",
                  "hasMegaEvolution": false,
                  "Height_m": 1.7,
                  "Weight_kg": 195,
                  "Catch_Rate": 3,
                  "Body_Style": "quadruped",
                  "_deepnote_index_column": 720
                }
              ]
            },
            "text/plain": "     Number        Name   Type_1  Type_2  Total   HP  Attack  Defense  Sp_Atk  \\\n0         1   Bulbasaur    Grass  Poison    318   45      49       49      65   \n1         2     Ivysaur    Grass  Poison    405   60      62       63      80   \n2         3    Venusaur    Grass  Poison    525   80      82       83     100   \n3         4  Charmander     Fire     NaN    309   39      52       43      60   \n4         5  Charmeleon     Fire     NaN    405   58      64       58      80   \n..      ...         ...      ...     ...    ...  ...     ...      ...     ...   \n716     717     Yveltal     Dark  Flying    680  126     131       95     131   \n717     718     Zygarde   Dragon  Ground    600  108     100      121      81   \n718     719     Diancie     Rock   Fairy    600   50     100      150     100   \n719     720       Hoopa  Psychic   Ghost    600   80     110       60     150   \n720     721   Volcanion     Fire   Water    600   80     110      120     130   \n\n     Sp_Def  ...   Color  hasGender Pr_Male   Egg_Group_1  Egg_Group_2  \\\n0        65  ...   Green       True   0.875       Monster        Grass   \n1        80  ...   Green       True   0.875       Monster        Grass   \n2       100  ...   Green       True   0.875       Monster        Grass   \n3        50  ...     Red       True   0.875       Monster       Dragon   \n4        65  ...     Red       True   0.875       Monster       Dragon   \n..      ...  ...     ...        ...     ...           ...          ...   \n716      98  ...     Red      False     NaN  Undiscovered          NaN   \n717      95  ...   Green      False     NaN  Undiscovered          NaN   \n718     150  ...    Pink      False     NaN  Undiscovered          NaN   \n719     130  ...  Purple      False     NaN  Undiscovered          NaN   \n720      90  ...   Brown      False     NaN  Undiscovered          NaN   \n\n    hasMegaEvolution Height_m  Weight_kg  Catch_Rate       Body_Style  \n0              False     0.71        6.9          45        quadruped  \n1              False     0.99       13.0          45        quadruped  \n2               True     2.01      100.0          45        quadruped  \n3              False     0.61        8.5          45   bipedal_tailed  \n4              False     1.09       19.0          45   bipedal_tailed  \n..               ...      ...        ...         ...              ...  \n716            False     5.79      203.0          45        two_wings  \n717            False     5.00      305.0           3  serpentine_body  \n718             True     0.71        8.8           3        head_arms  \n719            False     0.51        9.0           3        head_only  \n720            False     1.70      195.0           3        quadruped  \n\n[721 rows x 22 columns]",
            "text/html": "<div>\n<style scoped>\n    .dataframe tbody tr th:only-of-type {\n        vertical-align: middle;\n    }\n\n    .dataframe tbody tr th {\n        vertical-align: top;\n    }\n\n    .dataframe thead th {\n        text-align: right;\n    }\n</style>\n<table border=\"1\" class=\"dataframe\">\n  <thead>\n    <tr style=\"text-align: right;\">\n      <th></th>\n      <th>Number</th>\n      <th>Name</th>\n      <th>Type_1</th>\n      <th>Type_2</th>\n      <th>Total</th>\n      <th>HP</th>\n      <th>Attack</th>\n      <th>Defense</th>\n      <th>Sp_Atk</th>\n      <th>Sp_Def</th>\n      <th>...</th>\n      <th>Color</th>\n      <th>hasGender</th>\n      <th>Pr_Male</th>\n      <th>Egg_Group_1</th>\n      <th>Egg_Group_2</th>\n      <th>hasMegaEvolution</th>\n      <th>Height_m</th>\n      <th>Weight_kg</th>\n      <th>Catch_Rate</th>\n      <th>Body_Style</th>\n    </tr>\n  </thead>\n  <tbody>\n    <tr>\n      <th>0</th>\n      <td>1</td>\n      <td>Bulbasaur</td>\n      <td>Grass</td>\n      <td>Poison</td>\n      <td>318</td>\n      <td>45</td>\n      <td>49</td>\n      <td>49</td>\n      <td>65</td>\n      <td>65</td>\n      <td>...</td>\n      <td>Green</td>\n      <td>True</td>\n      <td>0.875</td>\n      <td>Monster</td>\n      <td>Grass</td>\n      <td>False</td>\n      <td>0.71</td>\n      <td>6.9</td>\n      <td>45</td>\n      <td>quadruped</td>\n    </tr>\n    <tr>\n      <th>1</th>\n      <td>2</td>\n      <td>Ivysaur</td>\n      <td>Grass</td>\n      <td>Poison</td>\n      <td>405</td>\n      <td>60</td>\n      <td>62</td>\n      <td>63</td>\n      <td>80</td>\n      <td>80</td>\n      <td>...</td>\n      <td>Green</td>\n      <td>True</td>\n      <td>0.875</td>\n      <td>Monster</td>\n      <td>Grass</td>\n      <td>False</td>\n      <td>0.99</td>\n      <td>13.0</td>\n      <td>45</td>\n      <td>quadruped</td>\n    </tr>\n    <tr>\n      <th>2</th>\n      <td>3</td>\n      <td>Venusaur</td>\n      <td>Grass</td>\n      <td>Poison</td>\n      <td>525</td>\n      <td>80</td>\n      <td>82</td>\n      <td>83</td>\n      <td>100</td>\n      <td>100</td>\n      <td>...</td>\n      <td>Green</td>\n      <td>True</td>\n      <td>0.875</td>\n      <td>Monster</td>\n      <td>Grass</td>\n      <td>True</td>\n      <td>2.01</td>\n      <td>100.0</td>\n      <td>45</td>\n      <td>quadruped</td>\n    </tr>\n    <tr>\n      <th>3</th>\n      <td>4</td>\n      <td>Charmander</td>\n      <td>Fire</td>\n      <td>NaN</td>\n      <td>309</td>\n      <td>39</td>\n      <td>52</td>\n      <td>43</td>\n      <td>60</td>\n      <td>50</td>\n      <td>...</td>\n      <td>Red</td>\n      <td>True</td>\n      <td>0.875</td>\n      <td>Monster</td>\n      <td>Dragon</td>\n      <td>False</td>\n      <td>0.61</td>\n      <td>8.5</td>\n      <td>45</td>\n      <td>bipedal_tailed</td>\n    </tr>\n    <tr>\n      <th>4</th>\n      <td>5</td>\n      <td>Charmeleon</td>\n      <td>Fire</td>\n      <td>NaN</td>\n      <td>405</td>\n      <td>58</td>\n      <td>64</td>\n      <td>58</td>\n      <td>80</td>\n      <td>65</td>\n      <td>...</td>\n      <td>Red</td>\n      <td>True</td>\n      <td>0.875</td>\n      <td>Monster</td>\n      <td>Dragon</td>\n      <td>False</td>\n      <td>1.09</td>\n      <td>19.0</td>\n      <td>45</td>\n      <td>bipedal_tailed</td>\n    </tr>\n    <tr>\n      <th>...</th>\n      <td>...</td>\n      <td>...</td>\n      <td>...</td>\n      <td>...</td>\n      <td>...</td>\n      <td>...</td>\n      <td>...</td>\n      <td>...</td>\n      <td>...</td>\n      <td>...</td>\n      <td>...</td>\n      <td>...</td>\n      <td>...</td>\n      <td>...</td>\n      <td>...</td>\n      <td>...</td>\n      <td>...</td>\n      <td>...</td>\n      <td>...</td>\n      <td>...</td>\n      <td>...</td>\n    </tr>\n    <tr>\n      <th>716</th>\n      <td>717</td>\n      <td>Yveltal</td>\n      <td>Dark</td>\n      <td>Flying</td>\n      <td>680</td>\n      <td>126</td>\n      <td>131</td>\n      <td>95</td>\n      <td>131</td>\n      <td>98</td>\n      <td>...</td>\n      <td>Red</td>\n      <td>False</td>\n      <td>NaN</td>\n      <td>Undiscovered</td>\n      <td>NaN</td>\n      <td>False</td>\n      <td>5.79</td>\n      <td>203.0</td>\n      <td>45</td>\n      <td>two_wings</td>\n    </tr>\n    <tr>\n      <th>717</th>\n      <td>718</td>\n      <td>Zygarde</td>\n      <td>Dragon</td>\n      <td>Ground</td>\n      <td>600</td>\n      <td>108</td>\n      <td>100</td>\n      <td>121</td>\n      <td>81</td>\n      <td>95</td>\n      <td>...</td>\n      <td>Green</td>\n      <td>False</td>\n      <td>NaN</td>\n      <td>Undiscovered</td>\n      <td>NaN</td>\n      <td>False</td>\n      <td>5.00</td>\n      <td>305.0</td>\n      <td>3</td>\n      <td>serpentine_body</td>\n    </tr>\n    <tr>\n      <th>718</th>\n      <td>719</td>\n      <td>Diancie</td>\n      <td>Rock</td>\n      <td>Fairy</td>\n      <td>600</td>\n      <td>50</td>\n      <td>100</td>\n      <td>150</td>\n      <td>100</td>\n      <td>150</td>\n      <td>...</td>\n      <td>Pink</td>\n      <td>False</td>\n      <td>NaN</td>\n      <td>Undiscovered</td>\n      <td>NaN</td>\n      <td>True</td>\n      <td>0.71</td>\n      <td>8.8</td>\n      <td>3</td>\n      <td>head_arms</td>\n    </tr>\n    <tr>\n      <th>719</th>\n      <td>720</td>\n      <td>Hoopa</td>\n      <td>Psychic</td>\n      <td>Ghost</td>\n      <td>600</td>\n      <td>80</td>\n      <td>110</td>\n      <td>60</td>\n      <td>150</td>\n      <td>130</td>\n      <td>...</td>\n      <td>Purple</td>\n      <td>False</td>\n      <td>NaN</td>\n      <td>Undiscovered</td>\n      <td>NaN</td>\n      <td>False</td>\n      <td>0.51</td>\n      <td>9.0</td>\n      <td>3</td>\n      <td>head_only</td>\n    </tr>\n    <tr>\n      <th>720</th>\n      <td>721</td>\n      <td>Volcanion</td>\n      <td>Fire</td>\n      <td>Water</td>\n      <td>600</td>\n      <td>80</td>\n      <td>110</td>\n      <td>120</td>\n      <td>130</td>\n      <td>90</td>\n      <td>...</td>\n      <td>Brown</td>\n      <td>False</td>\n      <td>NaN</td>\n      <td>Undiscovered</td>\n      <td>NaN</td>\n      <td>False</td>\n      <td>1.70</td>\n      <td>195.0</td>\n      <td>3</td>\n      <td>quadruped</td>\n    </tr>\n  </tbody>\n</table>\n<p>721 rows × 22 columns</p>\n</div>"
          },
          "metadata": {}
        }
      ]
    },
    {
      "cell_type": "code",
      "metadata": {
        "id": "aMG_pySFlKng",
        "cell_id": "00035-00f66bf1-a83c-4cf8-8279-c4a5b2f15748",
        "deepnote_to_be_reexecuted": false,
        "source_hash": "6ff3dd21",
        "execution_millis": 3,
        "execution_start": 1615538794168,
        "deepnote_cell_type": "code"
      },
      "source": "X_train, X_test, y_train, y_test = train_test_split(X, y, test_size=0.2, random_state=42)\nX_train_2, X_validation, y_train_2, y_validation = train_test_split(X_train, y_train, test_size=0.2, random_state=42)",
      "execution_count": 45,
      "outputs": []
    },
    {
      "cell_type": "markdown",
      "source": "### **Transform/Prepare for ML**",
      "metadata": {
        "id": "EqxcaVZQSZE_",
        "cell_id": "00036-1461ccab-36d7-4ee8-b596-0e3c5e9421e6",
        "deepnote_cell_type": "markdown"
      }
    },
    {
      "cell_type": "code",
      "metadata": {
        "tags": [],
        "cell_id": "00040-2db11bcc-9652-4ad0-acf5-0a27cf3a6970",
        "deepnote_to_be_reexecuted": false,
        "source_hash": "aed5ff5a",
        "execution_millis": 3,
        "execution_start": 1615538309970,
        "deepnote_cell_type": "code"
      },
      "source": "num_columns = ['Number','Total', 'HP', 'Attack', 'Defense', 'Sp_Atk', 'Sp_Def', 'Speed', 'Height_m', 'Catch_Rate']\ncat_columns = ['Name','Type_1', 'Type_2', 'Color', 'Egg_Group_1', 'Egg_Group_2', 'Body_Style']",
      "execution_count": 22,
      "outputs": []
    },
    {
      "cell_type": "code",
      "metadata": {
        "id": "n4g7lo_tLZIq",
        "cell_id": "00038-9c49ef3f-d6ce-4d62-b22a-0bc5631a2968",
        "deepnote_to_be_reexecuted": false,
        "source_hash": "d4f9185e",
        "execution_millis": 4,
        "execution_start": 1615538310225,
        "deepnote_cell_type": "code"
      },
      "source": "cat_pipe = Pipeline([ ('imputer', SimpleImputer(strategy='constant', fill_value='missing')),\n                      ('ohe', OneHotEncoder(handle_unknown='ignore'))])\n\nnum_pipe = Pipeline([('imputer', SimpleImputer(strategy='median')),\n                      ('scaler', StandardScaler())])\n\npreprocessing = ColumnTransformer([('categorical', cat_pipe,  cat_columns),\n                                   ('numerical',  num_pipe, num_columns)])\n",
      "execution_count": 23,
      "outputs": []
    },
    {
      "cell_type": "markdown",
      "source": "### **Try Models**",
      "metadata": {
        "tags": [],
        "cell_id": "00043-439ce379-a6f3-4620-a20c-9cd23d5f8900",
        "deepnote_cell_type": "markdown"
      }
    },
    {
      "cell_type": "code",
      "metadata": {
        "tags": [],
        "cell_id": "00042-73e5ca72-180a-46b3-9446-fe9dbf4196a3",
        "deepnote_to_be_reexecuted": false,
        "source_hash": "e3307c3a",
        "execution_millis": 1138,
        "execution_start": 1615538343199,
        "deepnote_cell_type": "code"
      },
      "source": "algorithms = algos = [RandomForestClassifier(),\n             ExtraTreesClassifier(),\n             IsolationForest(),\n             LogisticRegression(),\n             PassiveAggressiveClassifier(),\n             RidgeClassifier(),\n             SGDClassifier(),\n             DecisionTreeClassifier()]\n\nresults = dict()\n\nfor algo in algorithms:\n    pipe = Pipeline([('preprocessing', preprocessing), \n                     ('clf', algo)])\n\n    pipe.fit(X_train_2, y_train_2)\n    y_pred = pipe.predict(X_validation)\n    f1_test  = f1_score(y_validation, y_pred, average='weighted')\n    accuracy = accuracy_score(y_validation, y_pred)\n    print(f\"{algo.__class__.__name__:<17} - f1_score: {f1_test:,.2f}\")\n    print(f\"{algo.__class__.__name__:<17} - accuracy: {accuracy:,.2f}\\n\")",
      "execution_count": 25,
      "outputs": [
        {
          "name": "stdout",
          "text": "RandomForestClassifier - f1_score: 0.82\nRandomForestClassifier - accuracy: 0.84\n\nExtraTreesClassifier - f1_score: 0.69\nExtraTreesClassifier - accuracy: 0.72\n\nIsolationForest   - f1_score: 0.10\nIsolationForest   - accuracy: 0.25\n\nLogisticRegression - f1_score: 0.65\nLogisticRegression - accuracy: 0.67\n\nPassiveAggressiveClassifier - f1_score: 0.62\nPassiveAggressiveClassifier - accuracy: 0.64\n\nRidgeClassifier   - f1_score: 0.50\nRidgeClassifier   - accuracy: 0.53\n\nSGDClassifier     - f1_score: 0.57\nSGDClassifier     - accuracy: 0.59\n\nDecisionTreeClassifier - f1_score: 1.00\nDecisionTreeClassifier - accuracy: 1.00\n\n",
          "output_type": "stream"
        }
      ]
    },
    {
      "cell_type": "code",
      "metadata": {
        "id": "sXIirQ5hLZA4",
        "cell_id": "00039-3ce2f661-bd67-4231-9231-212d7b6f6e9e",
        "deepnote_to_be_reexecuted": false,
        "source_hash": "f35ece7",
        "execution_millis": 7,
        "execution_start": 1615430608269,
        "deepnote_cell_type": "code"
      },
      "source": "# Random Search and CV to tune hyperparameters",
      "execution_count": null,
      "outputs": []
    },
    {
      "cell_type": "code",
      "metadata": {
        "tags": [],
        "cell_id": "00044-2de11bf2-e8e2-41da-a9db-401e54a6aa96",
        "deepnote_to_be_reexecuted": false,
        "source_hash": "5f313d2a",
        "execution_millis": 4,
        "execution_start": 1615431367636,
        "deepnote_cell_type": "code"
      },
      "source": "class DummyEstimator(BaseEstimator):\n    def fit(self): pass\n    def score(self): pass\n\npipe = Pipeline([('preprocessing', preprocessing), \n                 ('clf', DummyEstimator())])",
      "execution_count": null,
      "outputs": []
    },
    {
      "cell_type": "markdown",
      "source": "### **Select Models**",
      "metadata": {
        "tags": [],
        "cell_id": "00047-7895bc66-cce4-4fc5-8182-db4d4767d2e8",
        "deepnote_cell_type": "markdown"
      }
    },
    {
      "cell_type": "code",
      "metadata": {
        "id": "uHGJ6jRcE3Pq",
        "cell_id": "00042-f7dbc12e-3a85-468a-84a3-5d09f400e5fe",
        "deepnote_to_be_reexecuted": false,
        "source_hash": "4974f3c",
        "execution_millis": 10,
        "execution_start": 1615431568359,
        "deepnote_cell_type": "code"
      },
      "source": "search_space = [{'clf': [LogisticRegression()], \n                 'clf__penalty': ['l1', 'l2'],\n                 'clf__C': np.logspace(0, 4, 10),\n                 'clf__multi_class' : ['auto', 'multinomial', 'ovr'],\n                 'clf__solver' : ['newton-cg', 'lbfgs'],\n                 'clf__class_weight' : ['balanced', None]},\n                \n                {'clf': [RandomForestClassifier()],\n                'clf__bootstrap': [False,True],\n                'clf__class_weight': [None, 'balanced'],\n                'clf__criterion': ['gini', 'entropy'],\n                'clf__max_depth': [50, 100, 150, 200, 500],\n                'clf__max_features': ['auto','sqrt', 'log2'],\n                'clf__min_samples_leaf': [1,2,3],\n                'clf__min_weight_fraction_leaf': [0.0, 0.1],\n                'clf__n_estimators': [10,100,500]},\n                \n                {'clf': [ExtraTreesClassifier()],\n                'clf__bootstrap': [False,True],\n                'clf__class_weight': [None, 'balanced'],\n                'clf__criterion': ['gini', 'entropy'],\n                'clf__max_depth': [50, 100, 150, 200, 500],\n                'clf__max_features': ['auto','sqrt', 'log2'],\n                'clf__min_samples_leaf': [1,2,3],\n                'clf__min_weight_fraction_leaf': [0.0, 0.1],\n                'clf__n_estimators': [10,100,500]},\n\n                {'clf': [PassiveAggressiveClassifier()],\n                'clf__max_iter': [100, 500, 1000, 1500],\n                'clf__early_stopping': [False,True],\n                'clf__shuffle': [False,True],\n                'clf__warm_start': [False,True]}]",
      "execution_count": null,
      "outputs": []
    },
    {
      "cell_type": "code",
      "metadata": {
        "id": "Oqcg7i-0GY1z",
        "cell_id": "00047-96efe5e9-3394-4361-9fb3-6321e1e2bb74",
        "deepnote_to_be_reexecuted": false,
        "source_hash": "c88c67d6",
        "execution_millis": 5,
        "execution_start": 1615431376727,
        "deepnote_cell_type": "code"
      },
      "source": "clf_algos_rand = RandomizedSearchCV(estimator=pipe, \n                                    param_distributions=search_space, \n                                    n_iter=50,\n                                    cv=5, \n                                    n_jobs=-1,\n                                    verbose=1)",
      "execution_count": null,
      "outputs": []
    },
    {
      "cell_type": "markdown",
      "source": "### **Final Model Selection**",
      "metadata": {
        "tags": [],
        "cell_id": "00050-cbf3160f-5826-4fdd-ab30-6e9303822da2",
        "deepnote_cell_type": "markdown"
      }
    },
    {
      "cell_type": "code",
      "metadata": {
        "cell_id": "00048-5564e0aa-b0ff-4851-9128-9ff3ef110acd",
        "deepnote_to_be_reexecuted": false,
        "source_hash": "90e84ee9",
        "execution_millis": 85110,
        "execution_start": 1615431376732,
        "deepnote_cell_type": "code"
      },
      "source": "# Fit search\nbest_model = clf_algos_rand.fit(X_train_2, y_train_2);\n\n# View best model\nbest_model.best_estimator_.get_params()['clf']\n",
      "execution_count": null,
      "outputs": [
        {
          "name": "stdout",
          "text": "Fitting 5 folds for each of 50 candidates, totalling 250 fits\n",
          "output_type": "stream"
        },
        {
          "output_type": "execute_result",
          "execution_count": 266,
          "data": {
            "text/plain": "LogisticRegression(C=166.81005372000593)"
          },
          "metadata": {}
        }
      ]
    },
    {
      "cell_type": "code",
      "metadata": {
        "tags": [],
        "cell_id": "00049-fed04ebc-ebbb-4ee3-ad5e-5b7e5d24d06a",
        "deepnote_to_be_reexecuted": false,
        "source_hash": "ed0fc542",
        "execution_millis": 0,
        "execution_start": 1615538370907,
        "deepnote_cell_type": "code"
      },
      "source": "pipe = Pipeline([('preprocessing', preprocessing),\n                ('lr', LogisticRegression(C=464.15888336127773, class_weight='balanced', multi_class='multinomial', solver='newton-cg'))])",
      "execution_count": 26,
      "outputs": []
    },
    {
      "cell_type": "code",
      "metadata": {
        "tags": [],
        "cell_id": "00050-91210d0c-543a-4b24-bb44-f5ba29a36d52",
        "deepnote_to_be_reexecuted": false,
        "source_hash": "98459449",
        "execution_millis": 6942,
        "execution_start": 1615538397573,
        "deepnote_cell_type": "code"
      },
      "source": "cv_acc_score = cross_val_score(pipe, X_train, y_train, cv=20,scoring='f1_weighted')\nprint(\"Mean 20-Fold accuracy: {}\".format(np.mean(cv_acc_score)))\ncv_acc_score = cross_val_score(pipe, X_train, y_train, cv=25,scoring='accuracy')\nprint(\"Mean 20-Fold accuracy: {}\".format(np.mean(cv_acc_score)))",
      "execution_count": 27,
      "outputs": [
        {
          "name": "stdout",
          "text": "Mean 20-Fold accuracy: 0.8108512033138953\nMean 20-Fold accuracy: 0.8021014492753623\n",
          "output_type": "stream"
        }
      ]
    },
    {
      "cell_type": "code",
      "metadata": {
        "tags": [],
        "cell_id": "00054-4ba00825-9fb4-4dfb-989b-0ae08b862e79",
        "deepnote_to_be_reexecuted": false,
        "source_hash": "58dde3f1",
        "execution_millis": 6126,
        "execution_start": 1615431599381,
        "deepnote_cell_type": "code"
      },
      "source": "# Taken from: https://www.geeksforgeeks.org/elbow-method-for-optimal-value-of-k-in-kmeans/\n\ndistortions = []\ninertias = []\nmapping1 = {}\nmapping2 = {}\nK = range(1, 15)\n \nfor k in K:\n    # Building and fitting the model\n    kmeanModel = KMeans(n_clusters=k).fit(numerical_df)\n    kmeanModel.fit(numerical_df)\n \n    distortions.append(sum(np.min(cdist(numerical_df, kmeanModel.cluster_centers_,\n                                        'euclidean'), axis=1)) / numerical_df.shape[0])\n    inertias.append(kmeanModel.inertia_)\n \n    mapping1[k] = sum(np.min(cdist(numerical_df, kmeanModel.cluster_centers_,\n                                   'euclidean'), axis=1)) / numerical_df.shape[0]\n    mapping2[k] = kmeanModel.inertia_",
      "execution_count": null,
      "outputs": []
    },
    {
      "cell_type": "code",
      "metadata": {
        "tags": [],
        "cell_id": "00055-f39b0836-96eb-4db4-ad80-a955b4dcf437",
        "deepnote_to_be_reexecuted": false,
        "source_hash": "a90cc4ab",
        "execution_millis": 14,
        "execution_start": 1615429508399,
        "deepnote_cell_type": "code"
      },
      "source": "for key, val in mapping1.items():\n    print(f'{key} : {val}')",
      "execution_count": null,
      "outputs": [
        {
          "name": "stdout",
          "text": "1 : 153.41439064133593\n2 : 108.44172902326667\n3 : 95.49301436102219\n4 : 84.37591847560721\n5 : 81.60319487431507\n6 : 78.08273104682611\n7 : 75.42972345408172\n8 : 73.35230276392481\n9 : 70.26015037987013\n10 : 68.63244712567554\n11 : 66.72454188728305\n12 : 64.49816896729145\n13 : 63.31760292822816\n14 : 62.56704574905595\n",
          "output_type": "stream"
        }
      ]
    },
    {
      "cell_type": "code",
      "metadata": {
        "tags": [],
        "cell_id": "00056-34a73807-92f6-406d-a403-474ce0ad2290",
        "deepnote_to_be_reexecuted": false,
        "source_hash": "5d575a77",
        "execution_millis": 216,
        "execution_start": 1615429512701,
        "deepnote_cell_type": "code"
      },
      "source": "plt.plot(K, distortions, 'bx-')\nplt.xlabel('Values of K')\nplt.ylabel('Distortion')\nplt.title('The Elbow Method using Distortion')\nplt.show()",
      "execution_count": null,
      "outputs": [
        {
          "data": {
            "text/plain": "<Figure size 432x288 with 1 Axes>",
            "image/png": "[encoded data removed]"
          },
          "metadata": {
            "needs_background": "light"
          },
          "output_type": "display_data"
        }
      ]
    },
    {
      "cell_type": "code",
      "metadata": {
        "tags": [],
        "cell_id": "00057-76f1afd3-b6f8-4fa0-b6f6-a0ed0a58ffe4",
        "deepnote_to_be_reexecuted": false,
        "source_hash": "d0e710b6",
        "execution_millis": 11,
        "execution_start": 1615429514883,
        "deepnote_cell_type": "code"
      },
      "source": "for key, val in mapping2.items():\n    print(f'{key} : {val}')",
      "execution_count": null,
      "outputs": [
        {
          "name": "stdout",
          "text": "1 : 21958534.257150874\n2 : 11759198.694452198\n3 : 8109483.077955097\n4 : 6504524.858375606\n5 : 5724724.969864852\n6 : 5308623.185137389\n7 : 4904906.385312851\n8 : 4553081.486674106\n9 : 4230387.543557403\n10 : 3963234.216194416\n11 : 3783211.08466203\n12 : 3581027.557811929\n13 : 3414305.4893134483\n14 : 3294007.2217609053\n",
          "output_type": "stream"
        }
      ]
    },
    {
      "cell_type": "code",
      "metadata": {
        "tags": [],
        "cell_id": "00058-3384d553-0840-4d9e-a13d-a4e7acb1c80b",
        "deepnote_to_be_reexecuted": false,
        "source_hash": "996768f7",
        "execution_millis": 283,
        "execution_start": 1615429519573,
        "deepnote_cell_type": "code"
      },
      "source": "\nplt.plot(K, inertias, 'bx-')\nplt.xlabel('Values of K')\nplt.ylabel('Inertia')\nplt.title('The Elbow Method using Inertia')\nplt.show()",
      "execution_count": null,
      "outputs": [
        {
          "data": {
            "text/plain": "<Figure size 432x288 with 1 Axes>",
            "image/png": "[encoded data removed]"
          },
          "metadata": {
            "needs_background": "light"
          },
          "output_type": "display_data"
        }
      ]
    },
    {
      "cell_type": "code",
      "metadata": {
        "tags": [],
        "cell_id": "00059-261f6ccc-cb27-4d3a-96cf-a41bbbf811ba",
        "deepnote_to_be_reexecuted": false,
        "source_hash": "e5111101",
        "execution_millis": 2,
        "execution_start": 1615538646476,
        "deepnote_cell_type": "code"
      },
      "source": "pipe = Pipeline([('preprocessing', preprocessing),\n                ('k-mean', KMeans(n_clusters=12)),\n                ('clm',  LogisticRegression(C=464.15888336127773, class_weight='balanced', multi_class='multinomial', solver='newton-cg'))])",
      "execution_count": 36,
      "outputs": []
    },
    {
      "cell_type": "code",
      "metadata": {
        "tags": [],
        "cell_id": "00059-d36c11bc-884d-4899-8d6e-674efd5d475e",
        "deepnote_to_be_reexecuted": false,
        "source_hash": "4e0107fe",
        "execution_millis": 10552,
        "execution_start": 1615538433144,
        "deepnote_cell_type": "code"
      },
      "source": "cv_f1_score = cross_val_score(pipe, X_train, y_train, cv=20,scoring='f1_weighted')\nprint(\"Mean 20-Fold accuracy: {}\".format(np.mean(cv_f1_score)))",
      "execution_count": 29,
      "outputs": [
        {
          "name": "stdout",
          "text": "Mean 20-Fold accuracy: 0.8820037789249611\n",
          "output_type": "stream"
        }
      ]
    },
    {
      "cell_type": "markdown",
      "source": "### Test",
      "metadata": {
        "tags": [],
        "cell_id": "00057-8ffc3d74-7d51-43e4-811d-854060709c57",
        "deepnote_cell_type": "markdown"
      }
    },
    {
      "cell_type": "code",
      "source": "pipe = Pipeline([('preprocessing', preprocessing),\n                ('k-mean', KMeans(n_clusters=12)),\n                ('clm',  LogisticRegression(C=464.15888336127773, class_weight='balanced', multi_class='multinomial', solver='newton-cg'))])",
      "metadata": {
        "tags": [],
        "cell_id": "00058-9081e902-d2c3-4a71-ad98-b2dac9d64788",
        "deepnote_to_be_reexecuted": false,
        "source_hash": "e5111101",
        "execution_millis": 1,
        "execution_start": 1615538695288,
        "deepnote_cell_type": "code"
      },
      "outputs": [],
      "execution_count": 41
    },
    {
      "cell_type": "code",
      "source": "cv_f1_score = cross_val_score(pipe, X_test, y_test, cv=10,scoring='f1_weighted')\nprint(\"Mean 20-Fold f1_score: {}\".format(np.mean(cv_f1_score)))\ncv_acc_score = cross_val_score(pipe, X_test, y_test, cv=10,scoring='accuracy')\nprint(\"Mean 20-Fold accuracy: {}\".format(np.mean(cv_acc_score)))",
      "metadata": {
        "tags": [],
        "cell_id": "00057-8af5c968-c45f-4109-8c38-e31ad450dcf5",
        "deepnote_to_be_reexecuted": false,
        "source_hash": "70b4e0ad",
        "execution_millis": 7411,
        "execution_start": 1615538770422,
        "deepnote_cell_type": "code"
      },
      "outputs": [
        {
          "name": "stdout",
          "text": "Mean 20-Fold f1_score: 0.7475403485403485\nMean 20-Fold accuracy: 0.7583076923076922\n",
          "output_type": "stream"
        }
      ],
      "execution_count": 44
    },
    {
      "cell_type": "markdown",
      "source": "# Conclusion\n",
      "metadata": {
        "tags": [],
        "cell_id": "00059-daba3cb0-c0d7-4b27-9a9a-09f40a977cf7",
        "deepnote_cell_type": "markdown"
      }
    },
    {
      "cell_type": "markdown",
      "source": "Conclusion: While the results appeared promising while using the training sets- in the end, the metrics on the test set, which are what is truly important, tells a different story. From baseline model of ~ 0.67 accuracy to ~ 0.747, the tuning and clustering were unsuccessful in creating a \"good\" model in this particular case.\n\nGoing forward: Additional clustering techniques (and assessing via their evaluation metrics) may be a feasible and worthwhile option to explore. Additionally, performing some feature importance/PCA might allow for a simplification of the model (though it is not particularly \"complex\"). Less features allow for better interpretability.\n",
      "metadata": {
        "tags": [],
        "cell_id": "00060-a689ad7a-01df-4293-9936-edd55abeb8bc",
        "deepnote_cell_type": "markdown"
      }
    },
    {
      "cell_type": "markdown",
      "source": "",
      "metadata": {
        "tags": [],
        "cell_id": "00061-d84174d5-ad9f-4ba0-bb7e-4cdbc935fdd8",
        "deepnote_cell_type": "markdown"
      }
    },
    {
      "cell_type": "markdown",
      "source": "<a style='text-decoration:none;line-height:16px;display:flex;color:#5B5B62;padding:10px;justify-content:end;' href='https://deepnote.com?utm_source=created-in-deepnote-cell&projectId=ccb00087-ba61-4db1-ba97-3a0ee74eb21a' target=\"_blank\">\n<img style='display:inline;max-height:16px;margin:0px;margin-right:7.5px;' src='data:image/svg+xml;base64,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' > </img>\nCreated in <span style='font-weight:600;margin-left:4px;'>Deepnote</span></a>",
      "metadata": {
        "tags": [],
        "created_in_deepnote_cell": true,
        "deepnote_cell_type": "markdown"
      }
    }
  ],
  "nbformat": 4,
  "nbformat_minor": 4,
  "metadata": {
    "colab": {
      "collapsed_sections": [],
      "name": "ML_Lab_Final.ipynb",
      "provenance": []
    },
    "kernelspec": {
      "display_name": "Python 3",
      "language": "python",
      "name": "python3"
    },
    "language_info": {
      "codemirror_mode": {
        "name": "ipython",
        "version": 3
      },
      "file_extension": ".py",
      "mimetype": "text/x-python",
      "name": "python",
      "nbconvert_exporter": "python",
      "pygments_lexer": "ipython3",
      "version": "3.7.6"
    },
    "deepnote_notebook_id": "a5fecda0-696f-4bb6-8bdb-81960954b55f",
    "deepnote": {},
    "deepnote_execution_queue": []
  }
}